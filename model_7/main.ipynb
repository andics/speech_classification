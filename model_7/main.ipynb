{
 "cells": [
  {
   "cell_type": "markdown",
   "metadata": {},
   "source": [
    "## Contributions"
   ]
  },
  {
   "cell_type": "code",
   "execution_count": 1,
   "metadata": {
    "id": "cd7hoGhYtbXQ"
   },
   "outputs": [
    {
     "name": "stdout",
     "output_type": "stream",
     "text": [
      "[Info]: Use cuda now!\n"
     ]
    },
    {
     "name": "stderr",
     "output_type": "stream",
     "text": [
      "Train: 100% 2000/2000 [02:37<00:00, 12.69step/s, accuracy=0.03, loss=5.44, step=2000]\n",
      "Valid:  99% 4800/4836 [00:09<00:00, 508.22 uttr/s, accuracy=0.06, loss=5.09]\n",
      "Train: 100% 2000/2000 [01:14<00:00, 26.93step/s, accuracy=0.11, loss=4.47, step=4000]\n",
      "Valid:  99% 4800/4836 [00:02<00:00, 2193.74 uttr/s, accuracy=0.16, loss=4.18]\n",
      "Train:   0% 5/2000 [00:00<01:30, 21.95step/s, accuracy=0.14, loss=4.37, step=4005]"
     ]
    },
    {
     "name": "stdout",
     "output_type": "stream",
     "text": [
      "Step 4000, best model saved. (accuracy=0.1554)\n"
     ]
    },
    {
     "name": "stderr",
     "output_type": "stream",
     "text": [
      "Train: 100% 2000/2000 [01:14<00:00, 26.87step/s, accuracy=0.20, loss=3.79, step=6000]\n",
      "Valid:  99% 4800/4836 [00:02<00:00, 2182.60 uttr/s, accuracy=0.24, loss=3.57]\n",
      "Train: 100% 2000/2000 [01:14<00:00, 26.87step/s, accuracy=0.25, loss=3.37, step=8000]\n",
      "Valid:  99% 4800/4836 [00:02<00:00, 2248.11 uttr/s, accuracy=0.33, loss=3.07]\n",
      "Train:   0% 5/2000 [00:00<01:25, 23.33step/s, accuracy=0.23, loss=3.57, step=8005]"
     ]
    },
    {
     "name": "stdout",
     "output_type": "stream",
     "text": [
      "Step 8000, best model saved. (accuracy=0.3315)\n"
     ]
    },
    {
     "name": "stderr",
     "output_type": "stream",
     "text": [
      "Train: 100% 2000/2000 [01:14<00:00, 26.86step/s, accuracy=0.28, loss=3.17, step=1e+4]\n",
      "Valid:  99% 4800/4836 [00:02<00:00, 2266.30 uttr/s, accuracy=0.36, loss=2.91]\n",
      "Train: 100% 2000/2000 [01:14<00:00, 26.92step/s, accuracy=0.44, loss=2.38, step=12000]\n",
      "Valid:  99% 4800/4836 [00:02<00:00, 2210.01 uttr/s, accuracy=0.40, loss=2.69]\n",
      "Train:   0% 5/2000 [00:00<01:31, 21.87step/s, accuracy=0.47, loss=2.70, step=12005]"
     ]
    },
    {
     "name": "stdout",
     "output_type": "stream",
     "text": [
      "Step 12000, best model saved. (accuracy=0.4027)\n"
     ]
    },
    {
     "name": "stderr",
     "output_type": "stream",
     "text": [
      "Train: 100% 2000/2000 [01:14<00:00, 26.85step/s, accuracy=0.41, loss=2.52, step=14000]\n",
      "Valid:  99% 4800/4836 [00:02<00:00, 2187.63 uttr/s, accuracy=0.44, loss=2.51]\n",
      "Train: 100% 2000/2000 [01:14<00:00, 26.89step/s, accuracy=0.44, loss=2.67, step=16000]\n",
      "Valid:  99% 4800/4836 [00:02<00:00, 2276.21 uttr/s, accuracy=0.48, loss=2.30]\n",
      "Train:   0% 5/2000 [00:00<01:24, 23.56step/s, accuracy=0.41, loss=2.36, step=16005]"
     ]
    },
    {
     "name": "stdout",
     "output_type": "stream",
     "text": [
      "Step 16000, best model saved. (accuracy=0.4846)\n"
     ]
    },
    {
     "name": "stderr",
     "output_type": "stream",
     "text": [
      "Train: 100% 2000/2000 [01:14<00:00, 26.83step/s, accuracy=0.52, loss=2.01, step=18000]\n",
      "Valid:  99% 4800/4836 [00:02<00:00, 2275.77 uttr/s, accuracy=0.50, loss=2.28]\n",
      "Train: 100% 2000/2000 [01:14<00:00, 26.89step/s, accuracy=0.42, loss=2.24, step=2e+4] \n",
      "Valid:  99% 4800/4836 [00:02<00:00, 2209.31 uttr/s, accuracy=0.53, loss=2.13]\n",
      "Train:   0% 5/2000 [00:00<01:29, 22.24step/s, accuracy=0.59, loss=1.89, step=2e+4]"
     ]
    },
    {
     "name": "stdout",
     "output_type": "stream",
     "text": [
      "Step 20000, best model saved. (accuracy=0.5308)\n"
     ]
    },
    {
     "name": "stderr",
     "output_type": "stream",
     "text": [
      "Train: 100% 2000/2000 [01:14<00:00, 26.90step/s, accuracy=0.58, loss=1.66, step=22000]\n",
      "Valid:  99% 4800/4836 [00:02<00:00, 2206.90 uttr/s, accuracy=0.56, loss=2.09]\n",
      "Train: 100% 2000/2000 [01:14<00:00, 26.87step/s, accuracy=0.69, loss=1.61, step=24000]\n",
      "Valid:  99% 4800/4836 [00:02<00:00, 2238.19 uttr/s, accuracy=0.59, loss=1.91]\n",
      "Train:   0% 5/2000 [00:00<01:26, 23.15step/s, accuracy=0.50, loss=2.16, step=24005]"
     ]
    },
    {
     "name": "stdout",
     "output_type": "stream",
     "text": [
      "Step 24000, best model saved. (accuracy=0.5935)\n"
     ]
    },
    {
     "name": "stderr",
     "output_type": "stream",
     "text": [
      "Train: 100% 2000/2000 [01:14<00:00, 26.92step/s, accuracy=0.73, loss=1.09, step=26000]\n",
      "Valid:  99% 4800/4836 [00:02<00:00, 2225.81 uttr/s, accuracy=0.58, loss=2.01]\n",
      "Train: 100% 2000/2000 [01:14<00:00, 26.75step/s, accuracy=0.62, loss=1.35, step=28000]\n",
      "Valid:  99% 4800/4836 [00:02<00:00, 2253.70 uttr/s, accuracy=0.61, loss=1.84]\n",
      "Train:   0% 5/2000 [00:00<01:26, 23.02step/s, accuracy=0.64, loss=1.34, step=28005]"
     ]
    },
    {
     "name": "stdout",
     "output_type": "stream",
     "text": [
      "Step 28000, best model saved. (accuracy=0.6083)\n"
     ]
    },
    {
     "name": "stderr",
     "output_type": "stream",
     "text": [
      "Train: 100% 2000/2000 [01:14<00:00, 26.83step/s, accuracy=0.67, loss=1.25, step=3e+4] \n",
      "Valid:  99% 4800/4836 [00:02<00:00, 2168.02 uttr/s, accuracy=0.62, loss=1.75]\n",
      "Train: 100% 2000/2000 [01:14<00:00, 26.84step/s, accuracy=0.62, loss=1.59, step=32000]\n",
      "Valid:  99% 4800/4836 [00:02<00:00, 2274.86 uttr/s, accuracy=0.64, loss=1.72]\n",
      "Train:   0% 5/2000 [00:00<01:29, 22.39step/s, accuracy=0.66, loss=1.51, step=32005]"
     ]
    },
    {
     "name": "stdout",
     "output_type": "stream",
     "text": [
      "Step 32000, best model saved. (accuracy=0.6385)\n"
     ]
    },
    {
     "name": "stderr",
     "output_type": "stream",
     "text": [
      "Train: 100% 2000/2000 [01:14<00:00, 26.84step/s, accuracy=0.62, loss=1.42, step=34000]\n",
      "Valid:  99% 4800/4836 [00:02<00:00, 2245.14 uttr/s, accuracy=0.64, loss=1.76]\n",
      "Train: 100% 2000/2000 [01:14<00:00, 26.84step/s, accuracy=0.69, loss=1.28, step=36000]\n",
      "Valid:  99% 4800/4836 [00:02<00:00, 2269.52 uttr/s, accuracy=0.66, loss=1.72]\n",
      "Train:   0% 5/2000 [00:00<01:25, 23.46step/s, accuracy=0.64, loss=1.56, step=36005]"
     ]
    },
    {
     "name": "stdout",
     "output_type": "stream",
     "text": [
      "Step 36000, best model saved. (accuracy=0.6567)\n"
     ]
    },
    {
     "name": "stderr",
     "output_type": "stream",
     "text": [
      "Train: 100% 2000/2000 [01:14<00:00, 26.78step/s, accuracy=0.70, loss=1.14, step=38000]\n",
      "Valid:  99% 4800/4836 [00:02<00:00, 2212.02 uttr/s, accuracy=0.67, loss=1.58]\n",
      "Train: 100% 2000/2000 [01:14<00:00, 26.76step/s, accuracy=0.69, loss=1.58, step=4e+4] \n",
      "Valid:  99% 4800/4836 [00:02<00:00, 2227.43 uttr/s, accuracy=0.66, loss=1.65]\n",
      "Train:   0% 5/2000 [00:00<01:27, 22.83step/s, accuracy=0.75, loss=1.17, step=4e+4]"
     ]
    },
    {
     "name": "stdout",
     "output_type": "stream",
     "text": [
      "Step 40000, best model saved. (accuracy=0.6710)\n"
     ]
    },
    {
     "name": "stderr",
     "output_type": "stream",
     "text": [
      "Train: 100% 2000/2000 [01:14<00:00, 26.79step/s, accuracy=0.69, loss=1.14, step=42000]\n",
      "Valid:  99% 4800/4836 [00:02<00:00, 2241.36 uttr/s, accuracy=0.67, loss=1.59]\n",
      "Train: 100% 2000/2000 [01:14<00:00, 26.81step/s, accuracy=0.62, loss=1.61, step=44000]\n",
      "Valid:  99% 4800/4836 [00:02<00:00, 2270.92 uttr/s, accuracy=0.68, loss=1.55]\n",
      "Train:   0% 5/2000 [00:00<01:26, 23.14step/s, accuracy=0.59, loss=1.90, step=44005]"
     ]
    },
    {
     "name": "stdout",
     "output_type": "stream",
     "text": [
      "Step 44000, best model saved. (accuracy=0.6779)\n"
     ]
    },
    {
     "name": "stderr",
     "output_type": "stream",
     "text": [
      "Train: 100% 2000/2000 [01:14<00:00, 26.75step/s, accuracy=0.80, loss=0.99, step=46000]\n",
      "Valid:  99% 4800/4836 [00:02<00:00, 2241.77 uttr/s, accuracy=0.70, loss=1.50]\n",
      "Train: 100% 2000/2000 [01:14<00:00, 26.84step/s, accuracy=0.75, loss=1.31, step=48000]\n",
      "Valid:  99% 4800/4836 [00:02<00:00, 2206.58 uttr/s, accuracy=0.70, loss=1.53]\n",
      "Train:   0% 5/2000 [00:00<01:28, 22.66step/s, accuracy=0.73, loss=1.24, step=48005]"
     ]
    },
    {
     "name": "stdout",
     "output_type": "stream",
     "text": [
      "Step 48000, best model saved. (accuracy=0.6973)\n"
     ]
    },
    {
     "name": "stderr",
     "output_type": "stream",
     "text": [
      "Train: 100% 2000/2000 [01:14<00:00, 26.74step/s, accuracy=0.72, loss=1.21, step=5e+4] \n",
      "Valid:  99% 4800/4836 [00:02<00:00, 2173.03 uttr/s, accuracy=0.70, loss=1.58]\n",
      "Train: 100% 2000/2000 [01:14<00:00, 26.78step/s, accuracy=0.75, loss=1.13, step=52000]\n",
      "Valid:  99% 4800/4836 [00:02<00:00, 2248.31 uttr/s, accuracy=0.70, loss=1.54]\n",
      "Train:   0% 5/2000 [00:00<01:25, 23.34step/s, accuracy=0.67, loss=1.39, step=52005]"
     ]
    },
    {
     "name": "stdout",
     "output_type": "stream",
     "text": [
      "Step 52000, best model saved. (accuracy=0.6973)\n"
     ]
    },
    {
     "name": "stderr",
     "output_type": "stream",
     "text": [
      "Train: 100% 2000/2000 [01:14<00:00, 26.68step/s, accuracy=0.70, loss=1.21, step=54000]\n",
      "Valid:  99% 4800/4836 [00:02<00:00, 2244.61 uttr/s, accuracy=0.71, loss=1.58]\n",
      "Train: 100% 2000/2000 [01:14<00:00, 26.82step/s, accuracy=0.66, loss=1.26, step=56000]\n",
      "Valid:  99% 4800/4836 [00:02<00:00, 2303.36 uttr/s, accuracy=0.71, loss=1.53]\n",
      "Train:   0% 5/2000 [00:00<01:25, 23.45step/s, accuracy=0.73, loss=1.22, step=56005]"
     ]
    },
    {
     "name": "stdout",
     "output_type": "stream",
     "text": [
      "Step 56000, best model saved. (accuracy=0.7121)\n"
     ]
    },
    {
     "name": "stderr",
     "output_type": "stream",
     "text": [
      "Train: 100% 2000/2000 [01:14<00:00, 26.81step/s, accuracy=0.66, loss=1.79, step=58000]\n",
      "Valid:  99% 4800/4836 [00:02<00:00, 2199.23 uttr/s, accuracy=0.70, loss=1.60]\n",
      "Train: 100% 2000/2000 [01:14<00:00, 26.81step/s, accuracy=0.69, loss=1.46, step=6e+4] \n",
      "Valid:  99% 4800/4836 [00:02<00:00, 2216.57 uttr/s, accuracy=0.72, loss=1.51]\n",
      "Train:   0% 5/2000 [00:00<01:25, 23.29step/s, accuracy=0.81, loss=0.84, step=6e+4]"
     ]
    },
    {
     "name": "stdout",
     "output_type": "stream",
     "text": [
      "Step 60000, best model saved. (accuracy=0.7160)\n"
     ]
    },
    {
     "name": "stderr",
     "output_type": "stream",
     "text": [
      "Train: 100% 2000/2000 [01:14<00:00, 26.72step/s, accuracy=0.78, loss=1.29, step=62000]\n",
      "Valid:  99% 4800/4836 [00:02<00:00, 2233.19 uttr/s, accuracy=0.73, loss=1.40]\n",
      "Train: 100% 2000/2000 [01:14<00:00, 26.76step/s, accuracy=0.73, loss=1.14, step=64000]\n",
      "Valid:  99% 4800/4836 [00:02<00:00, 2269.17 uttr/s, accuracy=0.75, loss=1.33]\n",
      "Train:   0% 5/2000 [00:00<01:24, 23.56step/s, accuracy=0.80, loss=0.90, step=64005]"
     ]
    },
    {
     "name": "stdout",
     "output_type": "stream",
     "text": [
      "Step 64000, best model saved. (accuracy=0.7465)\n"
     ]
    },
    {
     "name": "stderr",
     "output_type": "stream",
     "text": [
      "Train: 100% 2000/2000 [01:14<00:00, 26.75step/s, accuracy=0.77, loss=1.10, step=66000]\n",
      "Valid:  99% 4800/4836 [00:02<00:00, 2233.20 uttr/s, accuracy=0.74, loss=1.36]\n",
      "Train: 100% 2000/2000 [01:14<00:00, 26.77step/s, accuracy=0.80, loss=1.25, step=68000]\n",
      "Valid:  99% 4800/4836 [00:02<00:00, 2241.29 uttr/s, accuracy=0.73, loss=1.39]\n",
      "Train:   0% 5/2000 [00:00<01:29, 22.36step/s, accuracy=0.78, loss=1.07, step=68005]"
     ]
    },
    {
     "name": "stdout",
     "output_type": "stream",
     "text": [
      "Step 68000, best model saved. (accuracy=0.7465)\n"
     ]
    },
    {
     "name": "stderr",
     "output_type": "stream",
     "text": [
      "Train: 100% 2000/2000 [01:14<00:00, 26.70step/s, accuracy=0.75, loss=1.08, step=7e+4] \n",
      "Valid:  99% 4800/4836 [00:02<00:00, 2243.99 uttr/s, accuracy=0.74, loss=1.38]\n",
      "Train: 100% 2000/2000 [01:14<00:00, 26.76step/s, accuracy=0.73, loss=1.25, step=72000]\n",
      "Valid:  99% 4800/4836 [00:02<00:00, 2239.93 uttr/s, accuracy=0.74, loss=1.39]\n",
      "Train:   0% 5/2000 [00:00<01:25, 23.39step/s, accuracy=0.77, loss=1.17, step=72005]"
     ]
    },
    {
     "name": "stdout",
     "output_type": "stream",
     "text": [
      "Step 72000, best model saved. (accuracy=0.7465)\n"
     ]
    },
    {
     "name": "stderr",
     "output_type": "stream",
     "text": [
      "Train: 100% 2000/2000 [01:15<00:00, 26.50step/s, accuracy=0.75, loss=1.10, step=74000]\n",
      "Valid:  99% 4800/4836 [00:02<00:00, 2168.29 uttr/s, accuracy=0.76, loss=1.30]\n",
      "Train: 100% 2000/2000 [01:16<00:00, 26.09step/s, accuracy=0.73, loss=1.16, step=76000]\n",
      "Valid:  99% 4800/4836 [00:02<00:00, 2027.77 uttr/s, accuracy=0.74, loss=1.34]\n",
      "Train:   0% 5/2000 [00:00<01:31, 21.88step/s, accuracy=0.75, loss=1.08, step=76005]"
     ]
    },
    {
     "name": "stdout",
     "output_type": "stream",
     "text": [
      "Step 76000, best model saved. (accuracy=0.7579)\n"
     ]
    },
    {
     "name": "stderr",
     "output_type": "stream",
     "text": [
      "Train: 100% 2000/2000 [01:15<00:00, 26.32step/s, accuracy=0.75, loss=1.10, step=78000]\n",
      "Valid:  99% 4800/4836 [00:02<00:00, 2131.80 uttr/s, accuracy=0.75, loss=1.34]\n",
      "Train: 100% 2000/2000 [01:16<00:00, 26.31step/s, accuracy=0.81, loss=0.92, step=8e+4] \n",
      "Valid:  99% 4800/4836 [00:02<00:00, 2180.30 uttr/s, accuracy=0.75, loss=1.38]\n",
      "Train:   0% 5/2000 [00:00<01:28, 22.64step/s, accuracy=0.78, loss=0.96, step=8e+4]"
     ]
    },
    {
     "name": "stdout",
     "output_type": "stream",
     "text": [
      "Step 80000, best model saved. (accuracy=0.7579)\n"
     ]
    },
    {
     "name": "stderr",
     "output_type": "stream",
     "text": [
      "Train: 100% 2000/2000 [01:15<00:00, 26.36step/s, accuracy=0.88, loss=0.76, step=82000]\n",
      "Valid:  99% 4800/4836 [00:02<00:00, 2192.21 uttr/s, accuracy=0.76, loss=1.29]\n",
      "Train: 100% 2000/2000 [01:16<00:00, 26.29step/s, accuracy=0.73, loss=1.34, step=84000]\n",
      "Valid:  99% 4800/4836 [00:02<00:00, 2189.96 uttr/s, accuracy=0.77, loss=1.29]\n",
      "Train:   0% 5/2000 [00:00<01:27, 22.81step/s, accuracy=0.75, loss=0.96, step=84005]"
     ]
    },
    {
     "name": "stdout",
     "output_type": "stream",
     "text": [
      "Step 84000, best model saved. (accuracy=0.7692)\n"
     ]
    },
    {
     "name": "stderr",
     "output_type": "stream",
     "text": [
      "Train: 100% 2000/2000 [01:16<00:00, 26.28step/s, accuracy=0.81, loss=0.96, step=86000]\n",
      "Valid:  99% 4800/4836 [00:02<00:00, 2168.60 uttr/s, accuracy=0.76, loss=1.28]\n",
      "Train: 100% 2000/2000 [01:15<00:00, 26.33step/s, accuracy=0.83, loss=0.65, step=88000]\n",
      "Valid:  99% 4800/4836 [00:02<00:00, 2216.29 uttr/s, accuracy=0.76, loss=1.28]\n",
      "Train:   0% 5/2000 [00:00<01:29, 22.32step/s, accuracy=0.83, loss=0.94, step=88005]"
     ]
    },
    {
     "name": "stdout",
     "output_type": "stream",
     "text": [
      "Step 88000, best model saved. (accuracy=0.7692)\n"
     ]
    },
    {
     "name": "stderr",
     "output_type": "stream",
     "text": [
      "Train: 100% 2000/2000 [01:15<00:00, 26.34step/s, accuracy=0.86, loss=0.69, step=9e+4] \n",
      "Valid:  99% 4800/4836 [00:02<00:00, 2236.33 uttr/s, accuracy=0.77, loss=1.26]\n",
      "Train: 100% 2000/2000 [01:16<00:00, 26.08step/s, accuracy=0.78, loss=0.89, step=92000]\n",
      "Valid:  99% 4800/4836 [00:02<00:00, 2160.96 uttr/s, accuracy=0.77, loss=1.33]\n",
      "Train:   0% 4/2000 [00:00<01:56, 17.09step/s, accuracy=0.83, loss=0.79, step=92004]"
     ]
    },
    {
     "name": "stdout",
     "output_type": "stream",
     "text": [
      "Step 92000, best model saved. (accuracy=0.7706)\n"
     ]
    },
    {
     "name": "stderr",
     "output_type": "stream",
     "text": [
      "Train: 100% 2000/2000 [01:21<00:00, 24.41step/s, accuracy=0.86, loss=0.64, step=94000]\n",
      "Valid:  99% 4800/4836 [00:02<00:00, 2266.27 uttr/s, accuracy=0.77, loss=1.29]\n",
      "Train: 100% 2000/2000 [01:15<00:00, 26.55step/s, accuracy=0.77, loss=1.17, step=96000]\n",
      "Valid:  99% 4800/4836 [00:02<00:00, 1894.74 uttr/s, accuracy=0.78, loss=1.25]\n",
      "Train:   0% 5/2000 [00:00<01:26, 23.19step/s, accuracy=0.81, loss=0.76, step=96005]"
     ]
    },
    {
     "name": "stdout",
     "output_type": "stream",
     "text": [
      "Step 96000, best model saved. (accuracy=0.7781)\n"
     ]
    },
    {
     "name": "stderr",
     "output_type": "stream",
     "text": [
      "Train: 100% 2000/2000 [01:13<00:00, 27.15step/s, accuracy=0.88, loss=0.61, step=102000]\n",
      "Valid:  99% 4800/4836 [00:02<00:00, 2275.81 uttr/s, accuracy=0.77, loss=1.33]\n",
      "Train:  12% 240/2000 [00:08<01:03, 27.69step/s, accuracy=0.78, loss=1.10, step=102240]IOPub message rate exceeded.\n",
      "The notebook server will temporarily stop sending output\n",
      "to the client in order to avoid crashing it.\n",
      "To change this limit, set the config variable\n",
      "`--NotebookApp.iopub_msg_rate_limit`.\n",
      "\n",
      "Current values:\n",
      "NotebookApp.iopub_msg_rate_limit=1000.0 (msgs/sec)\n",
      "NotebookApp.rate_limit_window=3.0 (secs)\n",
      "\n",
      "Train: 100% 2000/2000 [01:13<00:00, 27.19step/s, accuracy=0.89, loss=0.47, step=114000]\n",
      "Valid:  99% 4800/4836 [00:02<00:00, 2255.61 uttr/s, accuracy=0.78, loss=1.27]\n",
      "Train:   2% 47/2000 [00:01<01:14, 26.36step/s, accuracy=0.88, loss=0.72, step=114047]IOPub message rate exceeded.\n",
      "The notebook server will temporarily stop sending output\n",
      "to the client in order to avoid crashing it.\n",
      "To change this limit, set the config variable\n",
      "`--NotebookApp.iopub_msg_rate_limit`.\n",
      "\n",
      "Current values:\n",
      "NotebookApp.iopub_msg_rate_limit=1000.0 (msgs/sec)\n",
      "NotebookApp.rate_limit_window=3.0 (secs)\n",
      "\n",
      "Train:  75% 1500/2000 [00:54<00:18, 26.71step/s, accuracy=0.88, loss=0.70, step=115499]IOPub message rate exceeded.\n",
      "The notebook server will temporarily stop sending output\n",
      "to the client in order to avoid crashing it.\n",
      "To change this limit, set the config variable\n",
      "`--NotebookApp.iopub_msg_rate_limit`.\n",
      "\n",
      "Current values:\n",
      "NotebookApp.iopub_msg_rate_limit=1000.0 (msgs/sec)\n",
      "NotebookApp.rate_limit_window=3.0 (secs)\n",
      "\n",
      "Train: 100% 2000/2000 [01:13<00:00, 27.33step/s, accuracy=0.86, loss=0.65, step=126000]\n",
      "Valid:  99% 4800/4836 [00:02<00:00, 2337.54 uttr/s, accuracy=0.79, loss=1.29]\n",
      "Train:  63% 1268/2000 [00:46<00:26, 27.71step/s, accuracy=0.91, loss=0.31, step=127268]IOPub message rate exceeded.\n",
      "The notebook server will temporarily stop sending output\n",
      "to the client in order to avoid crashing it.\n",
      "To change this limit, set the config variable\n",
      "`--NotebookApp.iopub_msg_rate_limit`.\n",
      "\n",
      "Current values:\n",
      "NotebookApp.iopub_msg_rate_limit=1000.0 (msgs/sec)\n",
      "NotebookApp.rate_limit_window=3.0 (secs)\n",
      "\n",
      "Train:  31% 620/2000 [00:22<00:49, 27.88step/s, accuracy=0.83, loss=0.82, step=128619]IOPub message rate exceeded.\n",
      "The notebook server will temporarily stop sending output\n",
      "to the client in order to avoid crashing it.\n",
      "To change this limit, set the config variable\n",
      "`--NotebookApp.iopub_msg_rate_limit`.\n",
      "\n",
      "Current values:\n",
      "NotebookApp.iopub_msg_rate_limit=1000.0 (msgs/sec)\n",
      "NotebookApp.rate_limit_window=3.0 (secs)\n",
      "\n",
      "Train: 100% 2000/2000 [01:12<00:00, 27.41step/s, accuracy=0.83, loss=0.65, step=140000]\n",
      "Valid:  99% 4800/4836 [00:02<00:00, 2304.87 uttr/s, accuracy=0.80, loss=1.16]\n",
      "Train:   0% 5/2000 [00:00<01:24, 23.56step/s, accuracy=0.84, loss=0.66, step=140005]"
     ]
    },
    {
     "name": "stdout",
     "output_type": "stream",
     "text": [
      "Step 140000, best model saved. (accuracy=0.8094)\n"
     ]
    },
    {
     "name": "stderr",
     "output_type": "stream",
     "text": [
      "Train:  18% 363/2000 [00:13<00:58, 28.11step/s, accuracy=0.92, loss=0.62, step=140363]IOPub message rate exceeded.\n",
      "The notebook server will temporarily stop sending output\n",
      "to the client in order to avoid crashing it.\n",
      "To change this limit, set the config variable\n",
      "`--NotebookApp.iopub_msg_rate_limit`.\n",
      "\n",
      "Current values:\n",
      "NotebookApp.iopub_msg_rate_limit=1000.0 (msgs/sec)\n",
      "NotebookApp.rate_limit_window=3.0 (secs)\n",
      "\n",
      "Train:  89% 1781/2000 [01:05<00:08, 27.11step/s, accuracy=0.81, loss=0.81, step=141781]IOPub message rate exceeded.\n",
      "The notebook server will temporarily stop sending output\n",
      "to the client in order to avoid crashing it.\n",
      "To change this limit, set the config variable\n",
      "`--NotebookApp.iopub_msg_rate_limit`.\n",
      "\n",
      "Current values:\n",
      "NotebookApp.iopub_msg_rate_limit=1000.0 (msgs/sec)\n",
      "NotebookApp.rate_limit_window=3.0 (secs)\n",
      "\n",
      "Train: 100% 2000/2000 [01:13<00:00, 27.36step/s, accuracy=0.88, loss=0.49, step=152000]\n",
      "Valid:  99% 4800/4836 [00:02<00:00, 2297.11 uttr/s, accuracy=0.81, loss=1.09]\n",
      "Train:   0% 5/2000 [00:00<01:26, 23.13step/s, accuracy=0.84, loss=0.76, step=152005]"
     ]
    },
    {
     "name": "stdout",
     "output_type": "stream",
     "text": [
      "Step 152000, best model saved. (accuracy=0.8200)\n"
     ]
    },
    {
     "name": "stderr",
     "output_type": "stream",
     "text": [
      "Train:  78% 1563/2000 [00:57<00:16, 26.97step/s, accuracy=0.94, loss=0.38, step=153563]IOPub message rate exceeded.\n",
      "The notebook server will temporarily stop sending output\n",
      "to the client in order to avoid crashing it.\n",
      "To change this limit, set the config variable\n",
      "`--NotebookApp.iopub_msg_rate_limit`.\n",
      "\n",
      "Current values:\n",
      "NotebookApp.iopub_msg_rate_limit=1000.0 (msgs/sec)\n",
      "NotebookApp.rate_limit_window=3.0 (secs)\n",
      "\n",
      "Train:  41% 820/2000 [00:30<00:42, 27.92step/s, accuracy=0.94, loss=0.16, step=154820]IOPub message rate exceeded.\n",
      "The notebook server will temporarily stop sending output\n",
      "to the client in order to avoid crashing it.\n",
      "To change this limit, set the config variable\n",
      "`--NotebookApp.iopub_msg_rate_limit`.\n",
      "\n",
      "Current values:\n",
      "NotebookApp.iopub_msg_rate_limit=1000.0 (msgs/sec)\n",
      "NotebookApp.rate_limit_window=3.0 (secs)\n",
      "\n",
      "Train: 100% 2000/2000 [01:15<00:00, 26.66step/s, accuracy=0.91, loss=0.35, step=166000]\n",
      "Valid:  99% 4800/4836 [00:02<00:00, 2335.87 uttr/s, accuracy=0.82, loss=1.14]\n",
      "Train:  51% 1026/2000 [00:37<00:36, 26.84step/s, accuracy=0.95, loss=0.25, step=167026]IOPub message rate exceeded.\n",
      "The notebook server will temporarily stop sending output\n",
      "to the client in order to avoid crashing it.\n",
      "To change this limit, set the config variable\n",
      "`--NotebookApp.iopub_msg_rate_limit`.\n",
      "\n",
      "Current values:\n",
      "NotebookApp.iopub_msg_rate_limit=1000.0 (msgs/sec)\n",
      "NotebookApp.rate_limit_window=3.0 (secs)\n",
      "\n",
      "Train: 100% 2000/2000 [01:13<00:00, 27.26step/s, accuracy=0.95, loss=0.25, step=178000]\n",
      "Valid:  99% 4800/4836 [00:02<00:00, 2303.32 uttr/s, accuracy=0.83, loss=1.09]\n",
      "Train:  14% 286/2000 [00:10<01:00, 28.48step/s, accuracy=0.89, loss=0.53, step=178286]IOPub message rate exceeded.\n",
      "The notebook server will temporarily stop sending output\n",
      "to the client in order to avoid crashing it.\n",
      "To change this limit, set the config variable\n",
      "`--NotebookApp.iopub_msg_rate_limit`.\n",
      "\n",
      "Current values:\n",
      "NotebookApp.iopub_msg_rate_limit=1000.0 (msgs/sec)\n",
      "NotebookApp.rate_limit_window=3.0 (secs)\n",
      "\n",
      "Train: 100% 2000/2000 [01:12<00:00, 27.45step/s, accuracy=0.95, loss=0.36, step=180000]\n",
      "Valid:   7% 320/4836 [00:00<00:01, 2331.94 uttr/s, accuracy=0.82, loss=1.06]IOPub message rate exceeded.\n",
      "The notebook server will temporarily stop sending output\n",
      "to the client in order to avoid crashing it.\n",
      "To change this limit, set the config variable\n",
      "`--NotebookApp.iopub_msg_rate_limit`.\n",
      "\n",
      "Current values:\n",
      "NotebookApp.iopub_msg_rate_limit=1000.0 (msgs/sec)\n",
      "NotebookApp.rate_limit_window=3.0 (secs)\n",
      "\n",
      "Train: 100% 2000/2000 [01:13<00:00, 27.09step/s, accuracy=0.97, loss=0.18, step=190000]\n",
      "Valid:  99% 4800/4836 [00:02<00:00, 2292.72 uttr/s, accuracy=0.84, loss=1.05]\n",
      "Train:  68% 1363/2000 [00:49<00:23, 26.88step/s, accuracy=0.98, loss=0.13, step=191363]IOPub message rate exceeded.\n",
      "The notebook server will temporarily stop sending output\n",
      "to the client in order to avoid crashing it.\n",
      "To change this limit, set the config variable\n",
      "`--NotebookApp.iopub_msg_rate_limit`.\n",
      "\n",
      "Current values:\n",
      "NotebookApp.iopub_msg_rate_limit=1000.0 (msgs/sec)\n",
      "NotebookApp.rate_limit_window=3.0 (secs)\n",
      "\n",
      "Train:  43% 868/2000 [00:33<00:40, 27.70step/s, accuracy=0.94, loss=0.31, step=192868]IOPub message rate exceeded.\n",
      "The notebook server will temporarily stop sending output\n",
      "to the client in order to avoid crashing it.\n",
      "To change this limit, set the config variable\n",
      "`--NotebookApp.iopub_msg_rate_limit`.\n",
      "\n",
      "Current values:\n",
      "NotebookApp.iopub_msg_rate_limit=1000.0 (msgs/sec)\n",
      "NotebookApp.rate_limit_window=3.0 (secs)\n",
      "\n",
      "Train: 100% 2000/2000 [01:12<00:00, 27.50step/s, accuracy=0.91, loss=0.35, step=204000]\n",
      "Valid:  99% 4800/4836 [00:02<00:00, 2333.97 uttr/s, accuracy=0.85, loss=1.07]\n",
      "Train:   0% 5/2000 [00:00<01:23, 23.77step/s, accuracy=0.95, loss=0.20, step=204005]"
     ]
    },
    {
     "name": "stdout",
     "output_type": "stream",
     "text": [
      "Step 204000, best model saved. (accuracy=0.8492)\n"
     ]
    },
    {
     "name": "stderr",
     "output_type": "stream",
     "text": [
      "Train:  13% 266/2000 [00:09<01:03, 27.52step/s, accuracy=0.97, loss=0.15, step=204266]IOPub message rate exceeded.\n",
      "The notebook server will temporarily stop sending output\n",
      "to the client in order to avoid crashing it.\n",
      "To change this limit, set the config variable\n",
      "`--NotebookApp.iopub_msg_rate_limit`.\n",
      "\n",
      "Current values:\n",
      "NotebookApp.iopub_msg_rate_limit=1000.0 (msgs/sec)\n",
      "NotebookApp.rate_limit_window=3.0 (secs)\n",
      "\n",
      "Train:  85% 1709/2000 [01:02<00:11, 26.44step/s, accuracy=0.92, loss=0.37, step=205709]IOPub message rate exceeded.\n",
      "The notebook server will temporarily stop sending output\n",
      "to the client in order to avoid crashing it.\n",
      "To change this limit, set the config variable\n",
      "`--NotebookApp.iopub_msg_rate_limit`.\n",
      "\n",
      "Current values:\n",
      "NotebookApp.iopub_msg_rate_limit=1000.0 (msgs/sec)\n",
      "NotebookApp.rate_limit_window=3.0 (secs)\n",
      "\n",
      "Train: 100% 2000/2000 [01:15<00:00, 26.46step/s, accuracy=0.95, loss=0.15, step=216000]\n",
      "Valid:  99% 4800/4836 [00:02<00:00, 2294.93 uttr/s, accuracy=0.85, loss=1.05]\n",
      "Train:   0% 5/2000 [00:00<01:25, 23.23step/s, accuracy=0.98, loss=0.09, step=216005]"
     ]
    },
    {
     "name": "stdout",
     "output_type": "stream",
     "text": [
      "Step 216000, best model saved. (accuracy=0.8562)\n"
     ]
    },
    {
     "name": "stderr",
     "output_type": "stream",
     "text": [
      "Train:  55% 1103/2000 [00:40<00:32, 27.98step/s, accuracy=0.94, loss=0.38, step=217103]IOPub message rate exceeded.\n",
      "The notebook server will temporarily stop sending output\n",
      "to the client in order to avoid crashing it.\n",
      "To change this limit, set the config variable\n",
      "`--NotebookApp.iopub_msg_rate_limit`.\n",
      "\n",
      "Current values:\n",
      "NotebookApp.iopub_msg_rate_limit=1000.0 (msgs/sec)\n",
      "NotebookApp.rate_limit_window=3.0 (secs)\n",
      "\n",
      "Train:  30% 605/2000 [00:21<00:50, 27.70step/s, accuracy=0.94, loss=0.39, step=218605]IOPub message rate exceeded.\n",
      "The notebook server will temporarily stop sending output\n",
      "to the client in order to avoid crashing it.\n",
      "To change this limit, set the config variable\n",
      "`--NotebookApp.iopub_msg_rate_limit`.\n",
      "\n",
      "Current values:\n",
      "NotebookApp.iopub_msg_rate_limit=1000.0 (msgs/sec)\n",
      "NotebookApp.rate_limit_window=3.0 (secs)\n",
      "\n",
      "Train: 100% 2000/2000 [01:14<00:00, 26.94step/s, accuracy=0.98, loss=0.06, step=230000]\n",
      "Valid:  58% 2816/4836 [00:01<00:00, 2254.60 uttr/s, accuracy=0.85, loss=1.12]IOPub message rate exceeded.\n",
      "The notebook server will temporarily stop sending output\n",
      "to the client in order to avoid crashing it.\n",
      "To change this limit, set the config variable\n",
      "`--NotebookApp.iopub_msg_rate_limit`.\n",
      "\n",
      "Current values:\n",
      "NotebookApp.iopub_msg_rate_limit=1000.0 (msgs/sec)\n",
      "NotebookApp.rate_limit_window=3.0 (secs)\n",
      "\n",
      "Train:  81% 1629/2000 [00:59<00:13, 27.96step/s, accuracy=0.95, loss=0.12, step=231628]IOPub message rate exceeded.\n",
      "The notebook server will temporarily stop sending output\n",
      "to the client in order to avoid crashing it.\n",
      "To change this limit, set the config variable\n",
      "`--NotebookApp.iopub_msg_rate_limit`.\n",
      "\n",
      "Current values:\n",
      "NotebookApp.iopub_msg_rate_limit=1000.0 (msgs/sec)\n",
      "NotebookApp.rate_limit_window=3.0 (secs)\n",
      "\n",
      "Train: 100% 2000/2000 [01:14<00:00, 26.73step/s, accuracy=0.98, loss=0.05, step=242000]\n",
      "Valid:  99% 4800/4836 [00:02<00:00, 2307.84 uttr/s, accuracy=0.86, loss=1.10]\n",
      "Train:  52% 1030/2000 [00:37<00:36, 26.77step/s, accuracy=0.98, loss=0.07, step=243030]IOPub message rate exceeded.\n",
      "The notebook server will temporarily stop sending output\n",
      "to the client in order to avoid crashing it.\n",
      "To change this limit, set the config variable\n",
      "`--NotebookApp.iopub_msg_rate_limit`.\n",
      "\n",
      "Current values:\n",
      "NotebookApp.iopub_msg_rate_limit=1000.0 (msgs/sec)\n",
      "NotebookApp.rate_limit_window=3.0 (secs)\n",
      "\n",
      "Train:  26% 515/2000 [00:18<00:53, 27.85step/s, accuracy=0.98, loss=0.07, step=244514]IOPub message rate exceeded.\n",
      "The notebook server will temporarily stop sending output\n",
      "to the client in order to avoid crashing it.\n",
      "To change this limit, set the config variable\n",
      "`--NotebookApp.iopub_msg_rate_limit`.\n",
      "\n",
      "Current values:\n",
      "NotebookApp.iopub_msg_rate_limit=1000.0 (msgs/sec)\n",
      "NotebookApp.rate_limit_window=3.0 (secs)\n",
      "\n",
      "Train: 100% 2000/2000 [01:13<00:00, 27.21step/s, accuracy=0.98, loss=0.06, step=256000]\n",
      "Valid:  99% 4800/4836 [00:02<00:00, 2324.97 uttr/s, accuracy=0.87, loss=1.03]\n",
      "Train:   0% 5/2000 [00:00<01:23, 23.80step/s, accuracy=0.95, loss=0.10, step=256005]"
     ]
    },
    {
     "name": "stdout",
     "output_type": "stream",
     "text": [
      "Step 256000, best model saved. (accuracy=0.8733)\n"
     ]
    },
    {
     "name": "stderr",
     "output_type": "stream",
     "text": [
      "Train:  21% 423/2000 [00:15<00:57, 27.23step/s, accuracy=0.97, loss=0.13, step=256423]IOPub message rate exceeded.\n",
      "The notebook server will temporarily stop sending output\n",
      "to the client in order to avoid crashing it.\n",
      "To change this limit, set the config variable\n",
      "`--NotebookApp.iopub_msg_rate_limit`.\n",
      "\n",
      "Current values:\n",
      "NotebookApp.iopub_msg_rate_limit=1000.0 (msgs/sec)\n",
      "NotebookApp.rate_limit_window=3.0 (secs)\n",
      "\n",
      "Train: 100% 2000/2000 [01:12<00:00, 27.51step/s, accuracy=0.98, loss=0.06, step=268000]\n",
      "Valid:  99% 4800/4836 [00:02<00:00, 2338.17 uttr/s, accuracy=0.87, loss=1.20]\n",
      "Train:   0% 5/2000 [00:00<01:23, 23.76step/s, accuracy=0.95, loss=0.19, step=268005]"
     ]
    },
    {
     "name": "stdout",
     "output_type": "stream",
     "text": [
      "Step 268000, best model saved. (accuracy=0.8777)\n"
     ]
    },
    {
     "name": "stderr",
     "output_type": "stream",
     "text": [
      "Train:  70% 1391/2000 [00:50<00:22, 27.65step/s, accuracy=1.00, loss=0.02, step=269391]IOPub message rate exceeded.\n",
      "The notebook server will temporarily stop sending output\n",
      "to the client in order to avoid crashing it.\n",
      "To change this limit, set the config variable\n",
      "`--NotebookApp.iopub_msg_rate_limit`.\n",
      "\n",
      "Current values:\n",
      "NotebookApp.iopub_msg_rate_limit=1000.0 (msgs/sec)\n",
      "NotebookApp.rate_limit_window=3.0 (secs)\n",
      "\n",
      "Train: 100% 2000/2000 [01:12<00:00, 27.58step/s, accuracy=1.00, loss=0.01, step=282000]\n",
      "Valid:  99% 4800/4836 [00:02<00:00, 2306.16 uttr/s, accuracy=0.88, loss=1.12]\n",
      "Train:  15% 298/2000 [00:10<01:01, 27.80step/s, accuracy=1.00, loss=0.03, step=282298]IOPub message rate exceeded.\n",
      "The notebook server will temporarily stop sending output\n",
      "to the client in order to avoid crashing it.\n",
      "To change this limit, set the config variable\n",
      "`--NotebookApp.iopub_msg_rate_limit`.\n",
      "\n",
      "Current values:\n",
      "NotebookApp.iopub_msg_rate_limit=1000.0 (msgs/sec)\n",
      "NotebookApp.rate_limit_window=3.0 (secs)\n",
      "\n",
      "Train: 100% 2000/2000 [01:15<00:00, 26.43step/s, accuracy=0.97, loss=0.08, step=294000]\n",
      "Valid:  99% 4800/4836 [00:02<00:00, 2170.92 uttr/s, accuracy=0.89, loss=1.02]\n",
      "Train:  63% 1263/2000 [00:47<00:27, 26.98step/s, accuracy=1.00, loss=0.02, step=295262]IOPub message rate exceeded.\n",
      "The notebook server will temporarily stop sending output\n",
      "to the client in order to avoid crashing it.\n",
      "To change this limit, set the config variable\n",
      "`--NotebookApp.iopub_msg_rate_limit`.\n",
      "\n",
      "Current values:\n",
      "NotebookApp.iopub_msg_rate_limit=1000.0 (msgs/sec)\n",
      "NotebookApp.rate_limit_window=3.0 (secs)\n",
      "\n",
      "Valid:  99% 4800/4836 [00:02<00:00, 2344.94 uttr/s, accuracy=0.89, loss=1.05]\n",
      "Train: 100% 2000/2000 [01:14<00:00, 26.80step/s, accuracy=0.97, loss=0.11, step=308000]\n",
      "Valid:  99% 4800/4836 [00:02<00:00, 2287.46 uttr/s, accuracy=0.89, loss=1.15]\n",
      "Train:   0% 5/2000 [00:00<01:29, 22.38step/s, accuracy=0.98, loss=0.12, step=308005]"
     ]
    },
    {
     "name": "stdout",
     "output_type": "stream",
     "text": [
      "Step 308000, best model saved. (accuracy=0.8892)\n"
     ]
    },
    {
     "name": "stderr",
     "output_type": "stream",
     "text": [
      "Train:   6% 116/2000 [00:04<01:07, 28.00step/s, accuracy=1.00, loss=0.01, step=308116]IOPub message rate exceeded.\n",
      "The notebook server will temporarily stop sending output\n",
      "to the client in order to avoid crashing it.\n",
      "To change this limit, set the config variable\n",
      "`--NotebookApp.iopub_msg_rate_limit`.\n",
      "\n",
      "Current values:\n",
      "NotebookApp.iopub_msg_rate_limit=1000.0 (msgs/sec)\n",
      "NotebookApp.rate_limit_window=3.0 (secs)\n",
      "\n",
      "Train: 100% 2000/2000 [01:15<00:00, 26.55step/s, accuracy=1.00, loss=0.00, step=320000]\n",
      "Valid:  99% 4800/4836 [00:02<00:00, 2255.69 uttr/s, accuracy=0.89, loss=1.15]\n",
      "Train:   0% 5/2000 [00:00<01:26, 23.17step/s, accuracy=1.00, loss=0.01, step=320005]"
     ]
    },
    {
     "name": "stdout",
     "output_type": "stream",
     "text": [
      "Step 320000, best model saved. (accuracy=0.8940)\n"
     ]
    },
    {
     "name": "stderr",
     "output_type": "stream",
     "text": [
      "Train:  51% 1014/2000 [00:36<00:35, 27.47step/s, accuracy=0.98, loss=0.03, step=321014]IOPub message rate exceeded.\n",
      "The notebook server will temporarily stop sending output\n",
      "to the client in order to avoid crashing it.\n",
      "To change this limit, set the config variable\n",
      "`--NotebookApp.iopub_msg_rate_limit`.\n",
      "\n",
      "Current values:\n",
      "NotebookApp.iopub_msg_rate_limit=1000.0 (msgs/sec)\n",
      "NotebookApp.rate_limit_window=3.0 (secs)\n",
      "\n",
      "Train: 100% 2000/2000 [01:14<00:00, 26.94step/s, accuracy=1.00, loss=0.01, step=332000]\n",
      "Valid:  99% 4800/4836 [00:02<00:00, 2117.36 uttr/s, accuracy=0.89, loss=1.08]\n",
      "Train:   0% 5/2000 [00:00<01:29, 22.37step/s, accuracy=1.00, loss=0.02, step=332005]"
     ]
    },
    {
     "name": "stdout",
     "output_type": "stream",
     "text": [
      "Step 332000, best model saved. (accuracy=0.8940)\n"
     ]
    },
    {
     "name": "stderr",
     "output_type": "stream",
     "text": [
      "Train: 100% 2000/2000 [01:14<00:00, 26.73step/s, accuracy=1.00, loss=0.00, step=334000]\n",
      "Valid:  99% 4800/4836 [00:02<00:00, 2221.95 uttr/s, accuracy=0.89, loss=1.12]\n",
      "Train:   3% 51/2000 [00:01<01:14, 26.10step/s, accuracy=1.00, loss=0.00, step=334051]IOPub message rate exceeded.\n",
      "The notebook server will temporarily stop sending output\n",
      "to the client in order to avoid crashing it.\n",
      "To change this limit, set the config variable\n",
      "`--NotebookApp.iopub_msg_rate_limit`.\n",
      "\n",
      "Current values:\n",
      "NotebookApp.iopub_msg_rate_limit=1000.0 (msgs/sec)\n",
      "NotebookApp.rate_limit_window=3.0 (secs)\n",
      "\n",
      "Train: 100% 2000/2000 [01:13<00:00, 27.31step/s, accuracy=0.98, loss=0.04, step=346000]\n",
      "Valid:  99% 4800/4836 [00:02<00:00, 2160.09 uttr/s, accuracy=0.90, loss=1.02]\n",
      "Train:  60% 1209/2000 [00:44<00:29, 26.80step/s, accuracy=1.00, loss=0.00, step=347208]IOPub message rate exceeded.\n",
      "The notebook server will temporarily stop sending output\n",
      "to the client in order to avoid crashing it.\n",
      "To change this limit, set the config variable\n",
      "`--NotebookApp.iopub_msg_rate_limit`.\n",
      "\n",
      "Current values:\n",
      "NotebookApp.iopub_msg_rate_limit=1000.0 (msgs/sec)\n",
      "NotebookApp.rate_limit_window=3.0 (secs)\n",
      "\n"
     ]
    }
   ],
   "source": [
    "import os\n",
    "import json\n",
    "import torch\n",
    "import random\n",
    "import math\n",
    "import re\n",
    "import torch.nn as nn\n",
    "import torch.distributed as dist\n",
    "from pathlib import Path\n",
    "from torch.utils.data import Dataset, DataLoader, random_split\n",
    "from torch.nn.utils.rnn import pad_sequence\n",
    "from torch.optim import Optimizer\n",
    "from torch.optim import AdamW\n",
    "from torch.optim.lr_scheduler import LambdaLR\n",
    "from torch.utils.data.distributed import DistributedSampler\n",
    "from pathlib import Path\n",
    "from tqdm import tqdm\n",
    " \n",
    "class myDataset(Dataset):\n",
    "  def __init__(self, data_dir, segment_len=128):\n",
    "    self.data_dir = data_dir\n",
    "    self.segment_len = segment_len\n",
    " \n",
    "    # Load the mapping from speaker neme to their corresponding id. \n",
    "    mapping_path = Path(data_dir) / \"mapping.json\"\n",
    "    mapping = json.load(mapping_path.open())\n",
    "    self.speaker2id = mapping[\"speaker2id\"]\n",
    " \n",
    "    # Load metadata of training data.\n",
    "    metadata_path = Path(data_dir) / \"metadata.json\"\n",
    "    metadata = json.load(open(metadata_path))[\"speakers\"]\n",
    " \n",
    "    # Get the total number of speaker.\n",
    "    self.speaker_num = len(metadata.keys())\n",
    "    self.data = []\n",
    "    for speaker in metadata.keys():\n",
    "      for utterances in metadata[speaker]:\n",
    "        self.data.append([utterances[\"feature_path\"], self.speaker2id[speaker]])\n",
    " \n",
    "  def __len__(self):\n",
    "    return len(self.data)\n",
    " \n",
    "  def __getitem__(self, index):\n",
    "    feat_path, speaker = self.data[index]\n",
    "    # Load preprocessed mel-spectrogram.\n",
    "    mel = torch.load(os.path.join(self.data_dir, feat_path))\n",
    " \n",
    "    # Segmemt mel-spectrogram into \"segment_len\" frames.\n",
    "    if len(mel) > self.segment_len:\n",
    "      # Randomly get the starting point of the segment.\n",
    "      start = random.randint(0, len(mel) - self.segment_len)\n",
    "      # Get a segment with \"segment_len\" frames.\n",
    "      mel = torch.FloatTensor(mel[start:start+self.segment_len])\n",
    "    else:\n",
    "      mel = torch.FloatTensor(mel)\n",
    "    # Turn the speaker id into long for computing loss later.\n",
    "    speaker = torch.FloatTensor([speaker]).long()\n",
    "    return mel, speaker\n",
    " \n",
    "  def get_speaker_number(self):\n",
    "    return self.speaker_num\n",
    "\n",
    "\n",
    "def collate_batch(batch):\n",
    "  # Process features within a batch.\n",
    "  \"\"\"Collate a batch of data.\"\"\"\n",
    "  mel, speaker = zip(*batch)\n",
    "  # Because we train the model batch by batch, we need to pad the features in the same batch to make their lengths the same.\n",
    "  mel = pad_sequence(mel, batch_first=True, padding_value=-20)    # pad log 10^(-20) which is very small value.\n",
    "  # mel: (batch size, length, 40)\n",
    "  return mel, torch.FloatTensor(speaker).long()\n",
    "\n",
    "def get_dataloader(data_dir, batch_size, n_workers):\n",
    "  \"\"\"Generate dataloader\"\"\"\n",
    "  dataset = myDataset(data_dir)\n",
    "  speaker_num = dataset.get_speaker_number()\n",
    "  # Split dataset into training dataset and validation dataset\n",
    "  trainlen = int(0.9 * len(dataset))\n",
    "  lengths = [trainlen, len(dataset) - trainlen]\n",
    "  trainset, validset = random_split(dataset, lengths)\n",
    "  train_loader = DataLoader(\n",
    "    trainset,\n",
    "    batch_size=batch_size,\n",
    "    shuffle=True,\n",
    "    drop_last=True,\n",
    "    num_workers=n_workers,\n",
    "    pin_memory=True,\n",
    "    collate_fn=collate_batch,\n",
    "  )\n",
    "  valid_loader = DataLoader(\n",
    "    validset,\n",
    "    batch_size=batch_size,\n",
    "    num_workers=n_workers,\n",
    "    drop_last=True,\n",
    "    pin_memory=True,\n",
    "    collate_fn=collate_batch,\n",
    "  )\n",
    "  return train_loader, valid_loader, speaker_num\n",
    "\n",
    "def model_fn(batch, model, criterion, device):\n",
    "  \"\"\"Forward a batch through the model.\"\"\"\n",
    "\n",
    "  mels, labels = batch\n",
    "  mels = mels.to(device)\n",
    "  labels = labels.to(device)\n",
    "\n",
    "  outs = model(mels)\n",
    "\n",
    "  loss = criterion(outs, labels)\n",
    "\n",
    "  # Get the speaker id with highest probability.\n",
    "  preds = outs.argmax(1)\n",
    "  # Compute accuracy.\n",
    "  accuracy = torch.mean((preds == labels).float())\n",
    "\n",
    "  return loss, accuracy\n",
    "\n",
    "class Classifier(nn.Module):\n",
    "  def __init__(self, d_model=80, n_spks=600, dropout=0.1):\n",
    "    super().__init__()\n",
    "    \n",
    "    self.prenet = nn.Linear(40, d_model)\n",
    "    self.encoder_layer = nn.TransformerEncoderLayer(d_model=d_model, dim_feedforward=1024, nhead=2)  # Increased dim_feedforward\n",
    "    self.encoder = nn.TransformerEncoder(self.encoder_layer, num_layers=6)  # Increased num_layers\n",
    "    \n",
    "    self.pred_layer = nn.Sequential(\n",
    "      nn.Linear(d_model, d_model*2),\n",
    "      nn.ReLU(),\n",
    "      nn.Dropout(dropout),\n",
    "      nn.Linear(d_model*2, d_model),  # Additional linear layer\n",
    "      nn.ReLU(),\n",
    "      nn.Dropout(dropout),\n",
    "      nn.Linear(d_model, d_model//2),  # Additional linear layer\n",
    "      nn.ReLU(),\n",
    "      nn.Dropout(dropout),\n",
    "      nn.Linear(d_model//2, n_spks),\n",
    "    )  \n",
    "    \n",
    "  def forward(self, mels):      \n",
    "    out = self.prenet(mels)\n",
    "    out = out.permute(1, 0, 2)\n",
    "    out = self.encoder(out)\n",
    "    out = out.transpose(0, 1)\n",
    "    stats = out.mean(dim=1)\n",
    "    out = self.pred_layer(stats)\n",
    "    return out\n",
    "  \n",
    "\n",
    "def get_cosine_schedule_with_warmup(\n",
    "  optimizer: Optimizer,\n",
    "  num_warmup_steps: int,\n",
    "  num_training_steps: int,\n",
    "  num_cycles: float = 0.5,\n",
    "  last_epoch: int = -1,\n",
    "):\n",
    "  def lr_lambda(current_step):\n",
    "    # Warmup\n",
    "    if current_step < num_warmup_steps:\n",
    "      return float(current_step) / float(max(1, num_warmup_steps))\n",
    "    # decadence\n",
    "    progress = float(current_step - num_warmup_steps) / float(\n",
    "      max(1, num_training_steps - num_warmup_steps)\n",
    "    )\n",
    "    return max(\n",
    "      0.0, 0.5 * (1.0 + math.cos(math.pi * float(num_cycles) * 2.0 * progress))\n",
    "    )\n",
    "\n",
    "  return LambdaLR(optimizer, lr_lambda, last_epoch)\n",
    "\n",
    "def valid(dataloader, model, criterion, device): \n",
    "  \"\"\"Validate on validation set.\"\"\"\n",
    "\n",
    "  model.eval()\n",
    "  running_loss = 0.0\n",
    "  running_accuracy = 0.0\n",
    "  pbar = tqdm(total=len(dataloader.dataset), ncols=0, desc=\"Valid\", unit=\" uttr\")\n",
    "\n",
    "  for i, batch in enumerate(dataloader):\n",
    "    with torch.no_grad():\n",
    "      loss, accuracy = model_fn(batch, model, criterion, device)\n",
    "      running_loss += loss.item()\n",
    "      running_accuracy += accuracy.item()\n",
    "\n",
    "    pbar.update(dataloader.batch_size)\n",
    "    pbar.set_postfix(\n",
    "      loss=f\"{running_loss / (i+1):.2f}\",\n",
    "      accuracy=f\"{running_accuracy / (i+1):.2f}\",\n",
    "    )\n",
    "\n",
    "  pbar.close()\n",
    "  model.train()\n",
    "\n",
    "  return running_accuracy / len(dataloader)\n",
    "\n",
    "def parse_args():\n",
    "  \"\"\"arguments\"\"\"\n",
    "  config = {\n",
    "    \"data_dir\": \"../Dataset\",\n",
    "    \"save_path\": \"model.ckpt\",\n",
    "    \"batch_size\": 64,\n",
    "    \"n_workers\": 0,\n",
    "    \"valid_steps\": 2000,\n",
    "    \"warmup_steps\": 10000,\n",
    "    \"save_steps\": 4000,\n",
    "    \"total_steps\": 350000,\n",
    "  }\n",
    "\n",
    "  return config\n",
    "\n",
    "def find_highest_iter_file(directory):\n",
    "    ckpt_files = os.listdir(directory)\n",
    "    max_iter = 0\n",
    "    max_file = \"\"\n",
    "\n",
    "    for file in ckpt_files:\n",
    "        if file.endswith(\".ckpt\"):\n",
    "            iter_no = int(re.findall(\"\\d+\", file)[0])\n",
    "            if iter_no > max_iter:\n",
    "                max_iter = iter_no\n",
    "                max_file = file\n",
    "    return max_file, max_iter\n",
    "\n",
    "def main(data_dir, save_path, batch_size, n_workers, valid_steps, warmup_steps, total_steps, save_steps):\n",
    "  device = torch.device(\"cuda\" if torch.cuda.is_available() else \"cpu\")\n",
    "  print(f\"[Info]: Use {device} now!\")\n",
    "\n",
    "  train_loader, valid_loader, speaker_num = get_dataloader(data_dir, batch_size, n_workers)\n",
    "  train_iterator = iter(train_loader)\n",
    "  highest_model_name, start_step = find_highest_iter_file(\".\")\n",
    "  model = Classifier(n_spks=speaker_num).to(device)\n",
    "  \n",
    "  if highest_model_name:\n",
    "    model.load_state_dict(torch.load(highest_model_name))\n",
    "    print(f\"[Info]: Loaded pre-trained model: {highest_model_name}\")\n",
    "  \n",
    "  criterion = nn.CrossEntropyLoss()\n",
    "  optimizer = AdamW(model.parameters(), lr=1e-3)\n",
    "  scheduler = get_cosine_schedule_with_warmup(optimizer, warmup_steps, total_steps)\n",
    "\n",
    "  best_accuracy = -1.0\n",
    "  best_state_dict = None\n",
    "\n",
    "  pbar = tqdm(total=valid_steps, ncols=0, desc=\"Train\", unit=\"step\")\n",
    "\n",
    "  for step in range(start_step, total_steps):\n",
    "    try:\n",
    "      batch = next(train_iterator)\n",
    "    except StopIteration:\n",
    "      train_iterator = iter(train_loader)\n",
    "      batch = next(train_iterator)\n",
    "      \n",
    "    loss, accuracy = model_fn(batch, model, criterion, device)\n",
    "    batch_loss = loss.item()\n",
    "    batch_accuracy = accuracy.item()\n",
    "\n",
    "    loss.backward()\n",
    "    optimizer.step()\n",
    "    scheduler.step()\n",
    "    optimizer.zero_grad()\n",
    "\n",
    "    adj_step = step + 1\n",
    "\n",
    "    pbar.update()\n",
    "    pbar.set_postfix(\n",
    "      loss=f\"{batch_loss:.2f}\",\n",
    "      accuracy=f\"{batch_accuracy:.2f}\",\n",
    "      step=adj_step,\n",
    "    )\n",
    "\n",
    "    if (adj_step) % valid_steps == 0:\n",
    "      pbar.close()\n",
    "\n",
    "      valid_accuracy = valid(valid_loader, model, criterion, device)\n",
    "      if valid_accuracy > best_accuracy:\n",
    "        best_accuracy = valid_accuracy\n",
    "        best_state_dict = model.state_dict()\n",
    "\n",
    "      pbar = tqdm(total=valid_steps, ncols=0, desc=\"Train\", unit=\"step\")\n",
    "\n",
    "    if (adj_step) % save_steps == 0 and best_state_dict is not None:\n",
    "      checkpoint_path = f\"model_{adj_step}_{best_accuracy:.4f}.ckpt\"\n",
    "      torch.save(best_state_dict, checkpoint_path)\n",
    "      pbar.write(f\"Step {adj_step}, best model saved. (accuracy={best_accuracy:.4f})\")\n",
    "\n",
    "  pbar.close()\n",
    "\n",
    "if __name__ == \"__main__\":\n",
    "  main(**parse_args())"
   ]
  },
  {
   "cell_type": "markdown",
   "metadata": {
    "id": "pSuI3WY9Fz78"
   },
   "source": [
    "## Dataset of inference"
   ]
  },
  {
   "cell_type": "code",
   "execution_count": 2,
   "metadata": {
    "id": "4evns0055Dsx"
   },
   "outputs": [],
   "source": [
    "import os\n",
    "import json\n",
    "import torch\n",
    "from pathlib import Path\n",
    "from torch.utils.data import Dataset\n",
    "\n",
    "\n",
    "class InferenceDataset(Dataset):\n",
    "  def __init__(self, data_dir):\n",
    "    testdata_path = Path(data_dir) / \"testdata.json\"\n",
    "    metadata = json.load(testdata_path.open())\n",
    "    self.data_dir = data_dir\n",
    "    self.data = metadata[\"utterances\"]\n",
    "\n",
    "  def __len__(self):\n",
    "    return len(self.data)\n",
    "\n",
    "  def __getitem__(self, index):\n",
    "    utterance = self.data[index]\n",
    "    feat_path = utterance[\"feature_path\"]\n",
    "    mel = torch.load(os.path.join(self.data_dir, feat_path))\n",
    "\n",
    "    return feat_path, mel\n",
    "\n",
    "\n",
    "def inference_collate_batch(batch):\n",
    "  \"\"\"Collate a batch of data.\"\"\"\n",
    "  feat_paths, mels = zip(*batch)\n",
    "\n",
    "  return feat_paths, torch.stack(mels)\n"
   ]
  },
  {
   "cell_type": "markdown",
   "metadata": {
    "id": "oAinHBG1GIWv"
   },
   "source": [
    "## Main funcrion of Inference"
   ]
  },
  {
   "cell_type": "code",
   "execution_count": 3,
   "metadata": {
    "id": "yQaTt7VDHoRI"
   },
   "outputs": [
    {
     "name": "stdout",
     "output_type": "stream",
     "text": [
      "[Info]: Use cuda now!\n",
      "[Info]: Finish loading data!\n",
      "['./model_188000_0.8404.ckpt', './model_312000_0.8938.ckpt', './model_140000_0.8094.ckpt', './model_280000_0.8831.ckpt', './model_192000_0.8425.ckpt', './model_236000_0.8608.ckpt', './model_340000_0.8950.ckpt', './model_268000_0.8777.ckpt', './model_56000_0.7121.ckpt', './model_304000_0.8877.ckpt', './model_292000_0.8867.ckpt', './model_328000_0.8940.ckpt', './model_132000_0.8046.ckpt', './model_52000_0.6973.ckpt', './model_256000_0.8733.ckpt', './model_212000_0.8562.ckpt', './model_80000_0.7579.ckpt', './model_224000_0.8602.ckpt', './model_152000_0.8200.ckpt', './model_64000_0.7465.ckpt', './model_172000_0.8313.ckpt', './model_228000_0.8602.ckpt', './model_60000_0.7160.ckpt', './model_40000_0.6710.ckpt', './model_48000_0.6973.ckpt', './model_88000_0.7692.ckpt', './model_232000_0.8602.ckpt', './model_216000_0.8562.ckpt', './model_108000_0.7867.ckpt', './model_220000_0.8579.ckpt', './model_120000_0.7929.ckpt', './model_240000_0.8631.ckpt', './model_252000_0.8723.ckpt', './model_116000_0.7867.ckpt', './model_4000_0.1554.ckpt', './model_180000_0.8340.ckpt', './model_288000_0.8865.ckpt', './model_276000_0.8792.ckpt', './model_156000_0.8200.ckpt', './model_12000_0.4027.ckpt', './model_20000_0.5308.ckpt', './model_196000_0.8442.ckpt', './model_284000_0.8838.ckpt', './model_44000_0.6779.ckpt', './model_112000_0.7867.ckpt', './model_84000_0.7692.ckpt', './model_272000_0.8777.ckpt', './model_248000_0.8723.ckpt', './model_68000_0.7465.ckpt', './model_148000_0.8200.ckpt', './model_24000_0.5935.ckpt', './model_124000_0.7929.ckpt', './model_348000_0.9012.ckpt', './model_8000_0.3315.ckpt', './model_100000_0.7781.ckpt', './model_16000_0.4846.ckpt', './model_308000_0.8892.ckpt', './model_208000_0.8542.ckpt', './model_32000_0.6385.ckpt', './model_104000_0.7783.ckpt', './model_136000_0.8094.ckpt', './model_320000_0.8940.ckpt', './model_324000_0.8940.ckpt', './model_28000_0.6083.ckpt', './model_332000_0.8940.ckpt', './model_176000_0.8340.ckpt', './model_144000_0.8200.ckpt', './model_96000_0.7781.ckpt', './model_36000_0.6567.ckpt', './model_168000_0.8290.ckpt', './model_76000_0.7579.ckpt', './model_336000_0.8940.ckpt', './model_344000_0.8950.ckpt', './model_160000_0.8200.ckpt', './model_264000_0.8777.ckpt', './model_316000_0.8940.ckpt', './model_72000_0.7465.ckpt', './model_164000_0.8254.ckpt', './model_296000_0.8873.ckpt', './model_92000_0.7706.ckpt', './model_244000_0.8631.ckpt', './model_184000_0.8340.ckpt', './model_200000_0.8442.ckpt', './model_300000_0.8877.ckpt', './model_204000_0.8492.ckpt', './model_260000_0.8777.ckpt', './model_128000_0.7929.ckpt']\n",
      "Loading from file ./model_348000_0.9012.ckpt\n",
      "[Info]: Finish creating model!\n"
     ]
    },
    {
     "name": "stderr",
     "output_type": "stream",
     "text": [
      "100%|███████████████████████████████████████████████████████████████████████████████████| 6657/6657 [00:32<00:00, 205.44it/s]\n"
     ]
    }
   ],
   "source": [
    "import json\n",
    "import csv\n",
    "import glob\n",
    "from pathlib import Path\n",
    "from tqdm import tqdm\n",
    "\n",
    "import torch\n",
    "from torch.utils.data import DataLoader\n",
    "\n",
    "def parse_args():\n",
    "  \"\"\"arguments\"\"\"\n",
    "  config = {\n",
    "    \"data_dir\": \"../Dataset\",\n",
    "    \"model_path\": \"./model.ckpt\",\n",
    "    \"output_path\": \"./output.csv\",\n",
    "  }\n",
    "\n",
    "  return config\n",
    "\n",
    "\n",
    "def main(\n",
    "  data_dir,\n",
    "  model_path,\n",
    "  output_path,\n",
    "):\n",
    "  \"\"\"Main function.\"\"\"\n",
    "  device = torch.device(\"cuda\" if torch.cuda.is_available() else \"cpu\")\n",
    "  print(f\"[Info]: Use {device} now!\")\n",
    "\n",
    "  mapping_path = Path(data_dir) / \"mapping.json\"\n",
    "  mapping = json.load(mapping_path.open())\n",
    "\n",
    "  dataset = InferenceDataset(data_dir)\n",
    "  dataloader = DataLoader(\n",
    "    dataset,\n",
    "    batch_size=1,\n",
    "    shuffle=False,\n",
    "    drop_last=False,\n",
    "    num_workers=0,\n",
    "    collate_fn=inference_collate_batch,\n",
    "  )\n",
    "  print(f\"[Info]: Finish loading data!\",flush = True)\n",
    "\n",
    "  speaker_num = len(mapping[\"id2speaker\"])\n",
    "  model = Classifier(n_spks=speaker_num).to(device)\n",
    "  # new code to automatically find and load the best model\n",
    "  list_of_files = glob.glob(f\"./*.ckpt\")  # get list of all model files\n",
    "  print(list_of_files)\n",
    "  latest_file = max(list_of_files, key=lambda x: float(x.split('_')[2].split('.')[1]))  # get the best model file\n",
    "  print(f\"Loading from file {latest_file}\")\n",
    "  model.load_state_dict(torch.load(latest_file))\n",
    "  model.eval()\n",
    "  print(f\"[Info]: Finish creating model!\",flush = True)\n",
    "\n",
    "  results = [[\"Id\", \"Category\"]]\n",
    "  for feat_paths, mels in tqdm(dataloader):\n",
    "    with torch.no_grad():\n",
    "      mels = mels.to(device)\n",
    "      outs = model(mels)\n",
    "      preds = outs.argmax(1).cpu().numpy()\n",
    "      for feat_path, pred in zip(feat_paths, preds):\n",
    "        results.append([feat_path, mapping[\"id2speaker\"][str(pred)]])\n",
    "  \n",
    "  with open(output_path, 'w', newline='') as csvfile:\n",
    "    writer = csv.writer(csvfile)\n",
    "    writer.writerows(results)\n",
    "\n",
    "\n",
    "if __name__ == \"__main__\":\n",
    "  main(**parse_args())"
   ]
  }
 ],
 "metadata": {
  "accelerator": "GPU",
  "colab": {
   "collapsed_sections": [],
   "name": "HW04 (1).ipynb",
   "provenance": [],
   "toc_visible": true
  },
  "kernelspec": {
   "display_name": "Python 3 (ipykernel)",
   "language": "python",
   "name": "python3"
  },
  "language_info": {
   "codemirror_mode": {
    "name": "ipython",
    "version": 3
   },
   "file_extension": ".py",
   "mimetype": "text/x-python",
   "name": "python",
   "nbconvert_exporter": "python",
   "pygments_lexer": "ipython3",
   "version": "3.10.6"
  }
 },
 "nbformat": 4,
 "nbformat_minor": 4
}
