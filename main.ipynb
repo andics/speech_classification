{
 "cells": [
  {
   "cell_type": "markdown",
   "metadata": {
    "id": "zC5KwRyl6Flp"
   },
   "source": [
    "# Task description\n",
    "- Classify the speakers of given features.\n",
    "- Main goal: Learn how to use transformer.\n",
    "- Hints:\n",
    "  - Easy: Run sample code and know how to use transformer.\n",
    "  - Medium: Know how to adjust parameters of transformer.\n",
    "  - Hard: Construct [conformer](https://arxiv.org/abs/2005.08100) which is a variety of transformer. \n",
    "  - Data: [link](https://portland-my.sharepoint.com/:u:/g/personal/jingtogao2-c_my_cityu_edu_hk/EcrvD3UhFFtKl1BF7eHJmYsB7mNJbrikkdKKYCQH89sHEQ?e=rfzoi4)\n",
    "  - Kaggle: [link](https://www.kaggle.com/t/04b10153a9264917925e7ffd25c2d18f)\n",
    "  \n",
    "## First\n",
    "You should extract \"Dataset.zip\" and put the extracted file and the HW04_Baseline.ipynb in the same folder.\n",
    "\n",
    "As an example, your project could be:\n",
    "- Exam\n",
    "  - HW04_Baseline.ipynb\n",
    "  - Dataset\n",
    "    - metadata.json\n",
    "    - testdata.json\n",
    "    - ... (other files in the Dataset folder)\n",
    "    \n",
    "## Submitting\n",
    "- **You should submit your result to kaggle (csv file), and your code (ipynb file) to canvas assignment.**\n",
    "- Before submitting, **please change your kaggle \"account name\" and your ipynb file name (for canvas) to {your name_your student ID} (e.g., Kaggle Account Name: jingtong gao_57280563; Canvas Submission File Name: jingtong gao_57280563.ipynb)** so that we can find out who you are from Leaderboard->members->your account icon. Check that after submission.\n",
    "- For kaggle submission, there is a limit of 5 submissions each day.\n",
    "- This is an individual work!\n",
    "- Ensemble models are not allowed.\n",
    "- You may use NumPy or PyTorch to implement other models manually, but importing other packages is prohibited.\n",
    "- Using pre-trained models downloaded from web pages or training with other dataset from web pages is strictly prohibited!\n",
    "- Don't cheat!"
   ]
  },
  {
   "cell_type": "markdown",
   "metadata": {
    "id": "v1gYr_aoNDue"
   },
   "source": [
    "# Data"
   ]
  },
  {
   "cell_type": "markdown",
   "metadata": {
    "id": "Mz_NpuAipk3h"
   },
   "source": [
    "## Dataset\n",
    "- Original dataset is [Voxceleb1](https://www.robots.ox.ac.uk/~vgg/data/voxceleb/).\n",
    "- The [license](https://creativecommons.org/licenses/by/4.0/) of Voxceleb1.\n",
    "- 600 randomly selected speakers from Voxceleb1.\n",
    "- Then preprocess the raw waveforms into mel-spectrograms and apply some data preprocessing methods.\n",
    "\n",
    "- Args:\n",
    "  - data_dir: The path to the data directory.\n",
    "  - metadata_path: The path to the metadata.\n",
    "  - segment_len: The length of audio segment for training. \n",
    "- The architecture of data directory \\\\\n",
    "  - data directory \\\\\n",
    "  |---- metadata.json \\\\\n",
    "  |---- testdata.json \\\\\n",
    "  |---- mapping.json \\\\\n",
    "  |---- uttr-{random string}.pt \\\\\n",
    "\n",
    "- The information in metadata\n",
    "  - \"n_mels\": The dimention of mel-spectrogram.\n",
    "  - \"speakers\": A dictionary. \n",
    "    - Key: speaker ids.\n",
    "    - value: \"feature_path\" and \"mel_len\"\n",
    "\n",
    "\n",
    "For efficiency, we segment the mel-spectrograms into segments in the traing step."
   ]
  },
  {
   "cell_type": "code",
   "execution_count": 1,
   "metadata": {
    "id": "cd7hoGhYtbXQ"
   },
   "outputs": [],
   "source": [
    "import os\n",
    "import json\n",
    "import torch\n",
    "import random\n",
    "from pathlib import Path\n",
    "from torch.utils.data import Dataset\n",
    "from torch.nn.utils.rnn import pad_sequence\n",
    " \n",
    " \n",
    "class myDataset(Dataset):\n",
    "  def __init__(self, data_dir, segment_len=128):\n",
    "    self.data_dir = data_dir\n",
    "    self.segment_len = segment_len\n",
    " \n",
    "    # Load the mapping from speaker neme to their corresponding id. \n",
    "    mapping_path = Path(data_dir) / \"mapping.json\"\n",
    "    mapping = json.load(mapping_path.open())\n",
    "    self.speaker2id = mapping[\"speaker2id\"]\n",
    " \n",
    "    # Load metadata of training data.\n",
    "    metadata_path = Path(data_dir) / \"metadata.json\"\n",
    "    metadata = json.load(open(metadata_path))[\"speakers\"]\n",
    " \n",
    "    # Get the total number of speaker.\n",
    "    self.speaker_num = len(metadata.keys())\n",
    "    self.data = []\n",
    "    for speaker in metadata.keys():\n",
    "      for utterances in metadata[speaker]:\n",
    "        self.data.append([utterances[\"feature_path\"], self.speaker2id[speaker]])\n",
    " \n",
    "  def __len__(self):\n",
    "    return len(self.data)\n",
    " \n",
    "  def __getitem__(self, index):\n",
    "    feat_path, speaker = self.data[index]\n",
    "    # Load preprocessed mel-spectrogram.\n",
    "    mel = torch.load(os.path.join(self.data_dir, feat_path))\n",
    " \n",
    "    # Segmemt mel-spectrogram into \"segment_len\" frames.\n",
    "    if len(mel) > self.segment_len:\n",
    "      # Randomly get the starting point of the segment.\n",
    "      start = random.randint(0, len(mel) - self.segment_len)\n",
    "      # Get a segment with \"segment_len\" frames.\n",
    "      mel = torch.FloatTensor(mel[start:start+self.segment_len])\n",
    "    else:\n",
    "      mel = torch.FloatTensor(mel)\n",
    "    # Turn the speaker id into long for computing loss later.\n",
    "    speaker = torch.FloatTensor([speaker]).long()\n",
    "    return mel, speaker\n",
    " \n",
    "  def get_speaker_number(self):\n",
    "    return self.speaker_num"
   ]
  },
  {
   "cell_type": "markdown",
   "metadata": {
    "id": "mqJxjoi_NGnB"
   },
   "source": [
    "## Dataloader\n",
    "- Split dataset into training dataset(90%) and validation dataset(10%).\n",
    "- Create dataloader to iterate the data.\n"
   ]
  },
  {
   "cell_type": "code",
   "execution_count": 2,
   "metadata": {
    "id": "zuT1AuFENI8t"
   },
   "outputs": [],
   "source": [
    "import torch\n",
    "from torch.utils.data import DataLoader, random_split\n",
    "from torch.nn.utils.rnn import pad_sequence\n",
    "\n",
    "\n",
    "def collate_batch(batch):\n",
    "  # Process features within a batch.\n",
    "  \"\"\"Collate a batch of data.\"\"\"\n",
    "  mel, speaker = zip(*batch)\n",
    "  # Because we train the model batch by batch, we need to pad the features in the same batch to make their lengths the same.\n",
    "  mel = pad_sequence(mel, batch_first=True, padding_value=-20)    # pad log 10^(-20) which is very small value.\n",
    "  # mel: (batch size, length, 40)\n",
    "  return mel, torch.FloatTensor(speaker).long()\n",
    "\n",
    "\n",
    "def get_dataloader(data_dir, batch_size, n_workers):\n",
    "  \"\"\"Generate dataloader\"\"\"\n",
    "  dataset = myDataset(data_dir)\n",
    "  speaker_num = dataset.get_speaker_number()\n",
    "  # Split dataset into training dataset and validation dataset\n",
    "  trainlen = int(0.9 * len(dataset))\n",
    "  lengths = [trainlen, len(dataset) - trainlen]\n",
    "  trainset, validset = random_split(dataset, lengths)\n",
    "  train_loader = DataLoader(\n",
    "    trainset,\n",
    "    batch_size=batch_size,\n",
    "    shuffle=True,\n",
    "    drop_last=True,\n",
    "    num_workers=n_workers,\n",
    "    pin_memory=True,\n",
    "    collate_fn=collate_batch,\n",
    "  )\n",
    "  valid_loader = DataLoader(\n",
    "    validset,\n",
    "    batch_size=batch_size,\n",
    "    num_workers=n_workers,\n",
    "    drop_last=True,\n",
    "    pin_memory=True,\n",
    "    collate_fn=collate_batch,\n",
    "  )\n",
    "  return train_loader, valid_loader, speaker_num\n"
   ]
  },
  {
   "cell_type": "markdown",
   "metadata": {
    "id": "X0x6eXiHpr4R"
   },
   "source": [
    "# Model\n",
    "- TransformerEncoderLayer:\n",
    "  - Base transformer encoder layer in [Attention Is All You Need](https://arxiv.org/abs/1706.03762)\n",
    "  - Parameters:\n",
    "    - d_model: the number of expected features of the input (required).\n",
    "\n",
    "    - nhead: the number of heads of the multiheadattention models (required).\n",
    "\n",
    "    - dim_feedforward: the dimension of the feedforward network model (default=2048).\n",
    "\n",
    "    - dropout: the dropout value (default=0.1).\n",
    "\n",
    "    - activation: the activation function of intermediate layer, relu or gelu (default=relu).\n",
    "\n",
    "- TransformerEncoder:\n",
    "  - TransformerEncoder is a stack of N transformer encoder layers\n",
    "  - Parameters:\n",
    "    - encoder_layer: an instance of the TransformerEncoderLayer() class (required).\n",
    "\n",
    "    - num_layers: the number of sub-encoder-layers in the encoder (required).\n",
    "\n",
    "    - norm: the layer normalization component (optional)."
   ]
  },
  {
   "cell_type": "code",
   "execution_count": 3,
   "metadata": {
    "id": "SHX4eVj4tjtd"
   },
   "outputs": [],
   "source": [
    "import torch\n",
    "import torch.nn as nn\n",
    "import torch.nn.functional as F\n",
    "\n",
    "\n",
    "class Classifier(nn.Module):\n",
    "  def __init__(self, d_model=80, n_spks=600, dropout=0.1):\n",
    "    super().__init__()\n",
    "    # Project the dimension of features from that of input into d_model.\n",
    "    self.prenet = nn.Linear(40, d_model)\n",
    "    # TODO:\n",
    "    #   Change Transformer to Conformer.\n",
    "    #   https://arxiv.org/abs/2005.08100\n",
    "    self.encoder_layer = nn.TransformerEncoderLayer(\n",
    "      d_model=d_model, dim_feedforward=128, nhead=2\n",
    "    )\n",
    "    # self.encoder = nn.TransformerEncoder(self.encoder_layer, num_layers=2)\n",
    "\n",
    "    # Project the the dimension of features from d_model into speaker nums.\n",
    "    self.pred_layer = nn.Sequential(\n",
    "      nn.Linear(d_model, d_model),\n",
    "      nn.ReLU(),\n",
    "      nn.Linear(d_model, n_spks),\n",
    "    )\n",
    "\n",
    "  def forward(self, mels):\n",
    "    \"\"\"\n",
    "    args:\n",
    "      mels: (batch size, length, 40)\n",
    "    return:\n",
    "      out: (batch size, n_spks)\n",
    "    \"\"\"\n",
    "    # out: (batch size, length, d_model)\n",
    "    out = self.prenet(mels)\n",
    "    # out: (length, batch size, d_model)\n",
    "    out = out.permute(1, 0, 2)\n",
    "    # The encoder layer expect features in the shape of (length, batch size, d_model).\n",
    "    out = self.encoder_layer(out)\n",
    "    # out: (batch size, length, d_model)\n",
    "    out = out.transpose(0, 1)\n",
    "    # mean pooling\n",
    "    stats = out.mean(dim=1)\n",
    "\n",
    "    # out: (batch, n_spks)\n",
    "    out = self.pred_layer(stats)\n",
    "    return out\n"
   ]
  },
  {
   "cell_type": "markdown",
   "metadata": {
    "id": "-__DolPGpvDZ"
   },
   "source": [
    "# Learning rate schedule\n",
    "- For transformer architecture, the design of learning rate schedule is different from that of CNN.\n",
    "- Previous works show that the warmup of learning rate is useful for training models with transformer architectures.\n",
    "- The warmup schedule\n",
    "  - Set learning rate to 0 in the beginning.\n",
    "  - The learning rate increases linearly from 0 to initial learning rate during warmup period."
   ]
  },
  {
   "cell_type": "code",
   "execution_count": 4,
   "metadata": {
    "id": "K-0816BntqT9"
   },
   "outputs": [],
   "source": [
    "import math\n",
    "\n",
    "import torch\n",
    "from torch.optim import Optimizer\n",
    "from torch.optim.lr_scheduler import LambdaLR\n",
    "\n",
    "\n",
    "def get_cosine_schedule_with_warmup(\n",
    "  optimizer: Optimizer,\n",
    "  num_warmup_steps: int,\n",
    "  num_training_steps: int,\n",
    "  num_cycles: float = 0.5,\n",
    "  last_epoch: int = -1,\n",
    "):\n",
    "  \"\"\"\n",
    "  Create a schedule with a learning rate that decreases following the values of the cosine function between the\n",
    "  initial lr set in the optimizer to 0, after a warmup period during which it increases linearly between 0 and the\n",
    "  initial lr set in the optimizer.\n",
    "\n",
    "  Args:\n",
    "    optimizer (:class:`~torch.optim.Optimizer`):\n",
    "      The optimizer for which to schedule the learning rate.\n",
    "    num_warmup_steps (:obj:`int`):\n",
    "      The number of steps for the warmup phase.\n",
    "    num_training_steps (:obj:`int`):\n",
    "      The total number of training steps.\n",
    "    num_cycles (:obj:`float`, `optional`, defaults to 0.5):\n",
    "      The number of waves in the cosine schedule (the defaults is to just decrease from the max value to 0\n",
    "      following a half-cosine).\n",
    "    last_epoch (:obj:`int`, `optional`, defaults to -1):\n",
    "      The index of the last epoch when resuming training.\n",
    "\n",
    "  Return:\n",
    "    :obj:`torch.optim.lr_scheduler.LambdaLR` with the appropriate schedule.\n",
    "  \"\"\"\n",
    "\n",
    "  def lr_lambda(current_step):\n",
    "    # Warmup\n",
    "    if current_step < num_warmup_steps:\n",
    "      return float(current_step) / float(max(1, num_warmup_steps))\n",
    "    # decadence\n",
    "    progress = float(current_step - num_warmup_steps) / float(\n",
    "      max(1, num_training_steps - num_warmup_steps)\n",
    "    )\n",
    "    return max(\n",
    "      0.0, 0.5 * (1.0 + math.cos(math.pi * float(num_cycles) * 2.0 * progress))\n",
    "    )\n",
    "\n",
    "  return LambdaLR(optimizer, lr_lambda, last_epoch)\n"
   ]
  },
  {
   "cell_type": "markdown",
   "metadata": {
    "id": "IP03FFo9K8DS"
   },
   "source": [
    "# Model Function\n",
    "- Model forward function."
   ]
  },
  {
   "cell_type": "code",
   "execution_count": 5,
   "metadata": {
    "id": "fohaLEFJK9-t"
   },
   "outputs": [],
   "source": [
    "import torch\n",
    "\n",
    "\n",
    "def model_fn(batch, model, criterion, device):\n",
    "  \"\"\"Forward a batch through the model.\"\"\"\n",
    "\n",
    "  mels, labels = batch\n",
    "  mels = mels.to(device)\n",
    "  labels = labels.to(device)\n",
    "\n",
    "  outs = model(mels)\n",
    "\n",
    "  loss = criterion(outs, labels)\n",
    "\n",
    "  # Get the speaker id with highest probability.\n",
    "  preds = outs.argmax(1)\n",
    "  # Compute accuracy.\n",
    "  accuracy = torch.mean((preds == labels).float())\n",
    "\n",
    "  return loss, accuracy\n"
   ]
  },
  {
   "cell_type": "markdown",
   "metadata": {
    "id": "F7cg-YrzLQcf"
   },
   "source": [
    "# Validate\n",
    "- Calculate accuracy of the validation set."
   ]
  },
  {
   "cell_type": "code",
   "execution_count": 6,
   "metadata": {
    "id": "mD-_p6nWLO2L"
   },
   "outputs": [],
   "source": [
    "from tqdm import tqdm\n",
    "import torch\n",
    "\n",
    "\n",
    "def valid(dataloader, model, criterion, device): \n",
    "  \"\"\"Validate on validation set.\"\"\"\n",
    "\n",
    "  model.eval()\n",
    "  running_loss = 0.0\n",
    "  running_accuracy = 0.0\n",
    "  pbar = tqdm(total=len(dataloader.dataset), ncols=0, desc=\"Valid\", unit=\" uttr\")\n",
    "\n",
    "  for i, batch in enumerate(dataloader):\n",
    "    with torch.no_grad():\n",
    "      loss, accuracy = model_fn(batch, model, criterion, device)\n",
    "      running_loss += loss.item()\n",
    "      running_accuracy += accuracy.item()\n",
    "\n",
    "    pbar.update(dataloader.batch_size)\n",
    "    pbar.set_postfix(\n",
    "      loss=f\"{running_loss / (i+1):.2f}\",\n",
    "      accuracy=f\"{running_accuracy / (i+1):.2f}\",\n",
    "    )\n",
    "\n",
    "  pbar.close()\n",
    "  model.train()\n",
    "\n",
    "  return running_accuracy / len(dataloader)\n"
   ]
  },
  {
   "cell_type": "markdown",
   "metadata": {
    "id": "noHXyal5p1W5"
   },
   "source": [
    "# Main function"
   ]
  },
  {
   "cell_type": "code",
   "execution_count": 7,
   "metadata": {
    "id": "chRQE7oYtw62",
    "scrolled": true
   },
   "outputs": [
    {
     "name": "stdout",
     "output_type": "stream",
     "text": [
      "[Info]: Use cuda now!\n",
      "[Info]: Finish loading data!\n",
      "[Info]: Finish creating model!\n"
     ]
    },
    {
     "name": "stderr",
     "output_type": "stream",
     "text": [
      "Train: 100% 2000/2000 [00:58<00:00, 33.95 step/s, accuracy=0.22, loss=3.60, step=2000]\n",
      "Valid: 100% 4832/4836 [00:02<00:00, 1623.88 uttr/s, accuracy=0.21, loss=3.81]\n",
      "Train: 100% 2000/2000 [00:55<00:00, 35.82 step/s, accuracy=0.22, loss=3.48, step=4000]\n",
      "Valid: 100% 4832/4836 [00:03<00:00, 1541.31 uttr/s, accuracy=0.32, loss=3.12]\n",
      "Train:   0% 6/2000 [00:00<01:10, 28.16 step/s, accuracy=0.25, loss=3.83, step=4006]"
     ]
    },
    {
     "name": "stdout",
     "output_type": "stream",
     "text": [
      "Step 4000, best model saved. (accuracy=0.3241)\n"
     ]
    },
    {
     "name": "stderr",
     "output_type": "stream",
     "text": [
      "Train: 100% 2000/2000 [00:56<00:00, 35.64 step/s, accuracy=0.38, loss=2.29, step=6000]\n",
      "Valid: 100% 4832/4836 [00:03<00:00, 1577.70 uttr/s, accuracy=0.36, loss=2.93]\n",
      "Train: 100% 2000/2000 [00:56<00:00, 35.35 step/s, accuracy=0.41, loss=2.38, step=8000]\n",
      "Valid: 100% 4832/4836 [00:02<00:00, 1731.53 uttr/s, accuracy=0.40, loss=2.72]\n",
      "Train:   0% 6/2000 [00:00<01:00, 33.00 step/s, accuracy=0.38, loss=2.54, step=8006]"
     ]
    },
    {
     "name": "stdout",
     "output_type": "stream",
     "text": [
      "Step 8000, best model saved. (accuracy=0.4007)\n"
     ]
    },
    {
     "name": "stderr",
     "output_type": "stream",
     "text": [
      "Train: 100% 2000/2000 [00:56<00:00, 35.64 step/s, accuracy=0.38, loss=2.74, step=1e+4]\n",
      "Valid: 100% 4832/4836 [00:02<00:00, 1680.61 uttr/s, accuracy=0.43, loss=2.55]\n",
      "Train: 100% 2000/2000 [00:56<00:00, 35.59 step/s, accuracy=0.56, loss=2.20, step=12000]\n",
      "Valid: 100% 4832/4836 [00:02<00:00, 1646.87 uttr/s, accuracy=0.45, loss=2.45]\n",
      "Train:   0% 6/2000 [00:00<00:58, 33.93 step/s, accuracy=0.47, loss=2.51, step=12006]"
     ]
    },
    {
     "name": "stdout",
     "output_type": "stream",
     "text": [
      "Step 12000, best model saved. (accuracy=0.4501)\n"
     ]
    },
    {
     "name": "stderr",
     "output_type": "stream",
     "text": [
      "Train: 100% 2000/2000 [00:56<00:00, 35.62 step/s, accuracy=0.44, loss=2.50, step=14000]\n",
      "Valid: 100% 4832/4836 [00:03<00:00, 1527.67 uttr/s, accuracy=0.47, loss=2.44]\n",
      "Train: 100% 2000/2000 [00:56<00:00, 35.70 step/s, accuracy=0.44, loss=2.17, step=16000]\n",
      "Valid: 100% 4832/4836 [00:03<00:00, 1461.49 uttr/s, accuracy=0.49, loss=2.29]\n",
      "Train:   0% 6/2000 [00:00<01:06, 29.90 step/s, accuracy=0.53, loss=1.99, step=16006]"
     ]
    },
    {
     "name": "stdout",
     "output_type": "stream",
     "text": [
      "Step 16000, best model saved. (accuracy=0.4894)\n"
     ]
    },
    {
     "name": "stderr",
     "output_type": "stream",
     "text": [
      "Train: 100% 2000/2000 [00:55<00:00, 35.86 step/s, accuracy=0.38, loss=2.60, step=18000]\n",
      "Valid: 100% 4832/4836 [00:02<00:00, 1675.52 uttr/s, accuracy=0.51, loss=2.18]\n",
      "Train: 100% 2000/2000 [00:56<00:00, 35.65 step/s, accuracy=0.62, loss=1.37, step=2e+4] \n",
      "Valid: 100% 4832/4836 [00:02<00:00, 1636.02 uttr/s, accuracy=0.50, loss=2.21]\n",
      "Train:   0% 7/2000 [00:00<00:59, 33.27 step/s, accuracy=0.53, loss=2.23, step=2e+4]"
     ]
    },
    {
     "name": "stdout",
     "output_type": "stream",
     "text": [
      "Step 20000, best model saved. (accuracy=0.5075)\n"
     ]
    },
    {
     "name": "stderr",
     "output_type": "stream",
     "text": [
      "Train: 100% 2000/2000 [00:55<00:00, 35.82 step/s, accuracy=0.75, loss=1.31, step=22000]\n",
      "Valid: 100% 4832/4836 [00:03<00:00, 1532.17 uttr/s, accuracy=0.53, loss=2.08]\n",
      "Train: 100% 2000/2000 [00:56<00:00, 35.64 step/s, accuracy=0.62, loss=1.33, step=24000]\n",
      "Valid: 100% 4832/4836 [00:03<00:00, 1531.73 uttr/s, accuracy=0.54, loss=2.01]\n",
      "Train:   0% 7/2000 [00:00<01:01, 32.67 step/s, accuracy=0.69, loss=1.52, step=24007]"
     ]
    },
    {
     "name": "stdout",
     "output_type": "stream",
     "text": [
      "Step 24000, best model saved. (accuracy=0.5445)\n"
     ]
    },
    {
     "name": "stderr",
     "output_type": "stream",
     "text": [
      "Train: 100% 2000/2000 [00:56<00:00, 35.62 step/s, accuracy=0.59, loss=1.59, step=26000]\n",
      "Valid: 100% 4832/4836 [00:03<00:00, 1585.12 uttr/s, accuracy=0.56, loss=2.00]\n",
      "Train: 100% 2000/2000 [00:56<00:00, 35.66 step/s, accuracy=0.59, loss=1.91, step=28000]\n",
      "Valid: 100% 4832/4836 [00:03<00:00, 1538.77 uttr/s, accuracy=0.57, loss=1.93]\n",
      "Train:   0% 6/2000 [00:00<01:01, 32.34 step/s, accuracy=0.56, loss=2.13, step=28006]"
     ]
    },
    {
     "name": "stdout",
     "output_type": "stream",
     "text": [
      "Step 28000, best model saved. (accuracy=0.5675)\n"
     ]
    },
    {
     "name": "stderr",
     "output_type": "stream",
     "text": [
      "Train: 100% 2000/2000 [00:55<00:00, 35.73 step/s, accuracy=0.66, loss=1.36, step=3e+4] \n",
      "Valid: 100% 4832/4836 [00:03<00:00, 1529.91 uttr/s, accuracy=0.56, loss=1.95]\n",
      "Train: 100% 2000/2000 [00:56<00:00, 35.54 step/s, accuracy=0.62, loss=1.46, step=32000]\n",
      "Valid: 100% 4832/4836 [00:03<00:00, 1525.85 uttr/s, accuracy=0.58, loss=1.87]\n",
      "Train:   0% 7/2000 [00:00<00:59, 33.61 step/s, accuracy=0.69, loss=0.95, step=32007]"
     ]
    },
    {
     "name": "stdout",
     "output_type": "stream",
     "text": [
      "Step 32000, best model saved. (accuracy=0.5797)\n"
     ]
    },
    {
     "name": "stderr",
     "output_type": "stream",
     "text": [
      "Train: 100% 2000/2000 [00:56<00:00, 35.43 step/s, accuracy=0.72, loss=1.48, step=34000]\n",
      "Valid: 100% 4832/4836 [00:03<00:00, 1493.27 uttr/s, accuracy=0.60, loss=1.80]\n",
      "Train: 100% 2000/2000 [00:56<00:00, 35.62 step/s, accuracy=0.59, loss=1.27, step=36000]\n",
      "Valid: 100% 4832/4836 [00:03<00:00, 1437.13 uttr/s, accuracy=0.60, loss=1.77]\n",
      "Train:   0% 4/2000 [00:00<02:00, 16.50 step/s, accuracy=0.75, loss=1.08, step=36004]"
     ]
    },
    {
     "name": "stdout",
     "output_type": "stream",
     "text": [
      "Step 36000, best model saved. (accuracy=0.5981)\n"
     ]
    },
    {
     "name": "stderr",
     "output_type": "stream",
     "text": [
      "Train: 100% 2000/2000 [00:56<00:00, 35.49 step/s, accuracy=0.50, loss=1.67, step=38000]\n",
      "Valid: 100% 4832/4836 [00:03<00:00, 1476.54 uttr/s, accuracy=0.60, loss=1.82]\n",
      "Train: 100% 2000/2000 [00:56<00:00, 35.67 step/s, accuracy=0.59, loss=1.75, step=4e+4] \n",
      "Valid: 100% 4832/4836 [00:03<00:00, 1539.08 uttr/s, accuracy=0.61, loss=1.76]\n",
      "Train:   0% 7/2000 [00:00<00:59, 33.54 step/s, accuracy=0.62, loss=1.78, step=4e+4]"
     ]
    },
    {
     "name": "stdout",
     "output_type": "stream",
     "text": [
      "Step 40000, best model saved. (accuracy=0.6099)\n"
     ]
    },
    {
     "name": "stderr",
     "output_type": "stream",
     "text": [
      "Train: 100% 2000/2000 [00:55<00:00, 35.72 step/s, accuracy=0.66, loss=1.27, step=42000]\n",
      "Valid: 100% 4832/4836 [00:03<00:00, 1530.34 uttr/s, accuracy=0.62, loss=1.73]\n",
      "Train: 100% 2000/2000 [00:56<00:00, 35.55 step/s, accuracy=0.72, loss=1.13, step=44000]\n",
      "Valid: 100% 4832/4836 [00:02<00:00, 1630.23 uttr/s, accuracy=0.62, loss=1.70]\n",
      "Train:   0% 6/2000 [00:00<00:56, 35.45 step/s, accuracy=0.78, loss=0.89, step=44006]"
     ]
    },
    {
     "name": "stdout",
     "output_type": "stream",
     "text": [
      "Step 44000, best model saved. (accuracy=0.6211)\n"
     ]
    },
    {
     "name": "stderr",
     "output_type": "stream",
     "text": [
      "Train: 100% 2000/2000 [00:55<00:00, 35.75 step/s, accuracy=0.72, loss=1.36, step=46000]\n",
      "Valid: 100% 4832/4836 [00:03<00:00, 1609.84 uttr/s, accuracy=0.63, loss=1.68]\n",
      "Train: 100% 2000/2000 [00:56<00:00, 35.61 step/s, accuracy=0.78, loss=0.85, step=48000]\n",
      "Valid: 100% 4832/4836 [00:03<00:00, 1590.23 uttr/s, accuracy=0.64, loss=1.65]\n",
      "Train:   0% 5/2000 [00:00<01:13, 27.03 step/s, accuracy=0.75, loss=0.96, step=48005]"
     ]
    },
    {
     "name": "stdout",
     "output_type": "stream",
     "text": [
      "Step 48000, best model saved. (accuracy=0.6370)\n"
     ]
    },
    {
     "name": "stderr",
     "output_type": "stream",
     "text": [
      "Train: 100% 2000/2000 [00:55<00:00, 35.78 step/s, accuracy=0.72, loss=1.07, step=5e+4] \n",
      "Valid: 100% 4832/4836 [00:03<00:00, 1561.46 uttr/s, accuracy=0.64, loss=1.63]\n",
      "Train: 100% 2000/2000 [00:56<00:00, 35.38 step/s, accuracy=0.59, loss=2.57, step=52000]\n",
      "Valid: 100% 4832/4836 [00:02<00:00, 1625.87 uttr/s, accuracy=0.65, loss=1.57]\n",
      "Train:   0% 6/2000 [00:00<01:01, 32.44 step/s, accuracy=0.78, loss=0.82, step=52006]"
     ]
    },
    {
     "name": "stdout",
     "output_type": "stream",
     "text": [
      "Step 52000, best model saved. (accuracy=0.6507)\n"
     ]
    },
    {
     "name": "stderr",
     "output_type": "stream",
     "text": [
      "Train: 100% 2000/2000 [00:57<00:00, 34.90 step/s, accuracy=0.69, loss=1.12, step=54000]\n",
      "Valid: 100% 4832/4836 [00:03<00:00, 1505.30 uttr/s, accuracy=0.65, loss=1.57]\n",
      "Train: 100% 2000/2000 [00:55<00:00, 35.78 step/s, accuracy=0.59, loss=1.31, step=56000]\n",
      "Valid: 100% 4832/4836 [00:03<00:00, 1522.62 uttr/s, accuracy=0.64, loss=1.57]\n",
      "Train:   0% 7/2000 [00:00<00:53, 37.22 step/s, accuracy=0.72, loss=1.11, step=56007]"
     ]
    },
    {
     "name": "stdout",
     "output_type": "stream",
     "text": [
      "Step 56000, best model saved. (accuracy=0.6546)\n"
     ]
    },
    {
     "name": "stderr",
     "output_type": "stream",
     "text": [
      "Train: 100% 2000/2000 [00:57<00:00, 34.86 step/s, accuracy=0.72, loss=1.17, step=58000]\n",
      "Valid: 100% 4832/4836 [00:02<00:00, 1737.38 uttr/s, accuracy=0.66, loss=1.58]\n",
      "Train: 100% 2000/2000 [00:56<00:00, 35.42 step/s, accuracy=0.84, loss=0.73, step=6e+4] \n",
      "Valid: 100% 4832/4836 [00:02<00:00, 1747.22 uttr/s, accuracy=0.66, loss=1.53]\n",
      "Train:   0% 7/2000 [00:00<00:57, 34.66 step/s, accuracy=0.66, loss=1.74, step=6e+4]"
     ]
    },
    {
     "name": "stdout",
     "output_type": "stream",
     "text": [
      "Step 60000, best model saved. (accuracy=0.6633)\n"
     ]
    },
    {
     "name": "stderr",
     "output_type": "stream",
     "text": [
      "Train: 100% 2000/2000 [00:56<00:00, 35.71 step/s, accuracy=0.75, loss=0.92, step=62000]\n",
      "Valid: 100% 4832/4836 [00:02<00:00, 1695.75 uttr/s, accuracy=0.66, loss=1.57]\n",
      "Train: 100% 2000/2000 [00:55<00:00, 35.91 step/s, accuracy=0.81, loss=1.01, step=64000]\n",
      "Valid: 100% 4832/4836 [00:03<00:00, 1579.76 uttr/s, accuracy=0.66, loss=1.48]\n",
      "Train:   0% 6/2000 [00:00<01:03, 31.64 step/s, accuracy=0.56, loss=1.62, step=64006]"
     ]
    },
    {
     "name": "stdout",
     "output_type": "stream",
     "text": [
      "Step 64000, best model saved. (accuracy=0.6633)\n"
     ]
    },
    {
     "name": "stderr",
     "output_type": "stream",
     "text": [
      "Train: 100% 2000/2000 [01:01<00:00, 32.27 step/s, accuracy=0.72, loss=0.75, step=66000]\n",
      "Valid: 100% 4832/4836 [00:03<00:00, 1571.45 uttr/s, accuracy=0.66, loss=1.54]\n",
      "Train: 100% 2000/2000 [00:58<00:00, 34.28 step/s, accuracy=0.69, loss=1.12, step=68000]\n",
      "Valid: 100% 4832/4836 [00:02<00:00, 1675.58 uttr/s, accuracy=0.66, loss=1.53]\n",
      "Train:   0% 6/2000 [00:00<00:54, 36.69 step/s, accuracy=0.62, loss=1.41, step=68006]"
     ]
    },
    {
     "name": "stdout",
     "output_type": "stream",
     "text": [
      "Step 68000, best model saved. (accuracy=0.6633)\n"
     ]
    },
    {
     "name": "stderr",
     "output_type": "stream",
     "text": [
      "Train: 100% 2000/2000 [00:56<00:00, 35.27 step/s, accuracy=0.69, loss=1.23, step=7e+4] \n",
      "Valid: 100% 4832/4836 [00:03<00:00, 1454.43 uttr/s, accuracy=0.66, loss=1.53]\n",
      "Train:   0% 0/2000 [00:00<?, ? step/s]\n"
     ]
    }
   ],
   "source": [
    "from tqdm import tqdm\n",
    "\n",
    "import torch\n",
    "import torch.nn as nn\n",
    "from torch.optim import AdamW\n",
    "from torch.utils.data import DataLoader, random_split\n",
    "\n",
    "\n",
    "def parse_args():\n",
    "  \"\"\"arguments\"\"\"\n",
    "  config = {\n",
    "    \"data_dir\": \"./Dataset\",\n",
    "    \"save_path\": \"model.ckpt\",\n",
    "    \"batch_size\": 32,\n",
    "    \"n_workers\": 0,\n",
    "    \"valid_steps\": 2000,\n",
    "    \"warmup_steps\": 1000,\n",
    "    \"save_steps\": 4000,\n",
    "    \"total_steps\": 70000,\n",
    "  }\n",
    "\n",
    "  return config\n",
    "\n",
    "\n",
    "def main(\n",
    "  data_dir,\n",
    "  save_path,\n",
    "  batch_size,\n",
    "  n_workers,\n",
    "  valid_steps,\n",
    "  warmup_steps,\n",
    "  total_steps,\n",
    "  save_steps,\n",
    "):\n",
    "  \"\"\"Main function.\"\"\"\n",
    "  device = torch.device(\"cuda\" if torch.cuda.is_available() else \"cpu\")\n",
    "  print(f\"[Info]: Use {device} now!\")\n",
    "\n",
    "  train_loader, valid_loader, speaker_num = get_dataloader(data_dir, batch_size, n_workers)\n",
    "  train_iterator = iter(train_loader)\n",
    "  print(f\"[Info]: Finish loading data!\",flush = True)\n",
    "\n",
    "  model = Classifier(n_spks=speaker_num).to(device)\n",
    "  criterion = nn.CrossEntropyLoss()\n",
    "  optimizer = AdamW(model.parameters(), lr=1e-3)\n",
    "  scheduler = get_cosine_schedule_with_warmup(optimizer, warmup_steps, total_steps)\n",
    "  print(f\"[Info]: Finish creating model!\",flush = True)\n",
    "\n",
    "  best_accuracy = -1.0\n",
    "  best_state_dict = None\n",
    "\n",
    "  pbar = tqdm(total=valid_steps, ncols=0, desc=\"Train\", unit=\" step\")\n",
    "\n",
    "  for step in range(total_steps):\n",
    "    # Get data\n",
    "    try:\n",
    "      batch = next(train_iterator)\n",
    "    except StopIteration:\n",
    "      train_iterator = iter(train_loader)\n",
    "      batch = next(train_iterator)\n",
    "\n",
    "    loss, accuracy = model_fn(batch, model, criterion, device)\n",
    "    batch_loss = loss.item()\n",
    "    batch_accuracy = accuracy.item()\n",
    "\n",
    "    # Updata model\n",
    "    loss.backward()\n",
    "    optimizer.step()\n",
    "    scheduler.step()\n",
    "    optimizer.zero_grad()\n",
    "    \n",
    "    # Log\n",
    "    pbar.update()\n",
    "    pbar.set_postfix(\n",
    "      loss=f\"{batch_loss:.2f}\",\n",
    "      accuracy=f\"{batch_accuracy:.2f}\",\n",
    "      step=step + 1,\n",
    "    )\n",
    "\n",
    "    # Do validation\n",
    "    if (step + 1) % valid_steps == 0:\n",
    "      pbar.close()\n",
    "\n",
    "      valid_accuracy = valid(valid_loader, model, criterion, device)\n",
    "\n",
    "      # keep the best model\n",
    "      if valid_accuracy > best_accuracy:\n",
    "        best_accuracy = valid_accuracy\n",
    "        best_state_dict = model.state_dict()\n",
    "\n",
    "      pbar = tqdm(total=valid_steps, ncols=0, desc=\"Train\", unit=\" step\")\n",
    "\n",
    "    # Save the best model so far.\n",
    "    if (step + 1) % save_steps == 0 and best_state_dict is not None:\n",
    "      torch.save(best_state_dict, save_path)\n",
    "      pbar.write(f\"Step {step + 1}, best model saved. (accuracy={best_accuracy:.4f})\")\n",
    "\n",
    "  pbar.close()\n",
    "\n",
    "\n",
    "if __name__ == \"__main__\":\n",
    "  main(**parse_args())\n"
   ]
  },
  {
   "cell_type": "markdown",
   "metadata": {
    "id": "0R2rx3AyHpQ-"
   },
   "source": [
    "# Inference"
   ]
  },
  {
   "cell_type": "markdown",
   "metadata": {
    "id": "pSuI3WY9Fz78"
   },
   "source": [
    "## Dataset of inference"
   ]
  },
  {
   "cell_type": "code",
   "execution_count": 8,
   "metadata": {
    "id": "4evns0055Dsx"
   },
   "outputs": [],
   "source": [
    "import os\n",
    "import json\n",
    "import torch\n",
    "from pathlib import Path\n",
    "from torch.utils.data import Dataset\n",
    "\n",
    "\n",
    "class InferenceDataset(Dataset):\n",
    "  def __init__(self, data_dir):\n",
    "    testdata_path = Path(data_dir) / \"testdata.json\"\n",
    "    metadata = json.load(testdata_path.open())\n",
    "    self.data_dir = data_dir\n",
    "    self.data = metadata[\"utterances\"]\n",
    "\n",
    "  def __len__(self):\n",
    "    return len(self.data)\n",
    "\n",
    "  def __getitem__(self, index):\n",
    "    utterance = self.data[index]\n",
    "    feat_path = utterance[\"feature_path\"]\n",
    "    mel = torch.load(os.path.join(self.data_dir, feat_path))\n",
    "\n",
    "    return feat_path, mel\n",
    "\n",
    "\n",
    "def inference_collate_batch(batch):\n",
    "  \"\"\"Collate a batch of data.\"\"\"\n",
    "  feat_paths, mels = zip(*batch)\n",
    "\n",
    "  return feat_paths, torch.stack(mels)\n"
   ]
  },
  {
   "cell_type": "markdown",
   "metadata": {
    "id": "oAinHBG1GIWv"
   },
   "source": [
    "## Main funcrion of Inference"
   ]
  },
  {
   "cell_type": "code",
   "execution_count": 9,
   "metadata": {
    "id": "yQaTt7VDHoRI"
   },
   "outputs": [
    {
     "name": "stdout",
     "output_type": "stream",
     "text": [
      "[Info]: Use cuda now!\n",
      "[Info]: Finish loading data!\n",
      "[Info]: Finish creating model!\n"
     ]
    },
    {
     "data": {
      "application/vnd.jupyter.widget-view+json": {
       "model_id": "796a003c6484496d9f7fe9d0b2a557c6",
       "version_major": 2,
       "version_minor": 0
      },
      "text/plain": [
       "  0%|          | 0/6657 [00:00<?, ?it/s]"
      ]
     },
     "metadata": {},
     "output_type": "display_data"
    }
   ],
   "source": [
    "import json\n",
    "import csv\n",
    "from pathlib import Path\n",
    "from tqdm.notebook import tqdm\n",
    "\n",
    "import torch\n",
    "from torch.utils.data import DataLoader\n",
    "\n",
    "def parse_args():\n",
    "  \"\"\"arguments\"\"\"\n",
    "  config = {\n",
    "    \"data_dir\": \"./Dataset\",\n",
    "    \"model_path\": \"./model.ckpt\",\n",
    "    \"output_path\": \"./output.csv\",\n",
    "  }\n",
    "\n",
    "  return config\n",
    "\n",
    "\n",
    "def main(\n",
    "  data_dir,\n",
    "  model_path,\n",
    "  output_path,\n",
    "):\n",
    "  \"\"\"Main function.\"\"\"\n",
    "  device = torch.device(\"cuda\" if torch.cuda.is_available() else \"cpu\")\n",
    "  print(f\"[Info]: Use {device} now!\")\n",
    "\n",
    "  mapping_path = Path(data_dir) / \"mapping.json\"\n",
    "  mapping = json.load(mapping_path.open())\n",
    "\n",
    "  dataset = InferenceDataset(data_dir)\n",
    "  dataloader = DataLoader(\n",
    "    dataset,\n",
    "    batch_size=1,\n",
    "    shuffle=False,\n",
    "    drop_last=False,\n",
    "    num_workers=0,\n",
    "    collate_fn=inference_collate_batch,\n",
    "  )\n",
    "  print(f\"[Info]: Finish loading data!\",flush = True)\n",
    "\n",
    "  speaker_num = len(mapping[\"id2speaker\"])\n",
    "  model = Classifier(n_spks=speaker_num).to(device)\n",
    "  model.load_state_dict(torch.load(model_path))\n",
    "  model.eval()\n",
    "  print(f\"[Info]: Finish creating model!\",flush = True)\n",
    "\n",
    "  results = [[\"Id\", \"Category\"]]\n",
    "  for feat_paths, mels in tqdm(dataloader):\n",
    "    with torch.no_grad():\n",
    "      mels = mels.to(device)\n",
    "      outs = model(mels)\n",
    "      preds = outs.argmax(1).cpu().numpy()\n",
    "      for feat_path, pred in zip(feat_paths, preds):\n",
    "        results.append([feat_path, mapping[\"id2speaker\"][str(pred)]])\n",
    "  \n",
    "  with open(output_path, 'w', newline='') as csvfile:\n",
    "    writer = csv.writer(csvfile)\n",
    "    writer.writerows(results)\n",
    "\n",
    "\n",
    "if __name__ == \"__main__\":\n",
    "  main(**parse_args())\n"
   ]
  }
 ],
 "metadata": {
  "accelerator": "GPU",
  "colab": {
   "collapsed_sections": [],
   "name": "HW04 (1).ipynb",
   "provenance": [],
   "toc_visible": true
  },
  "kernelspec": {
   "display_name": "myconda",
   "language": "python",
   "name": "myconda"
  },
  "language_info": {
   "codemirror_mode": {
    "name": "ipython",
    "version": 3
   },
   "file_extension": ".py",
   "mimetype": "text/x-python",
   "name": "python",
   "nbconvert_exporter": "python",
   "pygments_lexer": "ipython3",
   "version": "3.8.12"
  }
 },
 "nbformat": 4,
 "nbformat_minor": 4
}
