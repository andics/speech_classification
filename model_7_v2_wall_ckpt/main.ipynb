{
 "cells": [
  {
   "cell_type": "markdown",
   "metadata": {},
   "source": [
    "## Contributions"
   ]
  },
  {
   "cell_type": "code",
   "execution_count": 3,
   "metadata": {
    "id": "cd7hoGhYtbXQ"
   },
   "outputs": [
    {
     "name": "stderr",
     "output_type": "stream",
     "text": [
      "\r",
      "Train:  53% 1060/2000 [01:58<01:45,  8.92step/s, accuracy=0.01, loss=5.75, step=1060]"
     ]
    },
    {
     "name": "stdout",
     "output_type": "stream",
     "text": [
      "[Info]: Use cuda now!\n",
      "Train length 47869; Val length 484\n"
     ]
    },
    {
     "name": "stderr",
     "output_type": "stream",
     "text": [
      "\n",
      "Train:  13% 251/2000 [00:10<01:14, 23.52step/s, accuracy=0.00, loss=6.41, step=251]\n",
      "Train: 100% 2000/2000 [01:20<00:00, 24.73step/s, accuracy=0.03, loss=5.20, step=2000]A\n",
      "Valid:  93% 448/484 [00:00<00:00, 1873.55 uttr/s, accuracy=0.05, loss=5.20]\n"
     ]
    },
    {
     "name": "stdout",
     "output_type": "stream",
     "text": [
      "Checking validation accuracy. Validation accuracy 0.05133928571428571. Best accuracy -1.0.\n"
     ]
    },
    {
     "name": "stderr",
     "output_type": "stream",
     "text": [
      "Train: 100% 2000/2000 [01:21<00:00, 24.45step/s, accuracy=0.14, loss=4.35, step=4000]\n",
      "Valid:  93% 448/484 [00:00<00:00, 1360.88 uttr/s, accuracy=0.15, loss=4.27]\n"
     ]
    },
    {
     "name": "stdout",
     "output_type": "stream",
     "text": [
      "Checking validation accuracy. Validation accuracy 0.14732142857142858. Best accuracy 0.05133928571428571.\n"
     ]
    },
    {
     "name": "stderr",
     "output_type": "stream",
     "text": [
      "                                     \n",
      "Train:   0% 0/2000 [00:00<?, ?step/s]                                              \n",
      "Train:   0% 3/2000 [00:00<03:35,  9.28step/s, accuracy=0.25, loss=3.93, step=4003]]\u001b[A"
     ]
    },
    {
     "name": "stdout",
     "output_type": "stream",
     "text": [
      "Step 4000, best model saved. (accuracy=0.1473)\n"
     ]
    },
    {
     "name": "stderr",
     "output_type": "stream",
     "text": [
      "Train: 100% 2000/2000 [01:24<00:00, 23.74step/s, accuracy=0.22, loss=3.58, step=6000]\n",
      "Valid:  93% 448/484 [00:00<00:00, 1853.18 uttr/s, accuracy=0.24, loss=3.55]\n"
     ]
    },
    {
     "name": "stdout",
     "output_type": "stream",
     "text": [
      "Checking validation accuracy. Validation accuracy 0.23883928571428573. Best accuracy 0.14732142857142858.\n"
     ]
    },
    {
     "name": "stderr",
     "output_type": "stream",
     "text": [
      "Train: 100% 2000/2000 [01:22<00:00, 24.33step/s, accuracy=0.27, loss=3.25, step=8000]\n",
      "Valid:  93% 448/484 [00:00<00:00, 1716.06 uttr/s, accuracy=0.32, loss=3.16]\n"
     ]
    },
    {
     "name": "stdout",
     "output_type": "stream",
     "text": [
      "Checking validation accuracy. Validation accuracy 0.32142857142857145. Best accuracy 0.23883928571428573.\n"
     ]
    },
    {
     "name": "stderr",
     "output_type": "stream",
     "text": [
      "                                     \n",
      "Train:   0% 0/2000 [00:00<?, ?step/s]                                              \n",
      "Train:   0% 3/2000 [00:00<02:09, 15.45step/s, accuracy=0.22, loss=3.61, step=8003]]\u001b[A"
     ]
    },
    {
     "name": "stdout",
     "output_type": "stream",
     "text": [
      "Step 8000, best model saved. (accuracy=0.3214)\n"
     ]
    },
    {
     "name": "stderr",
     "output_type": "stream",
     "text": [
      "Train: 100% 2000/2000 [01:19<00:00, 25.09step/s, accuracy=0.31, loss=3.09, step=1e+4]\n",
      "Valid:  93% 448/484 [00:00<00:00, 2009.17 uttr/s, accuracy=0.37, loss=2.99]\n"
     ]
    },
    {
     "name": "stdout",
     "output_type": "stream",
     "text": [
      "Checking validation accuracy. Validation accuracy 0.36830357142857145. Best accuracy 0.32142857142857145.\n"
     ]
    },
    {
     "name": "stderr",
     "output_type": "stream",
     "text": [
      "Train: 100% 2000/2000 [01:19<00:00, 25.07step/s, accuracy=0.30, loss=2.74, step=12000]\n",
      "Valid:  93% 448/484 [00:00<00:00, 1919.22 uttr/s, accuracy=0.42, loss=2.68]\n"
     ]
    },
    {
     "name": "stdout",
     "output_type": "stream",
     "text": [
      "Checking validation accuracy. Validation accuracy 0.4174107142857143. Best accuracy 0.36830357142857145.\n"
     ]
    },
    {
     "name": "stderr",
     "output_type": "stream",
     "text": [
      "                                     \n",
      "Train:   0% 0/2000 [00:00<?, ?step/s]                                              \n",
      "Train:   0% 4/2000 [00:00<01:48, 18.41step/s, accuracy=0.48, loss=2.64, step=12004]\u001b[A"
     ]
    },
    {
     "name": "stdout",
     "output_type": "stream",
     "text": [
      "Step 12000, best model saved. (accuracy=0.4174)\n"
     ]
    },
    {
     "name": "stderr",
     "output_type": "stream",
     "text": [
      "Train: 100% 2000/2000 [01:18<00:00, 25.51step/s, accuracy=0.45, loss=2.65, step=14000]\n",
      "Valid:  93% 448/484 [00:00<00:00, 1747.09 uttr/s, accuracy=0.42, loss=2.52]\n"
     ]
    },
    {
     "name": "stdout",
     "output_type": "stream",
     "text": [
      "Checking validation accuracy. Validation accuracy 0.4174107142857143. Best accuracy 0.4174107142857143.\n"
     ]
    },
    {
     "name": "stderr",
     "output_type": "stream",
     "text": [
      "Train: 100% 2000/2000 [01:19<00:00, 25.31step/s, accuracy=0.59, loss=2.10, step=16000]\n",
      "Valid:  93% 448/484 [00:00<00:00, 1538.87 uttr/s, accuracy=0.45, loss=2.48]\n"
     ]
    },
    {
     "name": "stdout",
     "output_type": "stream",
     "text": [
      "Checking validation accuracy. Validation accuracy 0.44642857142857145. Best accuracy 0.4174107142857143.\n"
     ]
    },
    {
     "name": "stderr",
     "output_type": "stream",
     "text": [
      "                                     \n",
      "Train:   0% 0/2000 [00:00<?, ?step/s]                                              \n",
      "Train:   0% 3/2000 [00:00<02:15, 14.78step/s, accuracy=0.47, loss=2.29, step=16003]\u001b[A"
     ]
    },
    {
     "name": "stdout",
     "output_type": "stream",
     "text": [
      "Step 16000, best model saved. (accuracy=0.4464)\n"
     ]
    },
    {
     "name": "stderr",
     "output_type": "stream",
     "text": [
      "Train: 100% 2000/2000 [01:19<00:00, 25.23step/s, accuracy=0.48, loss=2.13, step=18000]\n",
      "Valid:  93% 448/484 [00:00<00:00, 2159.28 uttr/s, accuracy=0.48, loss=2.30]\n"
     ]
    },
    {
     "name": "stdout",
     "output_type": "stream",
     "text": [
      "Checking validation accuracy. Validation accuracy 0.47767857142857145. Best accuracy 0.44642857142857145.\n"
     ]
    },
    {
     "name": "stderr",
     "output_type": "stream",
     "text": [
      "Train: 100% 2000/2000 [01:18<00:00, 25.36step/s, accuracy=0.45, loss=2.24, step=2e+4] \n",
      "Valid:  93% 448/484 [00:00<00:00, 1723.29 uttr/s, accuracy=0.55, loss=2.12]\n"
     ]
    },
    {
     "name": "stdout",
     "output_type": "stream",
     "text": [
      "Checking validation accuracy. Validation accuracy 0.5535714285714286. Best accuracy 0.47767857142857145.\n"
     ]
    },
    {
     "name": "stderr",
     "output_type": "stream",
     "text": [
      "                                     \n",
      "Train:   0% 0/2000 [00:00<?, ?step/s]                                              \n",
      "Train:   0% 2/2000 [00:00<03:45,  8.85step/s, accuracy=0.47, loss=2.38, step=2e+4]]\u001b[A"
     ]
    },
    {
     "name": "stdout",
     "output_type": "stream",
     "text": [
      "Step 20000, best model saved. (accuracy=0.5536)\n"
     ]
    },
    {
     "name": "stderr",
     "output_type": "stream",
     "text": [
      "Train: 100% 2000/2000 [01:23<00:00, 24.00step/s, accuracy=0.48, loss=2.08, step=22000]\n",
      "Valid:  93% 448/484 [00:00<00:00, 1770.53 uttr/s, accuracy=0.54, loss=2.17]\n"
     ]
    },
    {
     "name": "stdout",
     "output_type": "stream",
     "text": [
      "Checking validation accuracy. Validation accuracy 0.5401785714285714. Best accuracy 0.5535714285714286.\n"
     ]
    },
    {
     "name": "stderr",
     "output_type": "stream",
     "text": [
      "Train: 100% 2000/2000 [01:19<00:00, 25.22step/s, accuracy=0.56, loss=1.99, step=24000]\n",
      "Valid:  93% 448/484 [00:00<00:00, 2172.63 uttr/s, accuracy=0.56, loss=2.04]\n"
     ]
    },
    {
     "name": "stdout",
     "output_type": "stream",
     "text": [
      "Checking validation accuracy. Validation accuracy 0.5625. Best accuracy 0.5535714285714286.\n"
     ]
    },
    {
     "name": "stderr",
     "output_type": "stream",
     "text": [
      "                                     \n",
      "Train:   0% 0/2000 [00:00<?, ?step/s]                                              \n",
      "Train:   0% 3/2000 [00:00<02:05, 15.85step/s, accuracy=0.53, loss=1.92, step=24003]\u001b[A"
     ]
    },
    {
     "name": "stdout",
     "output_type": "stream",
     "text": [
      "Step 24000, best model saved. (accuracy=0.5625)\n"
     ]
    },
    {
     "name": "stderr",
     "output_type": "stream",
     "text": [
      "Train: 100% 2000/2000 [01:18<00:00, 25.40step/s, accuracy=0.50, loss=2.26, step=26000]\n",
      "Valid:  93% 448/484 [00:00<00:00, 1728.27 uttr/s, accuracy=0.58, loss=1.95]\n"
     ]
    },
    {
     "name": "stdout",
     "output_type": "stream",
     "text": [
      "Checking validation accuracy. Validation accuracy 0.5825892857142857. Best accuracy 0.5625.\n"
     ]
    },
    {
     "name": "stderr",
     "output_type": "stream",
     "text": [
      "Train: 100% 2000/2000 [01:18<00:00, 25.36step/s, accuracy=0.53, loss=2.14, step=28000]\n",
      "Valid:  93% 448/484 [00:00<00:00, 2097.69 uttr/s, accuracy=0.58, loss=1.94]\n"
     ]
    },
    {
     "name": "stdout",
     "output_type": "stream",
     "text": [
      "Checking validation accuracy. Validation accuracy 0.5825892857142857. Best accuracy 0.5825892857142857.\n"
     ]
    },
    {
     "name": "stderr",
     "output_type": "stream",
     "text": [
      "                                     \n",
      "Train:   0% 0/2000 [00:00<?, ?step/s]                                              \n",
      "Train:   0% 3/2000 [00:00<02:08, 15.50step/s, accuracy=0.56, loss=2.18, step=28003]\u001b[A"
     ]
    },
    {
     "name": "stdout",
     "output_type": "stream",
     "text": [
      "Step 28000, best model saved. (accuracy=0.5826)\n"
     ]
    },
    {
     "name": "stderr",
     "output_type": "stream",
     "text": [
      "Train: 100% 2000/2000 [01:21<00:00, 24.59step/s, accuracy=0.52, loss=2.01, step=3e+4] \n",
      "Valid:  93% 448/484 [00:00<00:00, 1772.15 uttr/s, accuracy=0.61, loss=1.98]\n"
     ]
    },
    {
     "name": "stdout",
     "output_type": "stream",
     "text": [
      "Checking validation accuracy. Validation accuracy 0.6116071428571429. Best accuracy 0.5825892857142857.\n"
     ]
    },
    {
     "name": "stderr",
     "output_type": "stream",
     "text": [
      "Train: 100% 2000/2000 [01:17<00:00, 25.68step/s, accuracy=0.61, loss=1.44, step=32000]\n",
      "Valid:  93% 448/484 [00:00<00:00, 2090.29 uttr/s, accuracy=0.60, loss=1.94]\n"
     ]
    },
    {
     "name": "stdout",
     "output_type": "stream",
     "text": [
      "Checking validation accuracy. Validation accuracy 0.6004464285714286. Best accuracy 0.6116071428571429.\n"
     ]
    },
    {
     "name": "stderr",
     "output_type": "stream",
     "text": [
      "                                     \n",
      "Train:   0% 0/2000 [00:00<?, ?step/s]                                              \n",
      "Train:   0% 3/2000 [00:00<02:13, 14.94step/s, accuracy=0.62, loss=1.39, step=32003]\u001b[A"
     ]
    },
    {
     "name": "stdout",
     "output_type": "stream",
     "text": [
      "Step 32000, best model saved. (accuracy=0.6116)\n"
     ]
    },
    {
     "name": "stderr",
     "output_type": "stream",
     "text": [
      "Train: 100% 2000/2000 [01:20<00:00, 24.75step/s, accuracy=0.61, loss=1.70, step=34000]\n",
      "Valid:  93% 448/484 [00:00<00:00, 1895.66 uttr/s, accuracy=0.61, loss=1.95]\n"
     ]
    },
    {
     "name": "stdout",
     "output_type": "stream",
     "text": [
      "Checking validation accuracy. Validation accuracy 0.6138392857142857. Best accuracy 0.6116071428571429.\n"
     ]
    },
    {
     "name": "stderr",
     "output_type": "stream",
     "text": [
      "Train: 100% 2000/2000 [01:17<00:00, 25.81step/s, accuracy=0.72, loss=1.49, step=36000]\n",
      "Valid:  93% 448/484 [00:00<00:00, 1837.06 uttr/s, accuracy=0.63, loss=1.83]\n"
     ]
    },
    {
     "name": "stdout",
     "output_type": "stream",
     "text": [
      "Checking validation accuracy. Validation accuracy 0.6294642857142857. Best accuracy 0.6138392857142857.\n"
     ]
    },
    {
     "name": "stderr",
     "output_type": "stream",
     "text": [
      "                                     \n",
      "Train:   0% 0/2000 [00:00<?, ?step/s]                                              \n",
      "Train:   0% 2/2000 [00:00<04:05,  8.13step/s, accuracy=0.62, loss=1.52, step=36002]\u001b[A"
     ]
    },
    {
     "name": "stdout",
     "output_type": "stream",
     "text": [
      "Step 36000, best model saved. (accuracy=0.6295)\n"
     ]
    },
    {
     "name": "stderr",
     "output_type": "stream",
     "text": [
      "Train: 100% 2000/2000 [01:19<00:00, 25.12step/s, accuracy=0.64, loss=1.43, step=38000]\n",
      "Valid:  93% 448/484 [00:00<00:00, 2154.40 uttr/s, accuracy=0.63, loss=1.67]\n"
     ]
    },
    {
     "name": "stdout",
     "output_type": "stream",
     "text": [
      "Checking validation accuracy. Validation accuracy 0.6339285714285714. Best accuracy 0.6294642857142857.\n"
     ]
    },
    {
     "name": "stderr",
     "output_type": "stream",
     "text": [
      "Train: 100% 2000/2000 [01:19<00:00, 25.23step/s, accuracy=0.73, loss=1.36, step=4e+4] \n",
      "Valid:  93% 448/484 [00:00<00:00, 1777.52 uttr/s, accuracy=0.68, loss=1.57]\n"
     ]
    },
    {
     "name": "stdout",
     "output_type": "stream",
     "text": [
      "Checking validation accuracy. Validation accuracy 0.6785714285714286. Best accuracy 0.6339285714285714.\n"
     ]
    },
    {
     "name": "stderr",
     "output_type": "stream",
     "text": [
      "                                     \n",
      "Train:   0% 0/2000 [00:00<?, ?step/s]                                              \n",
      "Train:   0% 3/2000 [00:00<03:21,  9.91step/s, accuracy=0.61, loss=1.64, step=4e+4]]\u001b[A"
     ]
    },
    {
     "name": "stdout",
     "output_type": "stream",
     "text": [
      "Step 40000, best model saved. (accuracy=0.6786)\n"
     ]
    },
    {
     "name": "stderr",
     "output_type": "stream",
     "text": [
      "Train: 100% 2000/2000 [01:19<00:00, 25.11step/s, accuracy=0.56, loss=1.65, step=42000]\n",
      "Valid:  93% 448/484 [00:00<00:00, 2075.75 uttr/s, accuracy=0.62, loss=1.84]\n"
     ]
    },
    {
     "name": "stdout",
     "output_type": "stream",
     "text": [
      "Checking validation accuracy. Validation accuracy 0.625. Best accuracy 0.6785714285714286.\n"
     ]
    },
    {
     "name": "stderr",
     "output_type": "stream",
     "text": [
      "Train: 100% 2000/2000 [01:18<00:00, 25.48step/s, accuracy=0.72, loss=1.29, step=44000]\n",
      "Valid:  93% 448/484 [00:00<00:00, 1889.50 uttr/s, accuracy=0.66, loss=1.65]\n"
     ]
    },
    {
     "name": "stdout",
     "output_type": "stream",
     "text": [
      "Checking validation accuracy. Validation accuracy 0.65625. Best accuracy 0.6785714285714286.\n"
     ]
    },
    {
     "name": "stderr",
     "output_type": "stream",
     "text": [
      "                                     \n",
      "Train:   0% 0/2000 [00:00<?, ?step/s]                                              \n",
      "Train:   0% 3/2000 [00:00<02:13, 14.98step/s, accuracy=0.64, loss=1.55, step=44003]\u001b[A"
     ]
    },
    {
     "name": "stdout",
     "output_type": "stream",
     "text": [
      "Step 44000, best model saved. (accuracy=0.6786)\n"
     ]
    },
    {
     "name": "stderr",
     "output_type": "stream",
     "text": [
      "Train: 100% 2000/2000 [01:18<00:00, 25.46step/s, accuracy=0.64, loss=2.06, step=46000]\n",
      "Valid:  93% 448/484 [00:00<00:00, 1695.23 uttr/s, accuracy=0.65, loss=1.67]\n"
     ]
    },
    {
     "name": "stdout",
     "output_type": "stream",
     "text": [
      "Checking validation accuracy. Validation accuracy 0.6540178571428571. Best accuracy 0.6785714285714286.\n"
     ]
    },
    {
     "name": "stderr",
     "output_type": "stream",
     "text": [
      "Train: 100% 2000/2000 [01:18<00:00, 25.47step/s, accuracy=0.70, loss=1.62, step=48000]\n",
      "Valid:  93% 448/484 [00:00<00:00, 1613.81 uttr/s, accuracy=0.69, loss=1.66]\n"
     ]
    },
    {
     "name": "stdout",
     "output_type": "stream",
     "text": [
      "Checking validation accuracy. Validation accuracy 0.6852678571428571. Best accuracy 0.6785714285714286.\n"
     ]
    },
    {
     "name": "stderr",
     "output_type": "stream",
     "text": [
      "                                     \n",
      "Train:   0% 0/2000 [00:00<?, ?step/s]                                              \n",
      "Train:   0% 3/2000 [00:00<02:09, 15.46step/s, accuracy=0.61, loss=1.45, step=48003]\u001b[A"
     ]
    },
    {
     "name": "stdout",
     "output_type": "stream",
     "text": [
      "Step 48000, best model saved. (accuracy=0.6853)\n"
     ]
    },
    {
     "name": "stderr",
     "output_type": "stream",
     "text": [
      "Train: 100% 2000/2000 [01:18<00:00, 25.39step/s, accuracy=0.72, loss=1.16, step=5e+4] \n",
      "Valid:  93% 448/484 [00:00<00:00, 1855.60 uttr/s, accuracy=0.71, loss=1.51]\n"
     ]
    },
    {
     "name": "stdout",
     "output_type": "stream",
     "text": [
      "Checking validation accuracy. Validation accuracy 0.7098214285714286. Best accuracy 0.6852678571428571.\n"
     ]
    },
    {
     "name": "stderr",
     "output_type": "stream",
     "text": [
      "Train: 100% 2000/2000 [01:16<00:00, 26.03step/s, accuracy=0.67, loss=1.39, step=52000]\n",
      "Valid:  93% 448/484 [00:00<00:00, 1472.47 uttr/s, accuracy=0.68, loss=1.59]\n"
     ]
    },
    {
     "name": "stdout",
     "output_type": "stream",
     "text": [
      "Checking validation accuracy. Validation accuracy 0.6785714285714286. Best accuracy 0.7098214285714286.\n"
     ]
    },
    {
     "name": "stderr",
     "output_type": "stream",
     "text": [
      "                                     \n",
      "Train:   0% 0/2000 [00:00<?, ?step/s]                                              \n",
      "Train:   0% 4/2000 [00:00<01:44, 19.07step/s, accuracy=0.67, loss=1.28, step=52004]\u001b[A"
     ]
    },
    {
     "name": "stdout",
     "output_type": "stream",
     "text": [
      "Step 52000, best model saved. (accuracy=0.7098)\n"
     ]
    },
    {
     "name": "stderr",
     "output_type": "stream",
     "text": [
      "Train: 100% 2000/2000 [01:18<00:00, 25.50step/s, accuracy=0.73, loss=1.05, step=54000]\n",
      "Valid:  93% 448/484 [00:00<00:00, 1746.79 uttr/s, accuracy=0.72, loss=1.33]\n"
     ]
    },
    {
     "name": "stdout",
     "output_type": "stream",
     "text": [
      "Checking validation accuracy. Validation accuracy 0.7209821428571429. Best accuracy 0.7098214285714286.\n"
     ]
    },
    {
     "name": "stderr",
     "output_type": "stream",
     "text": [
      "Train: 100% 2000/2000 [01:18<00:00, 25.44step/s, accuracy=0.83, loss=1.09, step=56000]\n",
      "Valid:  93% 448/484 [00:00<00:00, 2167.75 uttr/s, accuracy=0.71, loss=1.58]\n"
     ]
    },
    {
     "name": "stdout",
     "output_type": "stream",
     "text": [
      "Checking validation accuracy. Validation accuracy 0.7053571428571429. Best accuracy 0.7209821428571429.\n"
     ]
    },
    {
     "name": "stderr",
     "output_type": "stream",
     "text": [
      "                                     \n",
      "Train:   0% 0/2000 [00:00<?, ?step/s]                                              \n",
      "Train:   0% 4/2000 [00:00<01:44, 19.13step/s, accuracy=0.73, loss=1.25, step=56004]\u001b[A"
     ]
    },
    {
     "name": "stdout",
     "output_type": "stream",
     "text": [
      "Step 56000, best model saved. (accuracy=0.7210)\n"
     ]
    },
    {
     "name": "stderr",
     "output_type": "stream",
     "text": [
      "Train: 100% 2000/2000 [01:17<00:00, 25.72step/s, accuracy=0.69, loss=1.26, step=58000]\n",
      "Valid:  93% 448/484 [00:00<00:00, 1784.15 uttr/s, accuracy=0.68, loss=1.49]\n"
     ]
    },
    {
     "name": "stdout",
     "output_type": "stream",
     "text": [
      "Checking validation accuracy. Validation accuracy 0.6830357142857143. Best accuracy 0.7209821428571429.\n"
     ]
    },
    {
     "name": "stderr",
     "output_type": "stream",
     "text": [
      "Train: 100% 2000/2000 [01:18<00:00, 25.55step/s, accuracy=0.72, loss=1.34, step=6e+4] \n",
      "Valid:  93% 448/484 [00:00<00:00, 1663.12 uttr/s, accuracy=0.70, loss=1.69]\n"
     ]
    },
    {
     "name": "stdout",
     "output_type": "stream",
     "text": [
      "Checking validation accuracy. Validation accuracy 0.6964285714285714. Best accuracy 0.7209821428571429.\n"
     ]
    },
    {
     "name": "stderr",
     "output_type": "stream",
     "text": [
      "                                     \n",
      "Train:   0% 0/2000 [00:00<?, ?step/s]                                              \n",
      "Train:   0% 3/2000 [00:00<03:48,  8.73step/s, accuracy=0.78, loss=0.91, step=6e+4]]\u001b[A"
     ]
    },
    {
     "name": "stdout",
     "output_type": "stream",
     "text": [
      "Step 60000, best model saved. (accuracy=0.7210)\n"
     ]
    },
    {
     "name": "stderr",
     "output_type": "stream",
     "text": [
      "Train: 100% 2000/2000 [01:18<00:00, 25.36step/s, accuracy=0.70, loss=1.39, step=62000]\n",
      "Valid:  93% 448/484 [00:00<00:00, 1909.45 uttr/s, accuracy=0.68, loss=1.65]\n"
     ]
    },
    {
     "name": "stdout",
     "output_type": "stream",
     "text": [
      "Checking validation accuracy. Validation accuracy 0.6808035714285714. Best accuracy 0.7209821428571429.\n"
     ]
    },
    {
     "name": "stderr",
     "output_type": "stream",
     "text": [
      "Train: 100% 2000/2000 [01:41<00:00, 19.77step/s, accuracy=0.75, loss=1.18, step=64000] \n",
      "Valid:  93% 448/484 [00:00<00:00, 1830.30 uttr/s, accuracy=0.72, loss=1.58]\n"
     ]
    },
    {
     "name": "stdout",
     "output_type": "stream",
     "text": [
      "Checking validation accuracy. Validation accuracy 0.7165178571428571. Best accuracy 0.7209821428571429.\n"
     ]
    },
    {
     "name": "stderr",
     "output_type": "stream",
     "text": [
      "                                     \n",
      "Train:   0% 0/2000 [00:00<?, ?step/s]                                              \n",
      "Train:   0% 4/2000 [00:00<01:51, 17.91step/s, accuracy=0.73, loss=1.37, step=64004]\u001b[A"
     ]
    },
    {
     "name": "stdout",
     "output_type": "stream",
     "text": [
      "Step 64000, best model saved. (accuracy=0.7210)\n"
     ]
    },
    {
     "name": "stderr",
     "output_type": "stream",
     "text": [
      "Train: 100% 2000/2000 [01:18<00:00, 25.61step/s, accuracy=0.66, loss=1.49, step=66000]\n",
      "Valid:  93% 448/484 [00:00<00:00, 2285.34 uttr/s, accuracy=0.71, loss=1.51]\n"
     ]
    },
    {
     "name": "stdout",
     "output_type": "stream",
     "text": [
      "Checking validation accuracy. Validation accuracy 0.7053571428571429. Best accuracy 0.7209821428571429.\n"
     ]
    },
    {
     "name": "stderr",
     "output_type": "stream",
     "text": [
      "Train: 100% 2000/2000 [01:18<00:00, 25.41step/s, accuracy=0.83, loss=0.79, step=68000]\n",
      "Valid:  93% 448/484 [00:00<00:00, 2112.79 uttr/s, accuracy=0.71, loss=1.39]\n"
     ]
    },
    {
     "name": "stdout",
     "output_type": "stream",
     "text": [
      "Checking validation accuracy. Validation accuracy 0.7075892857142857. Best accuracy 0.7209821428571429.\n"
     ]
    },
    {
     "name": "stderr",
     "output_type": "stream",
     "text": [
      "                                     \n",
      "Train:   0% 0/2000 [00:00<?, ?step/s]                                              \n",
      "Train:   0% 3/2000 [00:00<02:10, 15.34step/s, accuracy=0.70, loss=1.69, step=68003]\u001b[A"
     ]
    },
    {
     "name": "stdout",
     "output_type": "stream",
     "text": [
      "Step 68000, best model saved. (accuracy=0.7210)\n"
     ]
    },
    {
     "name": "stderr",
     "output_type": "stream",
     "text": [
      "Train: 100% 2000/2000 [01:18<00:00, 25.54step/s, accuracy=0.73, loss=0.90, step=7e+4] \n",
      "Valid:  93% 448/484 [00:00<00:00, 1708.24 uttr/s, accuracy=0.71, loss=1.67]\n"
     ]
    },
    {
     "name": "stdout",
     "output_type": "stream",
     "text": [
      "Checking validation accuracy. Validation accuracy 0.7053571428571429. Best accuracy 0.7209821428571429.\n"
     ]
    },
    {
     "name": "stderr",
     "output_type": "stream",
     "text": [
      "Train: 100% 2000/2000 [01:18<00:00, 25.55step/s, accuracy=0.77, loss=1.13, step=72000]\n",
      "Valid:  93% 448/484 [00:00<00:00, 2140.06 uttr/s, accuracy=0.73, loss=1.45]\n"
     ]
    },
    {
     "name": "stdout",
     "output_type": "stream",
     "text": [
      "Checking validation accuracy. Validation accuracy 0.7276785714285714. Best accuracy 0.7209821428571429.\n"
     ]
    },
    {
     "name": "stderr",
     "output_type": "stream",
     "text": [
      "                                     \n",
      "Train:   0% 0/2000 [00:00<?, ?step/s]                                              \n",
      "Train:   0% 1/2000 [00:00<04:44,  7.03step/s, accuracy=0.80, loss=0.76, step=72001]\u001b[A"
     ]
    },
    {
     "name": "stdout",
     "output_type": "stream",
     "text": [
      "Step 72000, best model saved. (accuracy=0.7277)\n"
     ]
    },
    {
     "name": "stderr",
     "output_type": "stream",
     "text": [
      "Train: 100% 2000/2000 [01:18<00:00, 25.54step/s, accuracy=0.75, loss=0.95, step=74000]\n",
      "Valid:  93% 448/484 [00:00<00:00, 2228.83 uttr/s, accuracy=0.70, loss=1.66]\n"
     ]
    },
    {
     "name": "stdout",
     "output_type": "stream",
     "text": [
      "Checking validation accuracy. Validation accuracy 0.703125. Best accuracy 0.7276785714285714.\n"
     ]
    },
    {
     "name": "stderr",
     "output_type": "stream",
     "text": [
      "Train: 100% 2000/2000 [01:17<00:00, 25.80step/s, accuracy=0.61, loss=1.60, step=76000]\n",
      "Valid:  93% 448/484 [00:00<00:00, 2049.63 uttr/s, accuracy=0.71, loss=1.60]\n"
     ]
    },
    {
     "name": "stdout",
     "output_type": "stream",
     "text": [
      "Checking validation accuracy. Validation accuracy 0.7120535714285714. Best accuracy 0.7276785714285714.\n"
     ]
    },
    {
     "name": "stderr",
     "output_type": "stream",
     "text": [
      "                                     \n",
      "Train:   0% 0/2000 [00:00<?, ?step/s]                                              \n",
      "Train:   0% 4/2000 [00:00<01:47, 18.59step/s, accuracy=0.78, loss=1.12, step=76004]\u001b[A"
     ]
    },
    {
     "name": "stdout",
     "output_type": "stream",
     "text": [
      "Step 76000, best model saved. (accuracy=0.7277)\n"
     ]
    },
    {
     "name": "stderr",
     "output_type": "stream",
     "text": [
      "Train: 100% 2000/2000 [01:16<00:00, 25.99step/s, accuracy=0.75, loss=1.15, step=78000]\n",
      "Valid:  93% 448/484 [00:00<00:00, 1498.66 uttr/s, accuracy=0.70, loss=1.73]\n"
     ]
    },
    {
     "name": "stdout",
     "output_type": "stream",
     "text": [
      "Checking validation accuracy. Validation accuracy 0.7008928571428571. Best accuracy 0.7276785714285714.\n"
     ]
    },
    {
     "name": "stderr",
     "output_type": "stream",
     "text": [
      "Train: 100% 2000/2000 [01:17<00:00, 25.86step/s, accuracy=0.77, loss=1.09, step=8e+4] \n",
      "Valid:  93% 448/484 [00:00<00:00, 2144.73 uttr/s, accuracy=0.72, loss=1.68]\n"
     ]
    },
    {
     "name": "stdout",
     "output_type": "stream",
     "text": [
      "Checking validation accuracy. Validation accuracy 0.7232142857142857. Best accuracy 0.7276785714285714.\n"
     ]
    },
    {
     "name": "stderr",
     "output_type": "stream",
     "text": [
      "                                     \n",
      "Train:   0% 0/2000 [00:00<?, ?step/s]                                              \n",
      "Train:   0% 3/2000 [00:00<02:07, 15.65step/s, accuracy=0.80, loss=0.92, step=8e+4]]\u001b[A"
     ]
    },
    {
     "name": "stdout",
     "output_type": "stream",
     "text": [
      "Step 80000, best model saved. (accuracy=0.7277)\n"
     ]
    },
    {
     "name": "stderr",
     "output_type": "stream",
     "text": [
      "Train: 100% 2000/2000 [01:19<00:00, 25.24step/s, accuracy=0.80, loss=0.99, step=82000]\n",
      "Valid:  93% 448/484 [00:00<00:00, 1729.18 uttr/s, accuracy=0.72, loss=1.53]\n"
     ]
    },
    {
     "name": "stdout",
     "output_type": "stream",
     "text": [
      "Checking validation accuracy. Validation accuracy 0.7209821428571429. Best accuracy 0.7276785714285714.\n"
     ]
    },
    {
     "name": "stderr",
     "output_type": "stream",
     "text": [
      "Train: 100% 2000/2000 [01:19<00:00, 25.07step/s, accuracy=0.81, loss=1.19, step=84000]\n",
      "Valid:  93% 448/484 [00:00<00:00, 1626.69 uttr/s, accuracy=0.75, loss=1.51]\n"
     ]
    },
    {
     "name": "stdout",
     "output_type": "stream",
     "text": [
      "Checking validation accuracy. Validation accuracy 0.75. Best accuracy 0.7276785714285714.\n"
     ]
    },
    {
     "name": "stderr",
     "output_type": "stream",
     "text": [
      "                                     \n",
      "Train:   0% 0/2000 [00:00<?, ?step/s]                                              \n",
      "Train:   0% 3/2000 [00:00<02:09, 15.38step/s, accuracy=0.84, loss=0.89, step=84003]\u001b[A"
     ]
    },
    {
     "name": "stdout",
     "output_type": "stream",
     "text": [
      "Step 84000, best model saved. (accuracy=0.7500)\n"
     ]
    },
    {
     "name": "stderr",
     "output_type": "stream",
     "text": [
      "Train: 100% 2000/2000 [01:18<00:00, 25.57step/s, accuracy=0.78, loss=1.02, step=86000]\n",
      "Valid:  93% 448/484 [00:00<00:00, 1743.72 uttr/s, accuracy=0.73, loss=1.39]\n"
     ]
    },
    {
     "name": "stdout",
     "output_type": "stream",
     "text": [
      "Checking validation accuracy. Validation accuracy 0.7299107142857143. Best accuracy 0.75.\n"
     ]
    },
    {
     "name": "stderr",
     "output_type": "stream",
     "text": [
      "Train: 100% 2000/2000 [01:23<00:00, 23.97step/s, accuracy=0.84, loss=0.58, step=88000]\n",
      "Valid:  93% 448/484 [00:00<00:00, 1815.07 uttr/s, accuracy=0.75, loss=1.53]\n"
     ]
    },
    {
     "name": "stdout",
     "output_type": "stream",
     "text": [
      "Checking validation accuracy. Validation accuracy 0.75. Best accuracy 0.75.\n"
     ]
    },
    {
     "name": "stderr",
     "output_type": "stream",
     "text": [
      "                                     \n",
      "Train:   0% 0/2000 [00:00<?, ?step/s]                                              \n",
      "Train:   0% 4/2000 [00:00<01:45, 18.92step/s, accuracy=0.80, loss=0.93, step=88004]\u001b[A"
     ]
    },
    {
     "name": "stdout",
     "output_type": "stream",
     "text": [
      "Step 88000, best model saved. (accuracy=0.7500)\n"
     ]
    },
    {
     "name": "stderr",
     "output_type": "stream",
     "text": [
      "Train: 100% 2000/2000 [01:18<00:00, 25.46step/s, accuracy=0.86, loss=0.72, step=9e+4] \n",
      "Valid:  93% 448/484 [00:00<00:00, 1666.49 uttr/s, accuracy=0.75, loss=1.36]\n"
     ]
    },
    {
     "name": "stdout",
     "output_type": "stream",
     "text": [
      "Checking validation accuracy. Validation accuracy 0.7477678571428571. Best accuracy 0.75.\n"
     ]
    },
    {
     "name": "stderr",
     "output_type": "stream",
     "text": [
      "Train: 100% 2000/2000 [01:17<00:00, 25.72step/s, accuracy=0.83, loss=0.77, step=92000]\n",
      "Valid:  93% 448/484 [00:00<00:00, 2026.90 uttr/s, accuracy=0.75, loss=1.57]\n"
     ]
    },
    {
     "name": "stdout",
     "output_type": "stream",
     "text": [
      "Checking validation accuracy. Validation accuracy 0.7477678571428571. Best accuracy 0.75.\n"
     ]
    },
    {
     "name": "stderr",
     "output_type": "stream",
     "text": [
      "                                     \n",
      "Train:   0% 0/2000 [00:00<?, ?step/s]                                              \n",
      "Train:   0% 2/2000 [00:00<03:45,  8.87step/s, accuracy=0.80, loss=1.10, step=92002]2]\u001b[A"
     ]
    },
    {
     "name": "stdout",
     "output_type": "stream",
     "text": [
      "Step 92000, best model saved. (accuracy=0.7500)\n"
     ]
    },
    {
     "name": "stderr",
     "output_type": "stream",
     "text": [
      "Train: 100% 2000/2000 [01:18<00:00, 25.60step/s, accuracy=0.78, loss=0.92, step=94000]\n",
      "Valid:  93% 448/484 [00:00<00:00, 1861.77 uttr/s, accuracy=0.75, loss=1.49]\n"
     ]
    },
    {
     "name": "stdout",
     "output_type": "stream",
     "text": [
      "Checking validation accuracy. Validation accuracy 0.7477678571428571. Best accuracy 0.75.\n"
     ]
    },
    {
     "name": "stderr",
     "output_type": "stream",
     "text": [
      "Train: 100% 2000/2000 [01:17<00:00, 25.85step/s, accuracy=0.83, loss=0.82, step=96000]\n",
      "Valid:  93% 448/484 [00:00<00:00, 1745.74 uttr/s, accuracy=0.76, loss=1.46]\n"
     ]
    },
    {
     "name": "stdout",
     "output_type": "stream",
     "text": [
      "Checking validation accuracy. Validation accuracy 0.7611607142857143. Best accuracy 0.75.\n"
     ]
    },
    {
     "name": "stderr",
     "output_type": "stream",
     "text": [
      "                                     \n",
      "Train:   0% 0/2000 [00:00<?, ?step/s]                                                \n",
      "Train:   0% 3/2000 [00:00<03:48,  8.72step/s, accuracy=0.84, loss=0.75, step=96003]2]\u001b[A"
     ]
    },
    {
     "name": "stdout",
     "output_type": "stream",
     "text": [
      "Step 96000, best model saved. (accuracy=0.7612)\n"
     ]
    },
    {
     "name": "stderr",
     "output_type": "stream",
     "text": [
      "Train: 100% 2000/2000 [01:18<00:00, 25.41step/s, accuracy=0.69, loss=1.35, step=1e+5] \n",
      "Valid:  93% 448/484 [00:00<00:00, 2250.73 uttr/s, accuracy=0.74, loss=1.53]\n"
     ]
    },
    {
     "name": "stdout",
     "output_type": "stream",
     "text": [
      "Checking validation accuracy. Validation accuracy 0.7433035714285714. Best accuracy 0.7611607142857143.\n"
     ]
    },
    {
     "name": "stderr",
     "output_type": "stream",
     "text": [
      "                                     \n",
      "Train:   0% 0/2000 [00:00<?, ?step/s]                                                \n",
      "Train:   0% 4/2000 [00:00<01:43, 19.22step/s, accuracy=0.88, loss=0.66, step=1e+5]02]\u001b[A"
     ]
    },
    {
     "name": "stdout",
     "output_type": "stream",
     "text": [
      "Step 100000, best model saved. (accuracy=0.7612)\n"
     ]
    },
    {
     "name": "stderr",
     "output_type": "stream",
     "text": [
      "Train:  43% 854/2000 [00:33<00:43, 26.37step/s, accuracy=0.84, loss=0.71, step=100853]IOPub message rate exceeded.\n",
      "The notebook server will temporarily stop sending output\n",
      "to the client in order to avoid crashing it.\n",
      "To change this limit, set the config variable\n",
      "`--NotebookApp.iopub_msg_rate_limit`.\n",
      "\n",
      "Current values:\n",
      "NotebookApp.iopub_msg_rate_limit=1000.0 (msgs/sec)\n",
      "NotebookApp.rate_limit_window=3.0 (secs)\n",
      "\n",
      "Train: 100% 2000/2000 [01:19<00:00, 25.17step/s, accuracy=0.86, loss=0.49, step=110000]\n",
      "Valid:  93% 448/484 [00:00<00:00, 1575.41 uttr/s, accuracy=0.79, loss=1.15]\n"
     ]
    },
    {
     "name": "stdout",
     "output_type": "stream",
     "text": [
      "Checking validation accuracy. Validation accuracy 0.7924107142857143. Best accuracy 0.78125.\n"
     ]
    },
    {
     "name": "stderr",
     "output_type": "stream",
     "text": [
      "Train: 100% 2000/2000 [01:17<00:00, 25.83step/s, accuracy=0.80, loss=1.04, step=112000]\n",
      "Valid:  93% 448/484 [00:00<00:00, 2211.37 uttr/s, accuracy=0.76, loss=1.43]\n"
     ]
    },
    {
     "name": "stdout",
     "output_type": "stream",
     "text": [
      "Checking validation accuracy. Validation accuracy 0.7589285714285714. Best accuracy 0.7924107142857143.\n"
     ]
    },
    {
     "name": "stderr",
     "output_type": "stream",
     "text": [
      "                                     \n",
      "Train:   0% 0/2000 [00:00<?, ?step/s]                                                \n",
      "Train:   0% 4/2000 [00:00<01:43, 19.34step/s, accuracy=0.75, loss=1.40, step=112004]]\u001b[A"
     ]
    },
    {
     "name": "stdout",
     "output_type": "stream",
     "text": [
      "Step 112000, best model saved. (accuracy=0.7924)\n"
     ]
    },
    {
     "name": "stderr",
     "output_type": "stream",
     "text": [
      "Train:  10% 208/2000 [00:08<01:18, 22.93step/s, accuracy=0.86, loss=0.71, step=112208]IOPub message rate exceeded.\n",
      "The notebook server will temporarily stop sending output\n",
      "to the client in order to avoid crashing it.\n",
      "To change this limit, set the config variable\n",
      "`--NotebookApp.iopub_msg_rate_limit`.\n",
      "\n",
      "Current values:\n",
      "NotebookApp.iopub_msg_rate_limit=1000.0 (msgs/sec)\n",
      "NotebookApp.rate_limit_window=3.0 (secs)\n",
      "\n",
      "Train: 100% 2000/2000 [01:18<00:00, 25.41step/s, accuracy=0.86, loss=0.50, step=122000]\n",
      "Valid:  93% 448/484 [00:00<00:00, 1614.72 uttr/s, accuracy=0.75, loss=1.48]\n"
     ]
    },
    {
     "name": "stdout",
     "output_type": "stream",
     "text": [
      "Checking validation accuracy. Validation accuracy 0.7522321428571429. Best accuracy 0.7924107142857143.\n"
     ]
    },
    {
     "name": "stderr",
     "output_type": "stream",
     "text": [
      "Train:  96% 1918/2000 [01:14<00:03, 26.00step/s, accuracy=0.94, loss=0.43, step=123917]IOPub message rate exceeded.\n",
      "The notebook server will temporarily stop sending output\n",
      "to the client in order to avoid crashing it.\n",
      "To change this limit, set the config variable\n",
      "`--NotebookApp.iopub_msg_rate_limit`.\n",
      "\n",
      "Current values:\n",
      "NotebookApp.iopub_msg_rate_limit=1000.0 (msgs/sec)\n",
      "NotebookApp.rate_limit_window=3.0 (secs)\n",
      "\n",
      "Train: 100% 2000/2000 [01:16<00:00, 26.02step/s, accuracy=0.89, loss=0.71, step=134000]\n",
      "Valid:  93% 448/484 [00:00<00:00, 1861.05 uttr/s, accuracy=0.78, loss=1.46]\n"
     ]
    },
    {
     "name": "stdout",
     "output_type": "stream",
     "text": [
      "Checking validation accuracy. Validation accuracy 0.7790178571428571. Best accuracy 0.7924107142857143.\n"
     ]
    },
    {
     "name": "stderr",
     "output_type": "stream",
     "text": [
      "Train:  64% 1278/2000 [00:48<00:27, 26.43step/s, accuracy=0.91, loss=0.69, step=135277]IOPub message rate exceeded.\n",
      "The notebook server will temporarily stop sending output\n",
      "to the client in order to avoid crashing it.\n",
      "To change this limit, set the config variable\n",
      "`--NotebookApp.iopub_msg_rate_limit`.\n",
      "\n",
      "Current values:\n",
      "NotebookApp.iopub_msg_rate_limit=1000.0 (msgs/sec)\n",
      "NotebookApp.rate_limit_window=3.0 (secs)\n",
      "\n",
      "Train: 100% 2000/2000 [01:17<00:00, 25.72step/s, accuracy=0.80, loss=0.86, step=144000]\n",
      "Valid:  93% 448/484 [00:00<00:00, 1773.78 uttr/s, accuracy=0.78, loss=1.18]\n"
     ]
    },
    {
     "name": "stdout",
     "output_type": "stream",
     "text": [
      "Checking validation accuracy. Validation accuracy 0.78125. Best accuracy 0.8058035714285714.\n"
     ]
    },
    {
     "name": "stderr",
     "output_type": "stream",
     "text": [
      "                                     \n",
      "Train:   0% 0/2000 [00:00<?, ?step/s]                                                \n",
      "Train:   0% 3/2000 [00:00<03:36,  9.23step/s, accuracy=0.86, loss=0.85, step=144003]]\u001b[A"
     ]
    },
    {
     "name": "stdout",
     "output_type": "stream",
     "text": [
      "Step 144000, best model saved. (accuracy=0.8058)\n"
     ]
    },
    {
     "name": "stderr",
     "output_type": "stream",
     "text": [
      "Train: 100% 2000/2000 [01:17<00:00, 25.67step/s, accuracy=0.84, loss=0.58, step=146000]\n",
      "Valid:  93% 448/484 [00:00<00:00, 2233.70 uttr/s, accuracy=0.79, loss=1.31]\n"
     ]
    },
    {
     "name": "stdout",
     "output_type": "stream",
     "text": [
      "Checking validation accuracy. Validation accuracy 0.7879464285714286. Best accuracy 0.8058035714285714.\n"
     ]
    },
    {
     "name": "stderr",
     "output_type": "stream",
     "text": [
      "Train:   8% 155/2000 [00:05<01:10, 26.21step/s, accuracy=0.88, loss=0.31, step=146155]IOPub message rate exceeded.\n",
      "The notebook server will temporarily stop sending output\n",
      "to the client in order to avoid crashing it.\n",
      "To change this limit, set the config variable\n",
      "`--NotebookApp.iopub_msg_rate_limit`.\n",
      "\n",
      "Current values:\n",
      "NotebookApp.iopub_msg_rate_limit=1000.0 (msgs/sec)\n",
      "NotebookApp.rate_limit_window=3.0 (secs)\n",
      "\n",
      "Train: 100% 2000/2000 [01:19<00:00, 25.22step/s, accuracy=0.83, loss=0.68, step=156000]\n",
      "Valid:  93% 448/484 [00:00<00:00, 1913.21 uttr/s, accuracy=0.79, loss=1.32]\n"
     ]
    },
    {
     "name": "stdout",
     "output_type": "stream",
     "text": [
      "Checking validation accuracy. Validation accuracy 0.7924107142857143. Best accuracy 0.8058035714285714.\n"
     ]
    },
    {
     "name": "stderr",
     "output_type": "stream",
     "text": [
      "                                     \n",
      "Train:   0% 0/2000 [00:00<?, ?step/s]                                                \n",
      "Train:   0% 4/2000 [00:00<01:47, 18.54step/s, accuracy=0.86, loss=0.61, step=156004]]\u001b[A"
     ]
    },
    {
     "name": "stdout",
     "output_type": "stream",
     "text": [
      "Step 156000, best model saved. (accuracy=0.8058)\n"
     ]
    },
    {
     "name": "stderr",
     "output_type": "stream",
     "text": [
      "Train:  16% 321/2000 [00:12<01:04, 26.04step/s, accuracy=0.94, loss=0.42, step=156321]IOPub message rate exceeded.\n",
      "The notebook server will temporarily stop sending output\n",
      "to the client in order to avoid crashing it.\n",
      "To change this limit, set the config variable\n",
      "`--NotebookApp.iopub_msg_rate_limit`.\n",
      "\n",
      "Current values:\n",
      "NotebookApp.iopub_msg_rate_limit=1000.0 (msgs/sec)\n",
      "NotebookApp.rate_limit_window=3.0 (secs)\n",
      "\n",
      "Train: 100% 2000/2000 [01:17<00:00, 25.65step/s, accuracy=0.88, loss=0.85, step=166000]\n",
      "Valid:  93% 448/484 [00:00<00:00, 1599.76 uttr/s, accuracy=0.79, loss=1.27]\n"
     ]
    },
    {
     "name": "stdout",
     "output_type": "stream",
     "text": [
      "Checking validation accuracy. Validation accuracy 0.7924107142857143. Best accuracy 0.8214285714285714.\n"
     ]
    },
    {
     "name": "stderr",
     "output_type": "stream",
     "text": [
      "Train:  20% 398/2000 [00:15<01:01, 26.19step/s, accuracy=0.83, loss=0.68, step=166398]IOPub message rate exceeded.\n",
      "The notebook server will temporarily stop sending output\n",
      "to the client in order to avoid crashing it.\n",
      "To change this limit, set the config variable\n",
      "`--NotebookApp.iopub_msg_rate_limit`.\n",
      "\n",
      "Current values:\n",
      "NotebookApp.iopub_msg_rate_limit=1000.0 (msgs/sec)\n",
      "NotebookApp.rate_limit_window=3.0 (secs)\n",
      "\n",
      "Train: 100% 2000/2000 [01:18<00:00, 25.53step/s, accuracy=0.91, loss=0.34, step=176000]\n",
      "Valid:  93% 448/484 [00:00<00:00, 1798.34 uttr/s, accuracy=0.82, loss=1.19]\n"
     ]
    },
    {
     "name": "stdout",
     "output_type": "stream",
     "text": [
      "Checking validation accuracy. Validation accuracy 0.8191964285714286. Best accuracy 0.8214285714285714.\n"
     ]
    },
    {
     "name": "stderr",
     "output_type": "stream",
     "text": [
      "                                     \n",
      "Train:   0% 0/2000 [00:00<?, ?step/s]                                                \n",
      "Train:   0% 3/2000 [00:00<02:16, 14.68step/s, accuracy=0.81, loss=0.64, step=176003]]\u001b[A"
     ]
    },
    {
     "name": "stdout",
     "output_type": "stream",
     "text": [
      "Step 176000, best model saved. (accuracy=0.8214)\n"
     ]
    },
    {
     "name": "stderr",
     "output_type": "stream",
     "text": [
      "Train:  68% 1361/2000 [00:52<00:24, 26.12step/s, accuracy=0.91, loss=0.34, step=177360]IOPub message rate exceeded.\n",
      "The notebook server will temporarily stop sending output\n",
      "to the client in order to avoid crashing it.\n",
      "To change this limit, set the config variable\n",
      "`--NotebookApp.iopub_msg_rate_limit`.\n",
      "\n",
      "Current values:\n",
      "NotebookApp.iopub_msg_rate_limit=1000.0 (msgs/sec)\n",
      "NotebookApp.rate_limit_window=3.0 (secs)\n",
      "\n",
      "Train: 100% 2000/2000 [01:18<00:00, 25.54step/s, accuracy=0.94, loss=0.36, step=188000]\n",
      "Valid:  93% 448/484 [00:00<00:00, 1533.48 uttr/s, accuracy=0.81, loss=1.17]\n"
     ]
    },
    {
     "name": "stdout",
     "output_type": "stream",
     "text": [
      "Checking validation accuracy. Validation accuracy 0.8147321428571429. Best accuracy 0.8370535714285714.\n"
     ]
    },
    {
     "name": "stderr",
     "output_type": "stream",
     "text": [
      "                                     \n",
      "Train:   0% 0/2000 [00:00<?, ?step/s]                                                \n",
      "Train:   0% 3/2000 [00:00<02:24, 13.83step/s, accuracy=0.83, loss=1.12, step=188003]]\u001b[A"
     ]
    },
    {
     "name": "stdout",
     "output_type": "stream",
     "text": [
      "Step 188000, best model saved. (accuracy=0.8371)\n"
     ]
    },
    {
     "name": "stderr",
     "output_type": "stream",
     "text": [
      "Train:  23% 452/2000 [00:18<00:59, 26.19step/s, accuracy=0.89, loss=0.49, step=188452]IOPub message rate exceeded.\n",
      "The notebook server will temporarily stop sending output\n",
      "to the client in order to avoid crashing it.\n",
      "To change this limit, set the config variable\n",
      "`--NotebookApp.iopub_msg_rate_limit`.\n",
      "\n",
      "Current values:\n",
      "NotebookApp.iopub_msg_rate_limit=1000.0 (msgs/sec)\n",
      "NotebookApp.rate_limit_window=3.0 (secs)\n",
      "\n",
      "Train: 100% 2000/2000 [01:17<00:00, 25.85step/s, accuracy=0.89, loss=0.64, step=198000]\n",
      "Valid:  93% 448/484 [00:00<00:00, 1708.66 uttr/s, accuracy=0.82, loss=1.41]\n"
     ]
    },
    {
     "name": "stdout",
     "output_type": "stream",
     "text": [
      "Checking validation accuracy. Validation accuracy 0.8191964285714286. Best accuracy 0.8370535714285714.\n"
     ]
    },
    {
     "name": "stderr",
     "output_type": "stream",
     "text": [
      "Train:  86% 1719/2000 [01:06<00:11, 24.39step/s, accuracy=0.92, loss=0.31, step=2e+5]  IOPub message rate exceeded.\n",
      "The notebook server will temporarily stop sending output\n",
      "to the client in order to avoid crashing it.\n",
      "To change this limit, set the config variable\n",
      "`--NotebookApp.iopub_msg_rate_limit`.\n",
      "\n",
      "Current values:\n",
      "NotebookApp.iopub_msg_rate_limit=1000.0 (msgs/sec)\n",
      "NotebookApp.rate_limit_window=3.0 (secs)\n",
      "\n",
      "Train: 100% 2000/2000 [01:17<00:00, 25.84step/s, accuracy=0.83, loss=0.54, step=210000]\n",
      "Valid:  93% 448/484 [00:00<00:00, 1864.42 uttr/s, accuracy=0.81, loss=1.22]\n"
     ]
    },
    {
     "name": "stdout",
     "output_type": "stream",
     "text": [
      "Checking validation accuracy. Validation accuracy 0.8102678571428571. Best accuracy 0.84375.\n"
     ]
    },
    {
     "name": "stderr",
     "output_type": "stream",
     "text": [
      "Train:  51% 1027/2000 [00:39<00:37, 25.99step/s, accuracy=0.92, loss=0.34, step=211027]IOPub message rate exceeded.\n",
      "The notebook server will temporarily stop sending output\n",
      "to the client in order to avoid crashing it.\n",
      "To change this limit, set the config variable\n",
      "`--NotebookApp.iopub_msg_rate_limit`.\n",
      "\n",
      "Current values:\n",
      "NotebookApp.iopub_msg_rate_limit=1000.0 (msgs/sec)\n",
      "NotebookApp.rate_limit_window=3.0 (secs)\n",
      "\n",
      "Train: 100% 2000/2000 [01:17<00:00, 25.97step/s, accuracy=0.92, loss=0.43, step=222000]\n",
      "Valid:  93% 448/484 [00:00<00:00, 1589.81 uttr/s, accuracy=0.81, loss=1.21]\n"
     ]
    },
    {
     "name": "stdout",
     "output_type": "stream",
     "text": [
      "Checking validation accuracy. Validation accuracy 0.8080357142857143. Best accuracy 0.84375.\n"
     ]
    },
    {
     "name": "stderr",
     "output_type": "stream",
     "text": [
      "Train:  14% 273/2000 [00:10<01:04, 26.87step/s, accuracy=0.86, loss=0.57, step=222273]IOPub message rate exceeded.\n",
      "The notebook server will temporarily stop sending output\n",
      "to the client in order to avoid crashing it.\n",
      "To change this limit, set the config variable\n",
      "`--NotebookApp.iopub_msg_rate_limit`.\n",
      "\n",
      "Current values:\n",
      "NotebookApp.iopub_msg_rate_limit=1000.0 (msgs/sec)\n",
      "NotebookApp.rate_limit_window=3.0 (secs)\n",
      "\n",
      "Train: 100% 2000/2000 [01:17<00:00, 25.64step/s, accuracy=0.88, loss=0.49, step=232000]\n",
      "Valid:  93% 448/484 [00:00<00:00, 1617.71 uttr/s, accuracy=0.84, loss=1.19]\n"
     ]
    },
    {
     "name": "stdout",
     "output_type": "stream",
     "text": [
      "Checking validation accuracy. Validation accuracy 0.8415178571428571. Best accuracy 0.84375.\n"
     ]
    },
    {
     "name": "stderr",
     "output_type": "stream",
     "text": [
      "                                     \n",
      "Train:   0% 0/2000 [00:00<?, ?step/s]                                                \n",
      "Train:   0% 3/2000 [00:00<02:15, 14.69step/s, accuracy=0.97, loss=0.14, step=232003]]\u001b[A"
     ]
    },
    {
     "name": "stdout",
     "output_type": "stream",
     "text": [
      "Step 232000, best model saved. (accuracy=0.8438)\n"
     ]
    },
    {
     "name": "stderr",
     "output_type": "stream",
     "text": [
      "Train:  82% 1649/2000 [01:05<00:13, 25.99step/s, accuracy=0.94, loss=0.30, step=233649]IOPub message rate exceeded.\n",
      "The notebook server will temporarily stop sending output\n",
      "to the client in order to avoid crashing it.\n",
      "To change this limit, set the config variable\n",
      "`--NotebookApp.iopub_msg_rate_limit`.\n",
      "\n",
      "Current values:\n",
      "NotebookApp.iopub_msg_rate_limit=1000.0 (msgs/sec)\n",
      "NotebookApp.rate_limit_window=3.0 (secs)\n",
      "\n",
      "Train: 100% 2000/2000 [01:19<00:00, 25.14step/s, accuracy=0.95, loss=0.20, step=244000]\n",
      "Valid:  93% 448/484 [00:00<00:00, 1641.75 uttr/s, accuracy=0.83, loss=1.28]\n"
     ]
    },
    {
     "name": "stdout",
     "output_type": "stream",
     "text": [
      "Checking validation accuracy. Validation accuracy 0.8325892857142857. Best accuracy 0.8526785714285714.\n"
     ]
    },
    {
     "name": "stderr",
     "output_type": "stream",
     "text": [
      "                                     \n",
      "Train:   0% 0/2000 [00:00<?, ?step/s]                                                \n",
      "Train:   0% 4/2000 [00:00<01:41, 19.67step/s, accuracy=0.95, loss=0.26, step=244004]]\u001b[A"
     ]
    },
    {
     "name": "stdout",
     "output_type": "stream",
     "text": [
      "Step 244000, best model saved. (accuracy=0.8527)\n"
     ]
    },
    {
     "name": "stderr",
     "output_type": "stream",
     "text": [
      "Train:  52% 1039/2000 [00:40<00:36, 26.42step/s, accuracy=0.97, loss=0.13, step=245039]IOPub message rate exceeded.\n",
      "The notebook server will temporarily stop sending output\n",
      "to the client in order to avoid crashing it.\n",
      "To change this limit, set the config variable\n",
      "`--NotebookApp.iopub_msg_rate_limit`.\n",
      "\n",
      "Current values:\n",
      "NotebookApp.iopub_msg_rate_limit=1000.0 (msgs/sec)\n",
      "NotebookApp.rate_limit_window=3.0 (secs)\n",
      "\n",
      "Train: 100% 2000/2000 [01:20<00:00, 24.71step/s, accuracy=0.89, loss=0.41, step=254000]\n",
      "Valid:  93% 448/484 [00:00<00:00, 2161.47 uttr/s, accuracy=0.83, loss=1.29]\n"
     ]
    },
    {
     "name": "stdout",
     "output_type": "stream",
     "text": [
      "Checking validation accuracy. Validation accuracy 0.8348214285714286. Best accuracy 0.8526785714285714.\n"
     ]
    },
    {
     "name": "stderr",
     "output_type": "stream",
     "text": [
      "Train: 100% 2000/2000 [01:21<00:00, 24.55step/s, accuracy=0.94, loss=0.43, step=256000]\n",
      "Valid:  93% 448/484 [00:00<00:00, 1451.94 uttr/s, accuracy=0.84, loss=1.16]\n"
     ]
    },
    {
     "name": "stdout",
     "output_type": "stream",
     "text": [
      "Checking validation accuracy. Validation accuracy 0.8415178571428571. Best accuracy 0.8526785714285714.\n"
     ]
    },
    {
     "name": "stderr",
     "output_type": "stream",
     "text": [
      "                                     \n",
      "Train:   0% 0/2000 [00:00<?, ?step/s]                                                \n",
      "Train:   0% 2/2000 [00:00<03:44,  8.91step/s, accuracy=0.92, loss=0.43, step=256002]]\u001b[A"
     ]
    },
    {
     "name": "stdout",
     "output_type": "stream",
     "text": [
      "Step 256000, best model saved. (accuracy=0.8527)\n"
     ]
    },
    {
     "name": "stderr",
     "output_type": "stream",
     "text": [
      "Train:  10% 198/2000 [00:07<01:08, 26.45step/s, accuracy=0.95, loss=0.36, step=256197]IOPub message rate exceeded.\n",
      "The notebook server will temporarily stop sending output\n",
      "to the client in order to avoid crashing it.\n",
      "To change this limit, set the config variable\n",
      "`--NotebookApp.iopub_msg_rate_limit`.\n",
      "\n",
      "Current values:\n",
      "NotebookApp.iopub_msg_rate_limit=1000.0 (msgs/sec)\n",
      "NotebookApp.rate_limit_window=3.0 (secs)\n",
      "\n",
      "Train: 100% 2000/2000 [01:18<00:00, 25.50step/s, accuracy=0.88, loss=0.53, step=266000]\n",
      "Valid:  93% 448/484 [00:00<00:00, 1930.26 uttr/s, accuracy=0.86, loss=1.00]\n"
     ]
    },
    {
     "name": "stdout",
     "output_type": "stream",
     "text": [
      "Checking validation accuracy. Validation accuracy 0.8638392857142857. Best accuracy 0.8549107142857143.\n"
     ]
    },
    {
     "name": "stderr",
     "output_type": "stream",
     "text": [
      "Train:  68% 1366/2000 [00:53<00:23, 26.54step/s, accuracy=0.97, loss=0.19, step=267366]IOPub message rate exceeded.\n",
      "The notebook server will temporarily stop sending output\n",
      "to the client in order to avoid crashing it.\n",
      "To change this limit, set the config variable\n",
      "`--NotebookApp.iopub_msg_rate_limit`.\n",
      "\n",
      "Current values:\n",
      "NotebookApp.iopub_msg_rate_limit=1000.0 (msgs/sec)\n",
      "NotebookApp.rate_limit_window=3.0 (secs)\n",
      "\n",
      "Train: 100% 2000/2000 [01:18<00:00, 25.57step/s, accuracy=0.92, loss=0.30, step=278000]\n",
      "Valid:  93% 448/484 [00:00<00:00, 1991.18 uttr/s, accuracy=0.87, loss=0.93]\n"
     ]
    },
    {
     "name": "stdout",
     "output_type": "stream",
     "text": [
      "Checking validation accuracy. Validation accuracy 0.8683035714285714. Best accuracy 0.8638392857142857.\n"
     ]
    },
    {
     "name": "stderr",
     "output_type": "stream",
     "text": [
      "Train:  39% 779/2000 [00:29<00:47, 25.44step/s, accuracy=0.92, loss=0.32, step=278779]IOPub message rate exceeded.\n",
      "The notebook server will temporarily stop sending output\n",
      "to the client in order to avoid crashing it.\n",
      "To change this limit, set the config variable\n",
      "`--NotebookApp.iopub_msg_rate_limit`.\n",
      "\n",
      "Current values:\n",
      "NotebookApp.iopub_msg_rate_limit=1000.0 (msgs/sec)\n",
      "NotebookApp.rate_limit_window=3.0 (secs)\n",
      "\n",
      "Train: 100% 2000/2000 [01:18<00:00, 25.32step/s, accuracy=0.94, loss=0.21, step=290000]\n",
      "Valid:  93% 448/484 [00:00<00:00, 1857.08 uttr/s, accuracy=0.88, loss=0.92]\n"
     ]
    },
    {
     "name": "stdout",
     "output_type": "stream",
     "text": [
      "Checking validation accuracy. Validation accuracy 0.875. Best accuracy 0.8794642857142857.\n"
     ]
    },
    {
     "name": "stderr",
     "output_type": "stream",
     "text": [
      "Train:  12% 240/2000 [00:09<01:09, 25.19step/s, accuracy=0.92, loss=0.32, step=290239]IOPub message rate exceeded.\n",
      "The notebook server will temporarily stop sending output\n",
      "to the client in order to avoid crashing it.\n",
      "To change this limit, set the config variable\n",
      "`--NotebookApp.iopub_msg_rate_limit`.\n",
      "\n",
      "Current values:\n",
      "NotebookApp.iopub_msg_rate_limit=1000.0 (msgs/sec)\n",
      "NotebookApp.rate_limit_window=3.0 (secs)\n",
      "\n",
      "Train: 100% 2000/2000 [01:16<00:00, 26.08step/s, accuracy=0.92, loss=0.23, step=3e+5]  \n",
      "Valid:  93% 448/484 [00:00<00:00, 1536.80 uttr/s, accuracy=0.86, loss=1.07]\n"
     ]
    },
    {
     "name": "stdout",
     "output_type": "stream",
     "text": [
      "Checking validation accuracy. Validation accuracy 0.859375. Best accuracy 0.8794642857142857.\n"
     ]
    },
    {
     "name": "stderr",
     "output_type": "stream",
     "text": [
      "                                     \n",
      "Train:   0% 0/2000 [00:00<?, ?step/s]                                                \n",
      "Train:   0% 3/2000 [00:00<03:20,  9.95step/s, accuracy=0.95, loss=0.12, step=3e+5]02]\u001b[A"
     ]
    },
    {
     "name": "stdout",
     "output_type": "stream",
     "text": [
      "Step 300000, best model saved. (accuracy=0.8795)\n"
     ]
    },
    {
     "name": "stderr",
     "output_type": "stream",
     "text": [
      "Train:  78% 1559/2000 [01:00<00:16, 26.19step/s, accuracy=0.97, loss=0.09, step=301559]IOPub message rate exceeded.\n",
      "The notebook server will temporarily stop sending output\n",
      "to the client in order to avoid crashing it.\n",
      "To change this limit, set the config variable\n",
      "`--NotebookApp.iopub_msg_rate_limit`.\n",
      "\n",
      "Current values:\n",
      "NotebookApp.iopub_msg_rate_limit=1000.0 (msgs/sec)\n",
      "NotebookApp.rate_limit_window=3.0 (secs)\n",
      "\n",
      "Train: 100% 2000/2000 [01:17<00:00, 25.83step/s, accuracy=0.98, loss=0.09, step=310000]\n",
      "Valid:  93% 448/484 [00:00<00:00, 2268.86 uttr/s, accuracy=0.86, loss=0.98]\n"
     ]
    },
    {
     "name": "stdout",
     "output_type": "stream",
     "text": [
      "Checking validation accuracy. Validation accuracy 0.8638392857142857. Best accuracy 0.8816964285714286.\n"
     ]
    },
    {
     "name": "stderr",
     "output_type": "stream",
     "text": [
      "Train:  36% 718/2000 [00:27<00:47, 26.84step/s, accuracy=0.98, loss=0.05, step=310717]IOPub message rate exceeded.\n",
      "The notebook server will temporarily stop sending output\n",
      "to the client in order to avoid crashing it.\n",
      "To change this limit, set the config variable\n",
      "`--NotebookApp.iopub_msg_rate_limit`.\n",
      "\n",
      "Current values:\n",
      "NotebookApp.iopub_msg_rate_limit=1000.0 (msgs/sec)\n",
      "NotebookApp.rate_limit_window=3.0 (secs)\n",
      "\n",
      "Train: 100% 2000/2000 [01:18<00:00, 25.40step/s, accuracy=1.00, loss=0.03, step=320000]\n",
      "Valid:  93% 448/484 [00:00<00:00, 1849.60 uttr/s, accuracy=0.87, loss=1.08]\n"
     ]
    },
    {
     "name": "stdout",
     "output_type": "stream",
     "text": [
      "Checking validation accuracy. Validation accuracy 0.8727678571428571. Best accuracy 0.8816964285714286.\n"
     ]
    },
    {
     "name": "stderr",
     "output_type": "stream",
     "text": [
      "                                     \n",
      "Train:   0% 0/2000 [00:00<?, ?step/s]                                                \n",
      "Train:   0% 3/2000 [00:00<02:15, 14.76step/s, accuracy=0.98, loss=0.05, step=320003]]\u001b[A"
     ]
    },
    {
     "name": "stdout",
     "output_type": "stream",
     "text": [
      "Step 320000, best model saved. (accuracy=0.8817)\n"
     ]
    },
    {
     "name": "stderr",
     "output_type": "stream",
     "text": [
      "Train: 100% 2000/2000 [01:17<00:00, 25.67step/s, accuracy=0.98, loss=0.07, step=322000]\n",
      "Valid:  93% 448/484 [00:00<00:00, 1983.23 uttr/s, accuracy=0.85, loss=1.34]\n"
     ]
    },
    {
     "name": "stdout",
     "output_type": "stream",
     "text": [
      "Checking validation accuracy. Validation accuracy 0.8504464285714286. Best accuracy 0.8816964285714286.\n"
     ]
    },
    {
     "name": "stderr",
     "output_type": "stream",
     "text": [
      "Train:   3% 68/2000 [00:02<01:13, 26.24step/s, accuracy=0.98, loss=0.04, step=322068]IOPub message rate exceeded.\n",
      "The notebook server will temporarily stop sending output\n",
      "to the client in order to avoid crashing it.\n",
      "To change this limit, set the config variable\n",
      "`--NotebookApp.iopub_msg_rate_limit`.\n",
      "\n",
      "Current values:\n",
      "NotebookApp.iopub_msg_rate_limit=1000.0 (msgs/sec)\n",
      "NotebookApp.rate_limit_window=3.0 (secs)\n",
      "\n",
      "Train: 100% 2000/2000 [01:18<00:00, 25.54step/s, accuracy=0.98, loss=0.09, step=332000]\n",
      "Valid:  93% 448/484 [00:00<00:00, 1928.75 uttr/s, accuracy=0.86, loss=1.12]\n"
     ]
    },
    {
     "name": "stdout",
     "output_type": "stream",
     "text": [
      "Checking validation accuracy. Validation accuracy 0.8616071428571429. Best accuracy 0.8816964285714286.\n"
     ]
    },
    {
     "name": "stderr",
     "output_type": "stream",
     "text": [
      "                                     \n",
      "Train:   0% 0/2000 [00:00<?, ?step/s]                                                \n",
      "Train:   0% 3/2000 [00:00<02:04, 16.02step/s, accuracy=0.98, loss=0.22, step=332003]]\u001b[A"
     ]
    },
    {
     "name": "stdout",
     "output_type": "stream",
     "text": [
      "Step 332000, best model saved. (accuracy=0.8817)\n"
     ]
    },
    {
     "name": "stderr",
     "output_type": "stream",
     "text": [
      "Train:  82% 1640/2000 [01:02<00:13, 26.87step/s, accuracy=1.00, loss=0.01, step=333639]IOPub message rate exceeded.\n",
      "The notebook server will temporarily stop sending output\n",
      "to the client in order to avoid crashing it.\n",
      "To change this limit, set the config variable\n",
      "`--NotebookApp.iopub_msg_rate_limit`.\n",
      "\n",
      "Current values:\n",
      "NotebookApp.iopub_msg_rate_limit=1000.0 (msgs/sec)\n",
      "NotebookApp.rate_limit_window=3.0 (secs)\n",
      "\n",
      "Train: 100% 2000/2000 [01:19<00:00, 25.15step/s, accuracy=0.97, loss=0.07, step=344000]\n",
      "Valid:  93% 448/484 [00:00<00:00, 1452.68 uttr/s, accuracy=0.88, loss=1.05]\n"
     ]
    },
    {
     "name": "stdout",
     "output_type": "stream",
     "text": [
      "Checking validation accuracy. Validation accuracy 0.8839285714285714. Best accuracy 0.890625.\n"
     ]
    },
    {
     "name": "stderr",
     "output_type": "stream",
     "text": [
      "                                     \n",
      "Train:   0% 0/2000 [00:00<?, ?step/s]                                                \n",
      "Train:   0% 2/2000 [00:00<03:27,  9.61step/s, accuracy=1.00, loss=0.00, step=344002]]\u001b[A"
     ]
    },
    {
     "name": "stdout",
     "output_type": "stream",
     "text": [
      "Step 344000, best model saved. (accuracy=0.8906)\n"
     ]
    },
    {
     "name": "stderr",
     "output_type": "stream",
     "text": [
      "Train:  45% 895/2000 [00:34<00:41, 26.72step/s, accuracy=1.00, loss=0.01, step=344895]IOPub message rate exceeded.\n",
      "The notebook server will temporarily stop sending output\n",
      "to the client in order to avoid crashing it.\n",
      "To change this limit, set the config variable\n",
      "`--NotebookApp.iopub_msg_rate_limit`.\n",
      "\n",
      "Current values:\n",
      "NotebookApp.iopub_msg_rate_limit=1000.0 (msgs/sec)\n",
      "NotebookApp.rate_limit_window=3.0 (secs)\n",
      "\n",
      "Train: 100% 2000/2000 [01:19<00:00, 25.23step/s, accuracy=0.98, loss=0.20, step=354000]\n",
      "Valid:  93% 448/484 [00:00<00:00, 1480.19 uttr/s, accuracy=0.86, loss=0.97]\n"
     ]
    },
    {
     "name": "stdout",
     "output_type": "stream",
     "text": [
      "Checking validation accuracy. Validation accuracy 0.8638392857142857. Best accuracy 0.9017857142857143.\n"
     ]
    },
    {
     "name": "stderr",
     "output_type": "stream",
     "text": [
      "Train: 100% 2000/2000 [01:17<00:00, 25.91step/s, accuracy=1.00, loss=0.01, step=356000]\n",
      "Valid:  93% 448/484 [00:00<00:00, 1756.56 uttr/s, accuracy=0.88, loss=1.11]\n"
     ]
    },
    {
     "name": "stdout",
     "output_type": "stream",
     "text": [
      "Checking validation accuracy. Validation accuracy 0.8816964285714286. Best accuracy 0.9017857142857143.\n"
     ]
    },
    {
     "name": "stderr",
     "output_type": "stream",
     "text": [
      "                                     \n",
      "Train:   0% 0/2000 [00:00<?, ?step/s]                                                \n",
      "Train:   0% 3/2000 [00:00<02:15, 14.74step/s, accuracy=1.00, loss=0.02, step=356003]]\u001b[A"
     ]
    },
    {
     "name": "stdout",
     "output_type": "stream",
     "text": [
      "Step 356000, best model saved. (accuracy=0.9018)\n"
     ]
    },
    {
     "name": "stderr",
     "output_type": "stream",
     "text": [
      "Train:  11% 216/2000 [00:08<01:06, 26.66step/s, accuracy=1.00, loss=0.01, step=356216]IOPub message rate exceeded.\n",
      "The notebook server will temporarily stop sending output\n",
      "to the client in order to avoid crashing it.\n",
      "To change this limit, set the config variable\n",
      "`--NotebookApp.iopub_msg_rate_limit`.\n",
      "\n",
      "Current values:\n",
      "NotebookApp.iopub_msg_rate_limit=1000.0 (msgs/sec)\n",
      "NotebookApp.rate_limit_window=3.0 (secs)\n",
      "\n",
      "Train: 100% 2000/2000 [01:45<00:00, 18.93step/s, accuracy=0.97, loss=0.13, step=362000]\n",
      "Valid:  93% 448/484 [00:00<00:00, 1390.21 uttr/s, accuracy=0.92, loss=0.66]\n"
     ]
    },
    {
     "name": "stdout",
     "output_type": "stream",
     "text": [
      "Checking validation accuracy. Validation accuracy 0.921875. Best accuracy 0.9017857142857143.\n"
     ]
    },
    {
     "name": "stderr",
     "output_type": "stream",
     "text": [
      "Train: 100% 2000/2000 [01:18<00:00, 25.43step/s, accuracy=0.98, loss=0.03, step=364000]\n",
      "Valid:  93% 448/484 [00:00<00:00, 1587.00 uttr/s, accuracy=0.89, loss=1.07]\n"
     ]
    },
    {
     "name": "stdout",
     "output_type": "stream",
     "text": [
      "Checking validation accuracy. Validation accuracy 0.8928571428571429. Best accuracy 0.921875.\n"
     ]
    },
    {
     "name": "stderr",
     "output_type": "stream",
     "text": [
      "                                     \n",
      "Train:   0% 0/2000 [00:00<?, ?step/s]                                                \n",
      "Train:   0% 4/2000 [00:00<01:47, 18.62step/s, accuracy=1.00, loss=0.01, step=364004]]\u001b[A"
     ]
    },
    {
     "name": "stdout",
     "output_type": "stream",
     "text": [
      "Step 364000, best model saved. (accuracy=0.9219)\n"
     ]
    },
    {
     "name": "stderr",
     "output_type": "stream",
     "text": [
      "Train: 100% 2000/2000 [01:16<00:00, 26.28step/s, accuracy=0.98, loss=0.04, step=366000]\n",
      "Valid:  93% 448/484 [00:00<00:00, 1549.57 uttr/s, accuracy=0.90, loss=0.92]\n"
     ]
    },
    {
     "name": "stdout",
     "output_type": "stream",
     "text": [
      "Checking validation accuracy. Validation accuracy 0.8995535714285714. Best accuracy 0.921875.\n"
     ]
    },
    {
     "name": "stderr",
     "output_type": "stream",
     "text": [
      "Train: 100% 2000/2000 [01:15<00:00, 26.42step/s, accuracy=0.98, loss=0.06, step=368000]\n",
      "Valid:  93% 448/484 [00:00<00:00, 1511.79 uttr/s, accuracy=0.88, loss=1.15]\n"
     ]
    },
    {
     "name": "stdout",
     "output_type": "stream",
     "text": [
      "Checking validation accuracy. Validation accuracy 0.8772321428571429. Best accuracy 0.921875.\n"
     ]
    },
    {
     "name": "stderr",
     "output_type": "stream",
     "text": [
      "                                     \n",
      "Train:   0% 0/2000 [00:00<?, ?step/s]                                                \n",
      "Train:   0% 3/2000 [00:00<02:02, 16.24step/s, accuracy=1.00, loss=0.00, step=368003]]\u001b[A"
     ]
    },
    {
     "name": "stdout",
     "output_type": "stream",
     "text": [
      "Step 368000, best model saved. (accuracy=0.9219)\n"
     ]
    },
    {
     "name": "stderr",
     "output_type": "stream",
     "text": [
      "Train: 100% 2000/2000 [01:17<00:00, 25.81step/s, accuracy=0.98, loss=0.21, step=370000]\n",
      "Valid:  93% 448/484 [00:00<00:00, 1657.52 uttr/s, accuracy=0.91, loss=0.86]\n"
     ]
    },
    {
     "name": "stdout",
     "output_type": "stream",
     "text": [
      "Checking validation accuracy. Validation accuracy 0.9129464285714286. Best accuracy 0.921875.\n"
     ]
    },
    {
     "name": "stderr",
     "output_type": "stream",
     "text": [
      "Train: 100% 2000/2000 [01:25<00:00, 23.37step/s, accuracy=1.00, loss=0.00, step=372000]\n",
      "Valid:  93% 448/484 [00:00<00:00, 1341.08 uttr/s, accuracy=0.90, loss=1.00]\n"
     ]
    },
    {
     "name": "stdout",
     "output_type": "stream",
     "text": [
      "Checking validation accuracy. Validation accuracy 0.8973214285714286. Best accuracy 0.921875.\n"
     ]
    },
    {
     "name": "stderr",
     "output_type": "stream",
     "text": [
      "                                     \n",
      "Train:   0% 0/2000 [00:00<?, ?step/s]                                                \n",
      "Train:   0% 2/2000 [00:00<04:14,  7.84step/s, accuracy=1.00, loss=0.01, step=372002]]\u001b[A"
     ]
    },
    {
     "name": "stdout",
     "output_type": "stream",
     "text": [
      "Step 372000, best model saved. (accuracy=0.9219)\n"
     ]
    },
    {
     "name": "stderr",
     "output_type": "stream",
     "text": [
      "Train: 100% 2000/2000 [01:23<00:00, 24.08step/s, accuracy=1.00, loss=0.00, step=374000]\n",
      "Valid:  93% 448/484 [00:00<00:00, 1769.49 uttr/s, accuracy=0.89, loss=1.12]\n"
     ]
    },
    {
     "name": "stdout",
     "output_type": "stream",
     "text": [
      "Checking validation accuracy. Validation accuracy 0.8883928571428571. Best accuracy 0.921875.\n"
     ]
    },
    {
     "name": "stderr",
     "output_type": "stream",
     "text": [
      "Train: 100% 2000/2000 [01:17<00:00, 25.65step/s, accuracy=0.98, loss=0.05, step=376000]\n",
      "Valid:  93% 448/484 [00:00<00:00, 1419.52 uttr/s, accuracy=0.89, loss=1.16]\n"
     ]
    },
    {
     "name": "stdout",
     "output_type": "stream",
     "text": [
      "Checking validation accuracy. Validation accuracy 0.8928571428571429. Best accuracy 0.921875.\n"
     ]
    },
    {
     "name": "stderr",
     "output_type": "stream",
     "text": [
      "                                     \n",
      "Train:   0% 0/2000 [00:00<?, ?step/s]                                                \n",
      "Train:   0% 3/2000 [00:00<02:07, 15.70step/s, accuracy=0.97, loss=0.18, step=376003]]\u001b[A"
     ]
    },
    {
     "name": "stdout",
     "output_type": "stream",
     "text": [
      "Step 376000, best model saved. (accuracy=0.9219)\n"
     ]
    },
    {
     "name": "stderr",
     "output_type": "stream",
     "text": [
      "Train: 100% 2000/2000 [01:18<00:00, 25.39step/s, accuracy=0.98, loss=0.02, step=378000]\n",
      "Valid:  93% 448/484 [00:00<00:00, 2184.94 uttr/s, accuracy=0.85, loss=1.16]\n"
     ]
    },
    {
     "name": "stdout",
     "output_type": "stream",
     "text": [
      "Checking validation accuracy. Validation accuracy 0.8549107142857143. Best accuracy 0.921875.\n"
     ]
    },
    {
     "name": "stderr",
     "output_type": "stream",
     "text": [
      "Train: 100% 2000/2000 [01:17<00:00, 25.71step/s, accuracy=0.98, loss=0.02, step=380000]\n",
      "Valid:  93% 448/484 [00:00<00:00, 1843.97 uttr/s, accuracy=0.89, loss=1.07]\n"
     ]
    },
    {
     "name": "stdout",
     "output_type": "stream",
     "text": [
      "Checking validation accuracy. Validation accuracy 0.8928571428571429. Best accuracy 0.921875.\n"
     ]
    },
    {
     "name": "stderr",
     "output_type": "stream",
     "text": [
      "                                     \n",
      "Train:   0% 0/2000 [00:00<?, ?step/s]                                                \n",
      "Train:   0% 2/2000 [00:00<03:32,  9.40step/s, accuracy=1.00, loss=0.03, step=380002]]\u001b[A"
     ]
    },
    {
     "name": "stdout",
     "output_type": "stream",
     "text": [
      "Step 380000, best model saved. (accuracy=0.9219)\n"
     ]
    },
    {
     "name": "stderr",
     "output_type": "stream",
     "text": [
      "Train: 100% 2000/2000 [01:18<00:00, 25.46step/s, accuracy=0.97, loss=0.11, step=382000]\n",
      "Valid:  93% 448/484 [00:00<00:00, 1608.82 uttr/s, accuracy=0.91, loss=0.97]\n"
     ]
    },
    {
     "name": "stdout",
     "output_type": "stream",
     "text": [
      "Checking validation accuracy. Validation accuracy 0.90625. Best accuracy 0.921875.\n"
     ]
    },
    {
     "name": "stderr",
     "output_type": "stream",
     "text": [
      "Train: 100% 2000/2000 [01:17<00:00, 25.66step/s, accuracy=0.98, loss=0.03, step=384000]\n",
      "Valid:  93% 448/484 [00:00<00:00, 1428.61 uttr/s, accuracy=0.88, loss=1.11]\n"
     ]
    },
    {
     "name": "stdout",
     "output_type": "stream",
     "text": [
      "Checking validation accuracy. Validation accuracy 0.8794642857142857. Best accuracy 0.921875.\n"
     ]
    },
    {
     "name": "stderr",
     "output_type": "stream",
     "text": [
      "                                     \n",
      "Train:   0% 0/2000 [00:00<?, ?step/s]                                                \n",
      "Train:   0% 3/2000 [00:00<02:15, 14.72step/s, accuracy=1.00, loss=0.00, step=384003]]\u001b[A"
     ]
    },
    {
     "name": "stdout",
     "output_type": "stream",
     "text": [
      "Step 384000, best model saved. (accuracy=0.9219)\n"
     ]
    },
    {
     "name": "stderr",
     "output_type": "stream",
     "text": [
      "Train: 100% 2000/2000 [01:18<00:00, 25.64step/s, accuracy=1.00, loss=0.02, step=386000]\n",
      "Valid:  93% 448/484 [00:00<00:00, 1422.95 uttr/s, accuracy=0.90, loss=0.96]\n"
     ]
    },
    {
     "name": "stdout",
     "output_type": "stream",
     "text": [
      "Checking validation accuracy. Validation accuracy 0.9040178571428571. Best accuracy 0.921875.\n"
     ]
    },
    {
     "name": "stderr",
     "output_type": "stream",
     "text": [
      "Train: 100% 2000/2000 [01:18<00:00, 25.41step/s, accuracy=1.00, loss=0.00, step=388000]\n",
      "Valid:  93% 448/484 [00:00<00:00, 1462.78 uttr/s, accuracy=0.90, loss=1.28]\n"
     ]
    },
    {
     "name": "stdout",
     "output_type": "stream",
     "text": [
      "Checking validation accuracy. Validation accuracy 0.8973214285714286. Best accuracy 0.921875.\n"
     ]
    },
    {
     "name": "stderr",
     "output_type": "stream",
     "text": [
      "                                     \n",
      "Train:   0% 0/2000 [00:00<?, ?step/s]                                                \n",
      "Train:   0% 2/2000 [00:00<03:50,  8.66step/s, accuracy=1.00, loss=0.00, step=388002]]\u001b[A"
     ]
    },
    {
     "name": "stdout",
     "output_type": "stream",
     "text": [
      "Step 388000, best model saved. (accuracy=0.9219)\n"
     ]
    },
    {
     "name": "stderr",
     "output_type": "stream",
     "text": [
      "Train: 100% 2000/2000 [01:18<00:00, 25.56step/s, accuracy=1.00, loss=0.01, step=390000]\n",
      "Valid:  93% 448/484 [00:00<00:00, 1515.03 uttr/s, accuracy=0.88, loss=1.20]\n"
     ]
    },
    {
     "name": "stdout",
     "output_type": "stream",
     "text": [
      "Checking validation accuracy. Validation accuracy 0.8772321428571429. Best accuracy 0.921875.\n"
     ]
    },
    {
     "name": "stderr",
     "output_type": "stream",
     "text": [
      "Train: 100% 2000/2000 [01:18<00:00, 25.47step/s, accuracy=1.00, loss=0.00, step=392000]\n",
      "Valid:  93% 448/484 [00:00<00:00, 1541.65 uttr/s, accuracy=0.90, loss=1.03]\n"
     ]
    },
    {
     "name": "stdout",
     "output_type": "stream",
     "text": [
      "Checking validation accuracy. Validation accuracy 0.9017857142857143. Best accuracy 0.921875.\n"
     ]
    },
    {
     "name": "stderr",
     "output_type": "stream",
     "text": [
      "                                     \n",
      "Train:   0% 0/2000 [00:00<?, ?step/s]                                                \n",
      "Train:   0% 4/2000 [00:00<02:04, 16.07step/s, accuracy=1.00, loss=0.01, step=392004]]\u001b[A"
     ]
    },
    {
     "name": "stdout",
     "output_type": "stream",
     "text": [
      "Step 392000, best model saved. (accuracy=0.9219)\n"
     ]
    },
    {
     "name": "stderr",
     "output_type": "stream",
     "text": [
      "Train: 100% 2000/2000 [01:17<00:00, 25.67step/s, accuracy=1.00, loss=0.00, step=394000]\n",
      "Valid:  93% 448/484 [00:00<00:00, 1379.39 uttr/s, accuracy=0.89, loss=1.04]\n"
     ]
    },
    {
     "name": "stdout",
     "output_type": "stream",
     "text": [
      "Checking validation accuracy. Validation accuracy 0.8883928571428571. Best accuracy 0.921875.\n"
     ]
    },
    {
     "name": "stderr",
     "output_type": "stream",
     "text": [
      "Train: 100% 2000/2000 [01:17<00:00, 25.94step/s, accuracy=1.00, loss=0.01, step=396000]\n",
      "Valid:  93% 448/484 [00:00<00:00, 1857.60 uttr/s, accuracy=0.88, loss=1.28]\n"
     ]
    },
    {
     "name": "stdout",
     "output_type": "stream",
     "text": [
      "Checking validation accuracy. Validation accuracy 0.8794642857142857. Best accuracy 0.921875.\n"
     ]
    },
    {
     "name": "stderr",
     "output_type": "stream",
     "text": [
      "                                     \n",
      "Train:   0% 0/2000 [00:00<?, ?step/s]                                                \n",
      "Train:   0% 4/2000 [00:00<01:42, 19.52step/s, accuracy=0.98, loss=0.14, step=396004]]\u001b[A"
     ]
    },
    {
     "name": "stdout",
     "output_type": "stream",
     "text": [
      "Step 396000, best model saved. (accuracy=0.9219)\n"
     ]
    },
    {
     "name": "stderr",
     "output_type": "stream",
     "text": [
      "Train: 100% 2000/2000 [01:17<00:00, 25.72step/s, accuracy=0.98, loss=0.07, step=398000]\n",
      "Valid:  93% 448/484 [00:00<00:00, 1993.08 uttr/s, accuracy=0.89, loss=1.07]\n"
     ]
    },
    {
     "name": "stdout",
     "output_type": "stream",
     "text": [
      "Checking validation accuracy. Validation accuracy 0.890625. Best accuracy 0.921875.\n"
     ]
    },
    {
     "name": "stderr",
     "output_type": "stream",
     "text": [
      "Train: 100% 2000/2000 [01:18<00:00, 25.45step/s, accuracy=1.00, loss=0.00, step=4e+5]  \n",
      "Valid:  93% 448/484 [00:00<00:00, 1458.30 uttr/s, accuracy=0.89, loss=1.01]\n"
     ]
    },
    {
     "name": "stdout",
     "output_type": "stream",
     "text": [
      "Checking validation accuracy. Validation accuracy 0.8883928571428571. Best accuracy 0.921875.\n"
     ]
    },
    {
     "name": "stderr",
     "output_type": "stream",
     "text": [
      "                                     \n",
      "Train:   0% 0/2000 [00:00<?, ?step/s]                                                \n",
      "Train:   0% 2/2000 [00:00<02:31, 13.15step/s, accuracy=1.00, loss=0.01, step=4e+5]02]\u001b[A"
     ]
    },
    {
     "name": "stdout",
     "output_type": "stream",
     "text": [
      "Step 400000, best model saved. (accuracy=0.9219)\n"
     ]
    },
    {
     "name": "stderr",
     "output_type": "stream",
     "text": [
      "Train: 100% 2000/2000 [01:18<00:00, 25.63step/s, accuracy=0.98, loss=0.03, step=402000]\n",
      "Valid:  93% 448/484 [00:00<00:00, 1476.21 uttr/s, accuracy=0.89, loss=1.15]\n"
     ]
    },
    {
     "name": "stdout",
     "output_type": "stream",
     "text": [
      "Checking validation accuracy. Validation accuracy 0.890625. Best accuracy 0.921875.\n"
     ]
    },
    {
     "name": "stderr",
     "output_type": "stream",
     "text": [
      "Train: 100% 2000/2000 [01:17<00:00, 25.76step/s, accuracy=1.00, loss=0.02, step=404000]\n",
      "Valid:  93% 448/484 [00:00<00:00, 1560.62 uttr/s, accuracy=0.90, loss=1.17]\n"
     ]
    },
    {
     "name": "stdout",
     "output_type": "stream",
     "text": [
      "Checking validation accuracy. Validation accuracy 0.9040178571428571. Best accuracy 0.921875.\n"
     ]
    },
    {
     "name": "stderr",
     "output_type": "stream",
     "text": [
      "                                     \n",
      "Train:   0% 0/2000 [00:00<?, ?step/s]                                                \n",
      "Train:   0% 2/2000 [00:00<02:34, 12.90step/s, accuracy=1.00, loss=0.00, step=404002]]\u001b[A"
     ]
    },
    {
     "name": "stdout",
     "output_type": "stream",
     "text": [
      "Step 404000, best model saved. (accuracy=0.9219)\n"
     ]
    },
    {
     "name": "stderr",
     "output_type": "stream",
     "text": [
      "Train: 100% 2000/2000 [01:19<00:00, 25.24step/s, accuracy=1.00, loss=0.00, step=406000]\n",
      "Valid:  93% 448/484 [00:00<00:00, 1446.51 uttr/s, accuracy=0.89, loss=1.19]\n"
     ]
    },
    {
     "name": "stdout",
     "output_type": "stream",
     "text": [
      "Checking validation accuracy. Validation accuracy 0.8861607142857143. Best accuracy 0.921875.\n"
     ]
    },
    {
     "name": "stderr",
     "output_type": "stream",
     "text": [
      "Train: 100% 2000/2000 [01:18<00:00, 25.43step/s, accuracy=1.00, loss=0.00, step=408000]\n",
      "Valid:  93% 448/484 [00:00<00:00, 1480.33 uttr/s, accuracy=0.89, loss=1.12]\n"
     ]
    },
    {
     "name": "stdout",
     "output_type": "stream",
     "text": [
      "Checking validation accuracy. Validation accuracy 0.890625. Best accuracy 0.921875.\n"
     ]
    },
    {
     "name": "stderr",
     "output_type": "stream",
     "text": [
      "                                     \n",
      "Train:   0% 0/2000 [00:00<?, ?step/s]                                                \n",
      "Train:   0% 3/2000 [00:00<02:15, 14.76step/s, accuracy=0.98, loss=0.02, step=408003]]\u001b[A"
     ]
    },
    {
     "name": "stdout",
     "output_type": "stream",
     "text": [
      "Step 408000, best model saved. (accuracy=0.9219)\n"
     ]
    },
    {
     "name": "stderr",
     "output_type": "stream",
     "text": [
      "Train: 100% 2000/2000 [01:17<00:00, 25.78step/s, accuracy=1.00, loss=0.01, step=410000]\n",
      "Valid:  93% 448/484 [00:00<00:00, 1646.20 uttr/s, accuracy=0.91, loss=0.88]\n"
     ]
    },
    {
     "name": "stdout",
     "output_type": "stream",
     "text": [
      "Checking validation accuracy. Validation accuracy 0.9084821428571429. Best accuracy 0.921875.\n"
     ]
    },
    {
     "name": "stderr",
     "output_type": "stream",
     "text": [
      "Train: 100% 2000/2000 [01:17<00:00, 25.66step/s, accuracy=1.00, loss=0.01, step=412000]\n",
      "Valid:  93% 448/484 [00:00<00:00, 1512.91 uttr/s, accuracy=0.90, loss=1.32]\n"
     ]
    },
    {
     "name": "stdout",
     "output_type": "stream",
     "text": [
      "Checking validation accuracy. Validation accuracy 0.8973214285714286. Best accuracy 0.921875.\n"
     ]
    },
    {
     "name": "stderr",
     "output_type": "stream",
     "text": [
      "                                     \n",
      "Train:   0% 0/2000 [00:00<?, ?step/s]                                                \n",
      "Train:   0% 2/2000 [00:00<03:35,  9.29step/s, accuracy=0.98, loss=0.03, step=412002]]\u001b[A"
     ]
    },
    {
     "name": "stdout",
     "output_type": "stream",
     "text": [
      "Step 412000, best model saved. (accuracy=0.9219)\n"
     ]
    },
    {
     "name": "stderr",
     "output_type": "stream",
     "text": [
      "Train: 100% 2000/2000 [01:18<00:00, 25.45step/s, accuracy=1.00, loss=0.00, step=414000]\n",
      "Valid:  93% 448/484 [00:00<00:00, 1949.09 uttr/s, accuracy=0.91, loss=0.86]\n"
     ]
    },
    {
     "name": "stdout",
     "output_type": "stream",
     "text": [
      "Checking validation accuracy. Validation accuracy 0.9129464285714286. Best accuracy 0.921875.\n"
     ]
    },
    {
     "name": "stderr",
     "output_type": "stream",
     "text": [
      "Train:  11% 218/2000 [00:08<01:06, 26.76step/s, accuracy=1.00, loss=0.00, step=414218]"
     ]
    }
   ],
   "source": [
    "import os\n",
    "import json\n",
    "import torch\n",
    "import random\n",
    "import math\n",
    "import re\n",
    "import torch.nn as nn\n",
    "import torch.distributed as dist\n",
    "from pathlib import Path\n",
    "from torch.utils.data import Dataset, DataLoader, random_split\n",
    "from torch.nn.utils.rnn import pad_sequence\n",
    "from torch.optim import Optimizer\n",
    "from torch.optim import AdamW\n",
    "from torch.optim.lr_scheduler import LambdaLR\n",
    "from torch.utils.data.distributed import DistributedSampler\n",
    "from pathlib import Path\n",
    "from tqdm import tqdm\n",
    " \n",
    "class myDataset(Dataset):\n",
    "  def __init__(self, data_dir, segment_len=128):\n",
    "    self.data_dir = data_dir\n",
    "    self.segment_len = segment_len\n",
    " \n",
    "    # Load the mapping from speaker neme to their corresponding id. \n",
    "    mapping_path = Path(data_dir) / \"mapping.json\"\n",
    "    mapping = json.load(mapping_path.open())\n",
    "    self.speaker2id = mapping[\"speaker2id\"]\n",
    " \n",
    "    # Load metadata of training data.\n",
    "    metadata_path = Path(data_dir) / \"metadata.json\"\n",
    "    metadata = json.load(open(metadata_path))[\"speakers\"]\n",
    " \n",
    "    # Get the total number of speaker.\n",
    "    self.speaker_num = len(metadata.keys())\n",
    "    self.data = []\n",
    "    for speaker in metadata.keys():\n",
    "      for utterances in metadata[speaker]:\n",
    "        self.data.append([utterances[\"feature_path\"], self.speaker2id[speaker]])\n",
    " \n",
    "  def __len__(self):\n",
    "    return len(self.data)\n",
    " \n",
    "  def __getitem__(self, index):\n",
    "    feat_path, speaker = self.data[index]\n",
    "    # Load preprocessed mel-spectrogram.\n",
    "    mel = torch.load(os.path.join(self.data_dir, feat_path))\n",
    " \n",
    "    # Segmemt mel-spectrogram into \"segment_len\" frames.\n",
    "    if len(mel) > self.segment_len:\n",
    "      # Randomly get the starting point of the segment.\n",
    "      start = random.randint(0, len(mel) - self.segment_len)\n",
    "      # Get a segment with \"segment_len\" frames.\n",
    "      mel = torch.FloatTensor(mel[start:start+self.segment_len])\n",
    "    else:\n",
    "      mel = torch.FloatTensor(mel)\n",
    "    # Turn the speaker id into long for computing loss later.\n",
    "    speaker = torch.FloatTensor([speaker]).long()\n",
    "    return mel, speaker\n",
    " \n",
    "  def get_speaker_number(self):\n",
    "    return self.speaker_num\n",
    "\n",
    "\n",
    "def collate_batch(batch):\n",
    "  # Process features within a batch.\n",
    "  \"\"\"Collate a batch of data.\"\"\"\n",
    "  mel, speaker = zip(*batch)\n",
    "  # Because we train the model batch by batch, we need to pad the features in the same batch to make their lengths the same.\n",
    "  mel = pad_sequence(mel, batch_first=True, padding_value=-20)    # pad log 10^(-20) which is very small value.\n",
    "  # mel: (batch size, length, 40)\n",
    "  return mel, torch.FloatTensor(speaker).long()\n",
    "\n",
    "def get_dataloader(data_dir, batch_size, n_workers):\n",
    "  \"\"\"Generate dataloader\"\"\"\n",
    "  dataset = myDataset(data_dir)\n",
    "  speaker_num = dataset.get_speaker_number()\n",
    "  # Split dataset into training dataset and validation dataset\n",
    "  trainlen = int(0.99 * len(dataset))\n",
    "  lengths = [trainlen, len(dataset) - trainlen]\n",
    "  print(f\"Train length {lengths[0]}; Val length {lengths[1]}\")\n",
    "  trainset, validset = random_split(dataset, lengths)\n",
    "  train_loader = DataLoader(\n",
    "    trainset,\n",
    "    batch_size=batch_size,\n",
    "    shuffle=True,\n",
    "    drop_last=True,\n",
    "    num_workers=n_workers,\n",
    "    pin_memory=True,\n",
    "    collate_fn=collate_batch,\n",
    "  )\n",
    "  valid_loader = DataLoader(\n",
    "    validset,\n",
    "    batch_size=batch_size,\n",
    "    num_workers=n_workers,\n",
    "    drop_last=True,\n",
    "    pin_memory=True,\n",
    "    collate_fn=collate_batch,\n",
    "  )\n",
    "  return train_loader, valid_loader, speaker_num\n",
    "\n",
    "def model_fn(batch, model, criterion, device):\n",
    "  \"\"\"Forward a batch through the model.\"\"\"\n",
    "\n",
    "  mels, labels = batch\n",
    "  mels = mels.to(device)\n",
    "  labels = labels.to(device)\n",
    "\n",
    "  outs = model(mels)\n",
    "\n",
    "  loss = criterion(outs, labels)\n",
    "\n",
    "  # Get the speaker id with highest probability.\n",
    "  preds = outs.argmax(1)\n",
    "  # Compute accuracy.\n",
    "  accuracy = torch.mean((preds == labels).float())\n",
    "\n",
    "  return loss, accuracy\n",
    "\n",
    "class Classifier(nn.Module):\n",
    "  def __init__(self, d_model=80, n_spks=600, dropout=0.1):\n",
    "    super().__init__()\n",
    "    \n",
    "    self.prenet = nn.Linear(40, d_model)\n",
    "    self.encoder_layer = nn.TransformerEncoderLayer(d_model=d_model, dim_feedforward=1024, nhead=2)  # Increased dim_feedforward\n",
    "    self.encoder = nn.TransformerEncoder(self.encoder_layer, num_layers=6)  # Increased num_layers\n",
    "    \n",
    "    self.pred_layer = nn.Sequential(\n",
    "      nn.Linear(d_model, d_model*2),\n",
    "      nn.ReLU(),\n",
    "      nn.Dropout(dropout),\n",
    "      nn.Linear(d_model*2, d_model),  # Additional linear layer\n",
    "      nn.ReLU(),\n",
    "      nn.Dropout(dropout),\n",
    "      nn.Linear(d_model, d_model//2),  # Additional linear layer\n",
    "      nn.ReLU(),\n",
    "      nn.Dropout(dropout),\n",
    "      nn.Linear(d_model//2, n_spks),\n",
    "    )  \n",
    "    \n",
    "  def forward(self, mels):      \n",
    "    out = self.prenet(mels)\n",
    "    out = out.permute(1, 0, 2)\n",
    "    out = self.encoder(out)\n",
    "    out = out.transpose(0, 1)\n",
    "    stats = out.mean(dim=1)\n",
    "    out = self.pred_layer(stats)\n",
    "    return out\n",
    "  \n",
    "\n",
    "def get_cosine_schedule_with_warmup(\n",
    "  optimizer: Optimizer,\n",
    "  num_warmup_steps: int,\n",
    "  num_training_steps: int,\n",
    "  num_cycles: float = 0.5,\n",
    "  last_epoch: int = -1,\n",
    "):\n",
    "  def lr_lambda(current_step):\n",
    "    # Warmup\n",
    "    if current_step < num_warmup_steps:\n",
    "      return float(current_step) / float(max(1, num_warmup_steps))\n",
    "    # decadence\n",
    "    progress = float(current_step - num_warmup_steps) / float(\n",
    "      max(1, num_training_steps - num_warmup_steps)\n",
    "    )\n",
    "    return max(\n",
    "      0.0, 0.5 * (1.0 + math.cos(math.pi * float(num_cycles) * 2.0 * progress))\n",
    "    )\n",
    "\n",
    "  return LambdaLR(optimizer, lr_lambda, last_epoch)\n",
    "\n",
    "def valid(dataloader, model, criterion, device): \n",
    "  \"\"\"Validate on validation set.\"\"\"\n",
    "\n",
    "  model.eval()\n",
    "  running_loss = 0.0\n",
    "  running_accuracy = 0.0\n",
    "  pbar = tqdm(total=len(dataloader.dataset), ncols=0, desc=\"Valid\", unit=\" uttr\")\n",
    "\n",
    "  for i, batch in enumerate(dataloader):\n",
    "    with torch.no_grad():\n",
    "      loss, accuracy = model_fn(batch, model, criterion, device)\n",
    "      running_loss += loss.item()\n",
    "      running_accuracy += accuracy.item()\n",
    "\n",
    "    pbar.update(dataloader.batch_size)\n",
    "    pbar.set_postfix(\n",
    "      loss=f\"{running_loss / (i+1):.2f}\",\n",
    "      accuracy=f\"{running_accuracy / (i+1):.2f}\",\n",
    "    )\n",
    "\n",
    "  pbar.close()\n",
    "  model.train()\n",
    "\n",
    "  return running_accuracy / len(dataloader)\n",
    "\n",
    "def parse_args():\n",
    "  \"\"\"arguments\"\"\"\n",
    "  config = {\n",
    "    \"data_dir\": \"../Dataset\",\n",
    "    \"save_path\": \"model.ckpt\",\n",
    "    \"batch_size\": 64,\n",
    "    \"n_workers\": 0,\n",
    "    \"valid_steps\": 2000,\n",
    "    \"warmup_steps\": 10000,\n",
    "    \"save_steps\": 4000,\n",
    "    \"total_steps\": 450000,\n",
    "  }\n",
    "\n",
    "  return config\n",
    "\n",
    "def find_highest_iter_file(directory):\n",
    "    ckpt_files = os.listdir(directory)\n",
    "    max_iter = 0\n",
    "    max_file = \"\"\n",
    "\n",
    "    for file in ckpt_files:\n",
    "        if file.endswith(\".ckpt\"):\n",
    "            iter_no = int(re.findall(\"\\d+\", file)[0])\n",
    "            if iter_no > max_iter:\n",
    "                max_iter = iter_no\n",
    "                max_file = file\n",
    "    return max_file, max_iter\n",
    "\n",
    "def main(data_dir, save_path, batch_size, n_workers, valid_steps, warmup_steps, total_steps, save_steps):\n",
    "  device = torch.device(\"cuda\" if torch.cuda.is_available() else \"cpu\")\n",
    "  print(f\"[Info]: Use {device} now!\")\n",
    "\n",
    "  train_loader, valid_loader, speaker_num = get_dataloader(data_dir, batch_size, n_workers)\n",
    "  train_iterator = iter(train_loader)\n",
    "  highest_model_name, start_step = find_highest_iter_file(\".\")\n",
    "  model = Classifier(n_spks=speaker_num).to(device)\n",
    "  \n",
    "  if highest_model_name:\n",
    "    model.load_state_dict(torch.load(highest_model_name))\n",
    "    print(f\"[Info]: Loaded pre-trained model: {highest_model_name}\")\n",
    "  \n",
    "  criterion = nn.CrossEntropyLoss()\n",
    "  optimizer = AdamW(model.parameters(), lr=1e-3)\n",
    "  scheduler = get_cosine_schedule_with_warmup(optimizer, warmup_steps, total_steps)\n",
    "\n",
    "  best_accuracy = -1.0\n",
    "  best_state_dict = None\n",
    "\n",
    "  pbar = tqdm(total=valid_steps, ncols=0, desc=\"Train\", unit=\"step\")\n",
    "\n",
    "  for step in range(start_step, total_steps):\n",
    "    try:\n",
    "      batch = next(train_iterator)\n",
    "    except StopIteration:\n",
    "      train_iterator = iter(train_loader)\n",
    "      batch = next(train_iterator)\n",
    "      \n",
    "    loss, accuracy = model_fn(batch, model, criterion, device)\n",
    "    batch_loss = loss.item()\n",
    "    batch_accuracy = accuracy.item()\n",
    "\n",
    "    loss.backward()\n",
    "    optimizer.step()\n",
    "    scheduler.step()\n",
    "    optimizer.zero_grad()\n",
    "\n",
    "    adj_step = step + 1\n",
    "\n",
    "    pbar.update()\n",
    "    pbar.set_postfix(\n",
    "      loss=f\"{batch_loss:.2f}\",\n",
    "      accuracy=f\"{batch_accuracy:.2f}\",\n",
    "      step=adj_step,\n",
    "    )\n",
    "\n",
    "    if (adj_step) % valid_steps == 0:\n",
    "      pbar.close()\n",
    "\n",
    "      valid_accuracy = valid(valid_loader, model, criterion, device)\n",
    "      print(f\"Checking validation accuracy. Validation accuracy {valid_accuracy}. Best accuracy {best_accuracy}.\")\n",
    "      if valid_accuracy > best_accuracy:\n",
    "        best_accuracy = valid_accuracy\n",
    "     \n",
    "      best_state_dict = model.state_dict()\n",
    "\n",
    "      pbar = tqdm(total=valid_steps, ncols=0, desc=\"Train\", unit=\"step\")\n",
    "\n",
    "    if (adj_step) % save_steps == 0 and best_state_dict is not None:\n",
    "      checkpoint_path = f\"model_{adj_step}_{valid_accuracy:.4f}.ckpt\"\n",
    "      torch.save(best_state_dict, checkpoint_path)\n",
    "      pbar.write(f\"Step {adj_step}, best model saved. (accuracy={best_accuracy:.4f})\")\n",
    "\n",
    "  pbar.close()\n",
    "\n",
    "if __name__ == \"__main__\":\n",
    "  main(**parse_args())"
   ]
  },
  {
   "cell_type": "markdown",
   "metadata": {
    "id": "pSuI3WY9Fz78"
   },
   "source": [
    "## Dataset of inference"
   ]
  },
  {
   "cell_type": "code",
   "execution_count": 2,
   "metadata": {
    "id": "4evns0055Dsx"
   },
   "outputs": [],
   "source": [
    "import os\n",
    "import json\n",
    "import torch\n",
    "from pathlib import Path\n",
    "from torch.utils.data import Dataset\n",
    "\n",
    "\n",
    "class InferenceDataset(Dataset):\n",
    "  def __init__(self, data_dir):\n",
    "    testdata_path = Path(data_dir) / \"testdata.json\"\n",
    "    metadata = json.load(testdata_path.open())\n",
    "    self.data_dir = data_dir\n",
    "    self.data = metadata[\"utterances\"]\n",
    "\n",
    "  def __len__(self):\n",
    "    return len(self.data)\n",
    "\n",
    "  def __getitem__(self, index):\n",
    "    utterance = self.data[index]\n",
    "    feat_path = utterance[\"feature_path\"]\n",
    "    mel = torch.load(os.path.join(self.data_dir, feat_path))\n",
    "\n",
    "    return feat_path, mel\n",
    "\n",
    "\n",
    "def inference_collate_batch(batch):\n",
    "  \"\"\"Collate a batch of data.\"\"\"\n",
    "  feat_paths, mels = zip(*batch)\n",
    "\n",
    "  return feat_paths, torch.stack(mels)\n"
   ]
  },
  {
   "cell_type": "markdown",
   "metadata": {
    "id": "oAinHBG1GIWv"
   },
   "source": [
    "## Main funcrion of Inference"
   ]
  },
  {
   "cell_type": "code",
   "execution_count": 3,
   "metadata": {
    "id": "yQaTt7VDHoRI"
   },
   "outputs": [
    {
     "name": "stdout",
     "output_type": "stream",
     "text": [
      "[Info]: Use cuda now!\n",
      "[Info]: Finish loading data!\n",
      "['./model_188000_0.8404.ckpt', './model_312000_0.8938.ckpt', './model_140000_0.8094.ckpt', './model_280000_0.8831.ckpt', './model_192000_0.8425.ckpt', './model_236000_0.8608.ckpt', './model_340000_0.8950.ckpt', './model_268000_0.8777.ckpt', './model_56000_0.7121.ckpt', './model_304000_0.8877.ckpt', './model_292000_0.8867.ckpt', './model_328000_0.8940.ckpt', './model_132000_0.8046.ckpt', './model_52000_0.6973.ckpt', './model_256000_0.8733.ckpt', './model_212000_0.8562.ckpt', './model_80000_0.7579.ckpt', './model_224000_0.8602.ckpt', './model_152000_0.8200.ckpt', './model_64000_0.7465.ckpt', './model_172000_0.8313.ckpt', './model_228000_0.8602.ckpt', './model_60000_0.7160.ckpt', './model_40000_0.6710.ckpt', './model_48000_0.6973.ckpt', './model_88000_0.7692.ckpt', './model_232000_0.8602.ckpt', './model_216000_0.8562.ckpt', './model_108000_0.7867.ckpt', './model_220000_0.8579.ckpt', './model_120000_0.7929.ckpt', './model_240000_0.8631.ckpt', './model_252000_0.8723.ckpt', './model_116000_0.7867.ckpt', './model_4000_0.1554.ckpt', './model_180000_0.8340.ckpt', './model_288000_0.8865.ckpt', './model_276000_0.8792.ckpt', './model_156000_0.8200.ckpt', './model_12000_0.4027.ckpt', './model_20000_0.5308.ckpt', './model_196000_0.8442.ckpt', './model_284000_0.8838.ckpt', './model_44000_0.6779.ckpt', './model_112000_0.7867.ckpt', './model_84000_0.7692.ckpt', './model_272000_0.8777.ckpt', './model_248000_0.8723.ckpt', './model_68000_0.7465.ckpt', './model_148000_0.8200.ckpt', './model_24000_0.5935.ckpt', './model_124000_0.7929.ckpt', './model_348000_0.9012.ckpt', './model_8000_0.3315.ckpt', './model_100000_0.7781.ckpt', './model_16000_0.4846.ckpt', './model_308000_0.8892.ckpt', './model_208000_0.8542.ckpt', './model_32000_0.6385.ckpt', './model_104000_0.7783.ckpt', './model_136000_0.8094.ckpt', './model_320000_0.8940.ckpt', './model_324000_0.8940.ckpt', './model_28000_0.6083.ckpt', './model_332000_0.8940.ckpt', './model_176000_0.8340.ckpt', './model_144000_0.8200.ckpt', './model_96000_0.7781.ckpt', './model_36000_0.6567.ckpt', './model_168000_0.8290.ckpt', './model_76000_0.7579.ckpt', './model_336000_0.8940.ckpt', './model_344000_0.8950.ckpt', './model_160000_0.8200.ckpt', './model_264000_0.8777.ckpt', './model_316000_0.8940.ckpt', './model_72000_0.7465.ckpt', './model_164000_0.8254.ckpt', './model_296000_0.8873.ckpt', './model_92000_0.7706.ckpt', './model_244000_0.8631.ckpt', './model_184000_0.8340.ckpt', './model_200000_0.8442.ckpt', './model_300000_0.8877.ckpt', './model_204000_0.8492.ckpt', './model_260000_0.8777.ckpt', './model_128000_0.7929.ckpt']\n",
      "Loading from file ./model_348000_0.9012.ckpt\n",
      "[Info]: Finish creating model!\n"
     ]
    },
    {
     "name": "stderr",
     "output_type": "stream",
     "text": [
      "100%|███████████████████████████████████████████████████████████████████████████████████| 6657/6657 [00:32<00:00, 205.44it/s]\n"
     ]
    }
   ],
   "source": [
    "import json\n",
    "import csv\n",
    "import glob\n",
    "from pathlib import Path\n",
    "from tqdm import tqdm\n",
    "\n",
    "import torch\n",
    "from torch.utils.data import DataLoader\n",
    "\n",
    "def parse_args():\n",
    "  \"\"\"arguments\"\"\"\n",
    "  config = {\n",
    "    \"data_dir\": \"../Dataset\",\n",
    "    \"model_path\": \"./model.ckpt\",\n",
    "    \"output_path\": \"./output.csv\",\n",
    "  }\n",
    "\n",
    "  return config\n",
    "\n",
    "\n",
    "def main(\n",
    "  data_dir,\n",
    "  model_path,\n",
    "  output_path,\n",
    "):\n",
    "  \"\"\"Main function.\"\"\"\n",
    "  device = torch.device(\"cuda\" if torch.cuda.is_available() else \"cpu\")\n",
    "  print(f\"[Info]: Use {device} now!\")\n",
    "\n",
    "  mapping_path = Path(data_dir) / \"mapping.json\"\n",
    "  mapping = json.load(mapping_path.open())\n",
    "\n",
    "  dataset = InferenceDataset(data_dir)\n",
    "  dataloader = DataLoader(\n",
    "    dataset,\n",
    "    batch_size=1,\n",
    "    shuffle=False,\n",
    "    drop_last=False,\n",
    "    num_workers=0,\n",
    "    collate_fn=inference_collate_batch,\n",
    "  )\n",
    "  print(f\"[Info]: Finish loading data!\",flush = True)\n",
    "\n",
    "  speaker_num = len(mapping[\"id2speaker\"])\n",
    "  model = Classifier(n_spks=speaker_num).to(device)\n",
    "  # new code to automatically find and load the best model\n",
    "  list_of_files = glob.glob(f\"./*.ckpt\")  # get list of all model files\n",
    "  print(list_of_files)\n",
    "  latest_file = max(list_of_files, key=lambda x: float(x.split('_')[2].split('.')[1]))  # get the best model file\n",
    "  print(f\"Loading from file {latest_file}\")\n",
    "  model.load_state_dict(torch.load(latest_file))\n",
    "  model.eval()\n",
    "  print(f\"[Info]: Finish creating model!\",flush = True)\n",
    "\n",
    "  results = [[\"Id\", \"Category\"]]\n",
    "  for feat_paths, mels in tqdm(dataloader):\n",
    "    with torch.no_grad():\n",
    "      mels = mels.to(device)\n",
    "      outs = model(mels)\n",
    "      preds = outs.argmax(1).cpu().numpy()\n",
    "      for feat_path, pred in zip(feat_paths, preds):\n",
    "        results.append([feat_path, mapping[\"id2speaker\"][str(pred)]])\n",
    "  \n",
    "  with open(output_path, 'w', newline='') as csvfile:\n",
    "    writer = csv.writer(csvfile)\n",
    "    writer.writerows(results)\n",
    "\n",
    "\n",
    "if __name__ == \"__main__\":\n",
    "  main(**parse_args())"
   ]
  }
 ],
 "metadata": {
  "accelerator": "GPU",
  "colab": {
   "collapsed_sections": [],
   "name": "HW04 (1).ipynb",
   "provenance": [],
   "toc_visible": true
  },
  "kernelspec": {
   "display_name": "Python 3 (ipykernel)",
   "language": "python",
   "name": "python3"
  },
  "language_info": {
   "codemirror_mode": {
    "name": "ipython",
    "version": 3
   },
   "file_extension": ".py",
   "mimetype": "text/x-python",
   "name": "python",
   "nbconvert_exporter": "python",
   "pygments_lexer": "ipython3",
   "version": "3.10.6"
  }
 },
 "nbformat": 4,
 "nbformat_minor": 4
}
