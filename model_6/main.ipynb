{
 "cells": [
  {
   "cell_type": "markdown",
   "metadata": {},
   "source": [
    "## Contributions"
   ]
  },
  {
   "cell_type": "code",
   "execution_count": 4,
   "metadata": {
    "id": "cd7hoGhYtbXQ"
   },
   "outputs": [
    {
     "name": "stderr",
     "output_type": "stream",
     "text": [
      "Train:  21% 412/2000 [01:09<04:27,  5.93step/s, accuracy=0.03, loss=6.31, step=412]\n"
     ]
    },
    {
     "name": "stdout",
     "output_type": "stream",
     "text": [
      "[Info]: Use cuda now!\n"
     ]
    },
    {
     "name": "stderr",
     "output_type": "stream",
     "text": [
      "Train:   7% 133/2000 [00:10<02:22, 13.06step/s, accuracy=0.00, loss=6.37, step=133]\n",
      "Train: 100% 2000/2000 [02:03<00:00, 16.15step/s, accuracy=0.06, loss=4.53, step=2000]A\n",
      "Valid: 100% 4832/4836 [00:10<00:00, 445.31 uttr/s, accuracy=0.11, loss=4.51]\n",
      "Train: 100% 2000/2000 [00:46<00:00, 42.57step/s, accuracy=0.19, loss=3.59, step=4000]\n",
      "Valid: 100% 4832/4836 [00:02<00:00, 1850.15 uttr/s, accuracy=0.23, loss=3.61]\n",
      "                                     \n",
      "Train:   0% 0/2000 [00:00<?, ?step/s]                                              \n",
      "Train:   0% 8/2000 [00:00<00:54, 36.76step/s, accuracy=0.16, loss=3.56, step=4008]]\u001b[A"
     ]
    },
    {
     "name": "stdout",
     "output_type": "stream",
     "text": [
      "Step 4000, best model saved. (accuracy=0.2326)\n"
     ]
    },
    {
     "name": "stderr",
     "output_type": "stream",
     "text": [
      "Train: 100% 2000/2000 [00:47<00:00, 42.36step/s, accuracy=0.25, loss=3.50, step=6000]\n",
      "Valid: 100% 4832/4836 [00:02<00:00, 1902.75 uttr/s, accuracy=0.29, loss=3.24]\n",
      "Train: 100% 2000/2000 [00:47<00:00, 42.29step/s, accuracy=0.25, loss=3.13, step=8000]\n",
      "Valid: 100% 4832/4836 [00:02<00:00, 1877.90 uttr/s, accuracy=0.36, loss=2.87]\n",
      "                                     \n",
      "Train:   0% 0/2000 [00:00<?, ?step/s]                                              \n",
      "Train:   0% 8/2000 [00:00<00:54, 36.25step/s, accuracy=0.25, loss=3.28, step=8008]]\u001b[A"
     ]
    },
    {
     "name": "stdout",
     "output_type": "stream",
     "text": [
      "Step 8000, best model saved. (accuracy=0.3613)\n"
     ]
    },
    {
     "name": "stderr",
     "output_type": "stream",
     "text": [
      "Train: 100% 2000/2000 [00:46<00:00, 42.63step/s, accuracy=0.38, loss=2.65, step=1e+4]\n",
      "Valid: 100% 4832/4836 [00:02<00:00, 1850.93 uttr/s, accuracy=0.41, loss=2.65]\n",
      "Train: 100% 2000/2000 [00:47<00:00, 42.50step/s, accuracy=0.50, loss=2.42, step=12000]\n",
      "Valid: 100% 4832/4836 [00:02<00:00, 1812.16 uttr/s, accuracy=0.41, loss=2.59]\n",
      "                                     \n",
      "Train:   0% 0/2000 [00:00<?, ?step/s]                                              \n",
      "Train:   0% 8/2000 [00:00<00:58, 34.10step/s, accuracy=0.38, loss=2.96, step=12008]\u001b[A"
     ]
    },
    {
     "name": "stdout",
     "output_type": "stream",
     "text": [
      "Step 12000, best model saved. (accuracy=0.4135)\n"
     ]
    },
    {
     "name": "stderr",
     "output_type": "stream",
     "text": [
      "Train: 100% 2000/2000 [00:47<00:00, 42.43step/s, accuracy=0.41, loss=2.86, step=14000]\n",
      "Valid: 100% 4832/4836 [00:02<00:00, 1839.63 uttr/s, accuracy=0.45, loss=2.42]\n",
      "Train: 100% 2000/2000 [00:47<00:00, 42.38step/s, accuracy=0.44, loss=2.61, step=16000]\n",
      "Valid: 100% 4832/4836 [00:02<00:00, 1924.07 uttr/s, accuracy=0.48, loss=2.32]\n",
      "                                     \n",
      "Train:   0% 0/2000 [00:00<?, ?step/s]                                              \n",
      "Train:   0% 8/2000 [00:00<00:52, 38.19step/s, accuracy=0.38, loss=2.53, step=16008]\u001b[A"
     ]
    },
    {
     "name": "stdout",
     "output_type": "stream",
     "text": [
      "Step 16000, best model saved. (accuracy=0.4764)\n"
     ]
    },
    {
     "name": "stderr",
     "output_type": "stream",
     "text": [
      "Train: 100% 2000/2000 [00:46<00:00, 42.63step/s, accuracy=0.38, loss=2.75, step=18000]\n",
      "Valid: 100% 4832/4836 [00:02<00:00, 1848.03 uttr/s, accuracy=0.48, loss=2.29]\n",
      "Train: 100% 2000/2000 [00:47<00:00, 42.36step/s, accuracy=0.59, loss=1.69, step=2e+4] \n",
      "Valid: 100% 4832/4836 [00:02<00:00, 1835.32 uttr/s, accuracy=0.49, loss=2.22]\n",
      "                                     \n",
      "Train:   0% 0/2000 [00:00<?, ?step/s]                                              \n",
      "Train:   0% 8/2000 [00:00<00:56, 35.44step/s, accuracy=0.66, loss=1.53, step=2e+4]]\u001b[A"
     ]
    },
    {
     "name": "stdout",
     "output_type": "stream",
     "text": [
      "Step 20000, best model saved. (accuracy=0.4880)\n"
     ]
    },
    {
     "name": "stderr",
     "output_type": "stream",
     "text": [
      "Train: 100% 2000/2000 [00:47<00:00, 42.20step/s, accuracy=0.53, loss=1.93, step=22000]\n",
      "Valid: 100% 4832/4836 [00:02<00:00, 1852.45 uttr/s, accuracy=0.50, loss=2.19]\n",
      "Train: 100% 2000/2000 [00:47<00:00, 42.44step/s, accuracy=0.62, loss=2.17, step=24000]\n",
      "Valid: 100% 4832/4836 [00:02<00:00, 1857.73 uttr/s, accuracy=0.51, loss=2.14]\n",
      "                                     \n",
      "Train:   0% 0/2000 [00:00<?, ?step/s]                                              \n",
      "Train:   0% 8/2000 [00:00<00:55, 36.11step/s, accuracy=0.41, loss=2.68, step=24008]\u001b[A"
     ]
    },
    {
     "name": "stdout",
     "output_type": "stream",
     "text": [
      "Step 24000, best model saved. (accuracy=0.5062)\n"
     ]
    },
    {
     "name": "stderr",
     "output_type": "stream",
     "text": [
      "Train: 100% 2000/2000 [00:47<00:00, 42.53step/s, accuracy=0.66, loss=1.79, step=26000]\n",
      "Valid: 100% 4832/4836 [00:02<00:00, 1797.75 uttr/s, accuracy=0.54, loss=2.02]\n",
      "Train: 100% 2000/2000 [00:47<00:00, 42.50step/s, accuracy=0.62, loss=1.35, step=28000]\n",
      "Valid: 100% 4832/4836 [00:02<00:00, 1815.60 uttr/s, accuracy=0.54, loss=1.98]\n",
      "                                     \n",
      "Train:   0% 0/2000 [00:00<?, ?step/s]                                              \n",
      "Train:   0% 8/2000 [00:00<01:00, 33.13step/s, accuracy=0.66, loss=1.50, step=28008]\u001b[A"
     ]
    },
    {
     "name": "stdout",
     "output_type": "stream",
     "text": [
      "Step 28000, best model saved. (accuracy=0.5422)\n"
     ]
    },
    {
     "name": "stderr",
     "output_type": "stream",
     "text": [
      "Train: 100% 2000/2000 [00:47<00:00, 42.25step/s, accuracy=0.56, loss=2.47, step=3e+4] \n",
      "Valid: 100% 4832/4836 [00:02<00:00, 1823.62 uttr/s, accuracy=0.52, loss=2.08]\n",
      "Train: 100% 2000/2000 [00:47<00:00, 42.39step/s, accuracy=0.50, loss=2.01, step=32000]\n",
      "Valid: 100% 4832/4836 [00:02<00:00, 1840.08 uttr/s, accuracy=0.57, loss=1.88]\n",
      "                                     \n",
      "Train:   0% 0/2000 [00:00<?, ?step/s]                                              \n",
      "Train:   0% 8/2000 [00:00<00:51, 38.37step/s, accuracy=0.62, loss=1.32, step=32008]\u001b[A"
     ]
    },
    {
     "name": "stdout",
     "output_type": "stream",
     "text": [
      "Step 32000, best model saved. (accuracy=0.5726)\n"
     ]
    },
    {
     "name": "stderr",
     "output_type": "stream",
     "text": [
      "Train: 100% 2000/2000 [00:47<00:00, 42.53step/s, accuracy=0.41, loss=2.27, step=34000]\n",
      "Valid: 100% 4832/4836 [00:02<00:00, 1893.61 uttr/s, accuracy=0.56, loss=1.93]\n",
      "Train: 100% 2000/2000 [00:46<00:00, 42.60step/s, accuracy=0.41, loss=2.61, step=36000]\n",
      "Valid: 100% 4832/4836 [00:02<00:00, 1885.59 uttr/s, accuracy=0.58, loss=1.87]\n",
      "                                     \n",
      "Train:   0% 0/2000 [00:00<?, ?step/s]                                              \n",
      "Train:   0% 8/2000 [00:00<00:57, 34.91step/s, accuracy=0.47, loss=2.47, step=36008]\u001b[A"
     ]
    },
    {
     "name": "stdout",
     "output_type": "stream",
     "text": [
      "Step 36000, best model saved. (accuracy=0.5757)\n"
     ]
    },
    {
     "name": "stderr",
     "output_type": "stream",
     "text": [
      "Train: 100% 2000/2000 [00:46<00:00, 42.59step/s, accuracy=0.69, loss=1.60, step=38000]\n",
      "Valid: 100% 4832/4836 [00:02<00:00, 1870.01 uttr/s, accuracy=0.58, loss=1.83]\n",
      "Train: 100% 2000/2000 [00:47<00:00, 42.55step/s, accuracy=0.53, loss=2.20, step=4e+4] \n",
      "Valid: 100% 4832/4836 [00:02<00:00, 1862.86 uttr/s, accuracy=0.58, loss=1.82]\n",
      "                                     \n",
      "Train:   0% 0/2000 [00:00<?, ?step/s]                                              \n",
      "Train:   0% 8/2000 [00:00<00:59, 33.68step/s, accuracy=0.47, loss=2.18, step=4e+4]]\u001b[A"
     ]
    },
    {
     "name": "stdout",
     "output_type": "stream",
     "text": [
      "Step 40000, best model saved. (accuracy=0.5830)\n"
     ]
    },
    {
     "name": "stderr",
     "output_type": "stream",
     "text": [
      "Train: 100% 2000/2000 [00:47<00:00, 42.51step/s, accuracy=0.53, loss=2.08, step=42000]\n",
      "Valid: 100% 4832/4836 [00:02<00:00, 1896.55 uttr/s, accuracy=0.60, loss=1.76]\n",
      "Train: 100% 2000/2000 [00:47<00:00, 42.28step/s, accuracy=0.34, loss=2.23, step=44000]\n",
      "Valid: 100% 4832/4836 [00:02<00:00, 1876.98 uttr/s, accuracy=0.61, loss=1.69]\n",
      "                                     \n",
      "Train:   0% 0/2000 [00:00<?, ?step/s]                                              \n",
      "Train:   0% 7/2000 [00:00<01:03, 31.33step/s, accuracy=0.62, loss=1.44, step=44007]\u001b[A"
     ]
    },
    {
     "name": "stdout",
     "output_type": "stream",
     "text": [
      "Step 44000, best model saved. (accuracy=0.6138)\n"
     ]
    },
    {
     "name": "stderr",
     "output_type": "stream",
     "text": [
      "Train: 100% 2000/2000 [00:47<00:00, 42.34step/s, accuracy=0.59, loss=1.67, step=46000]\n",
      "Valid: 100% 4832/4836 [00:02<00:00, 1793.79 uttr/s, accuracy=0.60, loss=1.79]\n",
      "Train: 100% 2000/2000 [00:47<00:00, 42.18step/s, accuracy=0.72, loss=1.08, step=48000]\n",
      "Valid: 100% 4832/4836 [00:02<00:00, 1834.36 uttr/s, accuracy=0.60, loss=1.73]\n",
      "                                     \n",
      "Train:   0% 0/2000 [00:00<?, ?step/s]                                              \n",
      "Train:   0% 8/2000 [00:00<00:59, 33.27step/s, accuracy=0.59, loss=1.77, step=48008]\u001b[A"
     ]
    },
    {
     "name": "stdout",
     "output_type": "stream",
     "text": [
      "Step 48000, best model saved. (accuracy=0.6138)\n"
     ]
    },
    {
     "name": "stderr",
     "output_type": "stream",
     "text": [
      "Train: 100% 2000/2000 [00:47<00:00, 42.48step/s, accuracy=0.56, loss=2.11, step=5e+4] \n",
      "Valid: 100% 4832/4836 [00:02<00:00, 1882.73 uttr/s, accuracy=0.60, loss=1.82]\n",
      "Train: 100% 2000/2000 [00:47<00:00, 42.42step/s, accuracy=0.59, loss=1.40, step=52000]\n",
      "Valid: 100% 4832/4836 [00:02<00:00, 1856.89 uttr/s, accuracy=0.62, loss=1.66]\n",
      "                                     \n",
      "Train:   0% 0/2000 [00:00<?, ?step/s]                                              \n",
      "Train:   0% 7/2000 [00:00<00:57, 34.44step/s, accuracy=0.75, loss=1.30, step=52007]\u001b[A"
     ]
    },
    {
     "name": "stdout",
     "output_type": "stream",
     "text": [
      "Step 52000, best model saved. (accuracy=0.6242)\n"
     ]
    },
    {
     "name": "stderr",
     "output_type": "stream",
     "text": [
      "Train: 100% 2000/2000 [00:47<00:00, 42.15step/s, accuracy=0.53, loss=1.87, step=54000]\n",
      "Valid: 100% 4832/4836 [00:02<00:00, 1824.53 uttr/s, accuracy=0.63, loss=1.61]\n",
      "Train: 100% 2000/2000 [00:47<00:00, 42.32step/s, accuracy=0.56, loss=2.38, step=56000]\n",
      "Valid: 100% 4832/4836 [00:02<00:00, 1852.99 uttr/s, accuracy=0.62, loss=1.63]\n",
      "                                     \n",
      "Train:   0% 0/2000 [00:00<?, ?step/s]                                              \n",
      "Train:   0% 8/2000 [00:00<00:56, 35.13step/s, accuracy=0.56, loss=1.49, step=56008]\u001b[A"
     ]
    },
    {
     "name": "stdout",
     "output_type": "stream",
     "text": [
      "Step 56000, best model saved. (accuracy=0.6320)\n"
     ]
    },
    {
     "name": "stderr",
     "output_type": "stream",
     "text": [
      "Train: 100% 2000/2000 [00:47<00:00, 42.13step/s, accuracy=0.47, loss=2.32, step=58000]\n",
      "Valid: 100% 4832/4836 [00:02<00:00, 1800.80 uttr/s, accuracy=0.61, loss=1.69]\n",
      "Train: 100% 2000/2000 [00:47<00:00, 42.36step/s, accuracy=0.81, loss=0.90, step=6e+4] \n",
      "Valid: 100% 4832/4836 [00:02<00:00, 1832.26 uttr/s, accuracy=0.64, loss=1.55]\n",
      "                                     \n",
      "Train:   0% 0/2000 [00:00<?, ?step/s]                                              \n",
      "Train:   0% 8/2000 [00:00<00:55, 36.01step/s, accuracy=0.69, loss=1.49, step=6e+4]]\u001b[A"
     ]
    },
    {
     "name": "stdout",
     "output_type": "stream",
     "text": [
      "Step 60000, best model saved. (accuracy=0.6440)\n"
     ]
    },
    {
     "name": "stderr",
     "output_type": "stream",
     "text": [
      "Train: 100% 2000/2000 [00:47<00:00, 42.28step/s, accuracy=0.75, loss=0.99, step=62000]\n",
      "Valid: 100% 4832/4836 [00:02<00:00, 1857.90 uttr/s, accuracy=0.63, loss=1.60]\n",
      "Train: 100% 2000/2000 [00:47<00:00, 42.38step/s, accuracy=0.69, loss=1.35, step=64000]\n",
      "Valid: 100% 4832/4836 [00:02<00:00, 1832.56 uttr/s, accuracy=0.65, loss=1.58]\n",
      "                                     \n",
      "Train:   0% 0/2000 [00:00<?, ?step/s]                                              \n",
      "Train:   0% 8/2000 [00:00<00:53, 36.90step/s, accuracy=0.66, loss=1.87, step=64008]\u001b[A"
     ]
    },
    {
     "name": "stdout",
     "output_type": "stream",
     "text": [
      "Step 64000, best model saved. (accuracy=0.6486)\n"
     ]
    },
    {
     "name": "stderr",
     "output_type": "stream",
     "text": [
      "Train: 100% 2000/2000 [00:47<00:00, 42.16step/s, accuracy=0.50, loss=1.81, step=66000]\n",
      "Valid: 100% 4832/4836 [00:02<00:00, 1901.73 uttr/s, accuracy=0.62, loss=1.70]\n",
      "Train: 100% 2000/2000 [00:47<00:00, 42.52step/s, accuracy=0.59, loss=1.42, step=68000]\n",
      "Valid: 100% 4832/4836 [00:02<00:00, 1885.39 uttr/s, accuracy=0.65, loss=1.55]\n",
      "                                     \n",
      "Train:   0% 0/2000 [00:00<?, ?step/s]                                              \n",
      "Train:   0% 8/2000 [00:00<00:54, 36.44step/s, accuracy=0.72, loss=0.87, step=68008]\u001b[A"
     ]
    },
    {
     "name": "stdout",
     "output_type": "stream",
     "text": [
      "Step 68000, best model saved. (accuracy=0.6531)\n"
     ]
    },
    {
     "name": "stderr",
     "output_type": "stream",
     "text": [
      "Train: 100% 2000/2000 [00:47<00:00, 42.40step/s, accuracy=0.59, loss=1.53, step=7e+4] \n",
      "Valid: 100% 4832/4836 [00:02<00:00, 1786.68 uttr/s, accuracy=0.66, loss=1.54]\n",
      "Train: 100% 2000/2000 [00:47<00:00, 41.99step/s, accuracy=0.66, loss=1.56, step=72000]\n",
      "Valid: 100% 4832/4836 [00:02<00:00, 1826.89 uttr/s, accuracy=0.66, loss=1.49]\n",
      "                                     \n",
      "Train:   0% 0/2000 [00:00<?, ?step/s]                                              \n",
      "Train:   0% 8/2000 [00:00<00:52, 38.02step/s, accuracy=0.69, loss=0.98, step=72008]\u001b[A"
     ]
    },
    {
     "name": "stdout",
     "output_type": "stream",
     "text": [
      "Step 72000, best model saved. (accuracy=0.6647)\n"
     ]
    },
    {
     "name": "stderr",
     "output_type": "stream",
     "text": [
      "Train: 100% 2000/2000 [00:47<00:00, 41.85step/s, accuracy=0.62, loss=1.55, step=74000]\n",
      "Valid: 100% 4832/4836 [00:02<00:00, 1801.56 uttr/s, accuracy=0.66, loss=1.51]\n",
      "Train: 100% 2000/2000 [00:47<00:00, 41.74step/s, accuracy=0.59, loss=1.79, step=76000]\n",
      "Valid: 100% 4832/4836 [00:02<00:00, 1807.93 uttr/s, accuracy=0.68, loss=1.45]\n",
      "                                     \n",
      "Train:   0% 0/2000 [00:00<?, ?step/s]                                              \n",
      "Train:   0% 8/2000 [00:00<00:54, 36.71step/s, accuracy=0.75, loss=0.96, step=76008]\u001b[A"
     ]
    },
    {
     "name": "stdout",
     "output_type": "stream",
     "text": [
      "Step 76000, best model saved. (accuracy=0.6753)\n"
     ]
    },
    {
     "name": "stderr",
     "output_type": "stream",
     "text": [
      "Train: 100% 2000/2000 [00:47<00:00, 42.25step/s, accuracy=0.62, loss=1.30, step=78000]\n",
      "Valid: 100% 4832/4836 [00:02<00:00, 1859.49 uttr/s, accuracy=0.65, loss=1.56]\n",
      "Train: 100% 2000/2000 [00:47<00:00, 42.33step/s, accuracy=0.69, loss=1.38, step=8e+4] \n",
      "Valid: 100% 4832/4836 [00:02<00:00, 1828.32 uttr/s, accuracy=0.66, loss=1.46]\n",
      "                                     \n",
      "Train:   0% 0/2000 [00:00<?, ?step/s]                                              \n",
      "Train:   0% 8/2000 [00:00<00:55, 35.85step/s, accuracy=0.78, loss=1.36, step=8e+4]]\u001b[A"
     ]
    },
    {
     "name": "stdout",
     "output_type": "stream",
     "text": [
      "Step 80000, best model saved. (accuracy=0.6753)\n"
     ]
    },
    {
     "name": "stderr",
     "output_type": "stream",
     "text": [
      "Train: 100% 2000/2000 [00:47<00:00, 42.50step/s, accuracy=0.69, loss=1.55, step=82000]\n",
      "Valid: 100% 4832/4836 [00:02<00:00, 1818.52 uttr/s, accuracy=0.66, loss=1.51]\n",
      "Train: 100% 2000/2000 [00:46<00:00, 42.68step/s, accuracy=0.75, loss=1.24, step=84000]\n",
      "Valid: 100% 4832/4836 [00:02<00:00, 1849.27 uttr/s, accuracy=0.67, loss=1.48]\n",
      "                                     \n",
      "Train:   0% 0/2000 [00:00<?, ?step/s]                                              \n",
      "Train:   0% 8/2000 [00:00<00:57, 34.82step/s, accuracy=0.66, loss=1.29, step=84008]\u001b[A"
     ]
    },
    {
     "name": "stdout",
     "output_type": "stream",
     "text": [
      "Step 84000, best model saved. (accuracy=0.6753)\n"
     ]
    },
    {
     "name": "stderr",
     "output_type": "stream",
     "text": [
      "Train: 100% 2000/2000 [00:46<00:00, 42.76step/s, accuracy=0.62, loss=1.55, step=86000]\n",
      "Valid: 100% 4832/4836 [00:02<00:00, 1902.72 uttr/s, accuracy=0.67, loss=1.43]\n",
      "Train: 100% 2000/2000 [00:46<00:00, 43.42step/s, accuracy=0.69, loss=1.18, step=88000]\n",
      "Valid: 100% 4832/4836 [00:02<00:00, 1897.87 uttr/s, accuracy=0.67, loss=1.46]\n",
      "                                     \n",
      "Train:   0% 0/2000 [00:00<?, ?step/s]                                              \n",
      "Train:   0% 8/2000 [00:00<00:55, 35.73step/s, accuracy=0.72, loss=1.21, step=88008]\u001b[A"
     ]
    },
    {
     "name": "stdout",
     "output_type": "stream",
     "text": [
      "Step 88000, best model saved. (accuracy=0.6753)\n"
     ]
    },
    {
     "name": "stderr",
     "output_type": "stream",
     "text": [
      "Train: 100% 2000/2000 [00:46<00:00, 43.26step/s, accuracy=0.78, loss=0.86, step=9e+4] \n",
      "Valid: 100% 4832/4836 [00:02<00:00, 1869.50 uttr/s, accuracy=0.68, loss=1.41]\n",
      "Train: 100% 2000/2000 [00:46<00:00, 42.91step/s, accuracy=0.66, loss=1.72, step=92000]\n",
      "Valid: 100% 4832/4836 [00:02<00:00, 1846.34 uttr/s, accuracy=0.69, loss=1.40]\n",
      "                                     \n",
      "Train:   0% 0/2000 [00:00<?, ?step/s]                                              \n",
      "Train:   0% 8/2000 [00:00<00:51, 38.90step/s, accuracy=0.78, loss=0.94, step=92008]\u001b[A"
     ]
    },
    {
     "name": "stdout",
     "output_type": "stream",
     "text": [
      "Step 92000, best model saved. (accuracy=0.6908)\n"
     ]
    },
    {
     "name": "stderr",
     "output_type": "stream",
     "text": [
      "Train: 100% 2000/2000 [00:46<00:00, 43.09step/s, accuracy=0.75, loss=1.17, step=94000]\n",
      "Valid: 100% 4832/4836 [00:02<00:00, 1862.26 uttr/s, accuracy=0.69, loss=1.42]\n",
      "Train: 100% 2000/2000 [00:46<00:00, 43.04step/s, accuracy=0.69, loss=1.00, step=96000]\n",
      "Valid: 100% 4832/4836 [00:02<00:00, 1913.61 uttr/s, accuracy=0.68, loss=1.40]\n",
      "                                     \n",
      "Train:   0% 0/2000 [00:00<?, ?step/s]                                              \n",
      "Train:   0% 8/2000 [00:00<00:55, 36.16step/s, accuracy=0.75, loss=1.00, step=96008]\u001b[A"
     ]
    },
    {
     "name": "stdout",
     "output_type": "stream",
     "text": [
      "Step 96000, best model saved. (accuracy=0.6908)\n"
     ]
    },
    {
     "name": "stderr",
     "output_type": "stream",
     "text": [
      "Train: 100% 2000/2000 [00:46<00:00, 42.97step/s, accuracy=0.78, loss=1.50, step=98000]\n",
      "Valid: 100% 4832/4836 [00:02<00:00, 1910.82 uttr/s, accuracy=0.69, loss=1.40]\n",
      "Train: 100% 2000/2000 [00:46<00:00, 42.96step/s, accuracy=0.53, loss=1.63, step=1e+5] \n",
      "Valid: 100% 4832/4836 [00:02<00:00, 1878.67 uttr/s, accuracy=0.69, loss=1.39]\n",
      "                                     \n",
      "Train:   0% 0/2000 [00:00<?, ?step/s]                                              \n",
      "Train:   0% 7/2000 [00:00<01:12, 27.54step/s, accuracy=0.66, loss=1.47, step=1e+5]]\u001b[A"
     ]
    },
    {
     "name": "stdout",
     "output_type": "stream",
     "text": [
      "Step 100000, best model saved. (accuracy=0.6908)\n"
     ]
    },
    {
     "name": "stderr",
     "output_type": "stream",
     "text": [
      "Train: 100% 2000/2000 [00:46<00:00, 43.32step/s, accuracy=0.66, loss=1.40, step=102000]\n",
      "Valid: 100% 4832/4836 [00:02<00:00, 1859.46 uttr/s, accuracy=0.69, loss=1.38]\n",
      "Train: 100% 2000/2000 [00:46<00:00, 43.30step/s, accuracy=0.66, loss=1.24, step=104000]\n",
      "Valid: 100% 4832/4836 [00:02<00:00, 1853.41 uttr/s, accuracy=0.69, loss=1.41]\n",
      "                                     \n",
      "Train:   0% 0/2000 [00:00<?, ?step/s]                                              \n",
      "Train:   0% 8/2000 [00:00<00:59, 33.24step/s, accuracy=0.72, loss=1.22, step=104008][A"
     ]
    },
    {
     "name": "stdout",
     "output_type": "stream",
     "text": [
      "Step 104000, best model saved. (accuracy=0.6945)\n"
     ]
    },
    {
     "name": "stderr",
     "output_type": "stream",
     "text": [
      "Train: 100% 2000/2000 [00:46<00:00, 43.12step/s, accuracy=0.53, loss=1.77, step=106000]\n",
      "Valid: 100% 4832/4836 [00:02<00:00, 1876.62 uttr/s, accuracy=0.70, loss=1.30]\n",
      "Train: 100% 2000/2000 [00:45<00:00, 43.96step/s, accuracy=0.78, loss=1.07, step=108000]\n",
      "Valid: 100% 4832/4836 [00:02<00:00, 1907.38 uttr/s, accuracy=0.68, loss=1.42]\n",
      "                                     \n",
      "Train:   0% 0/2000 [00:00<?, ?step/s]                                              \n",
      "Train:   0% 8/2000 [00:00<00:52, 38.12step/s, accuracy=0.78, loss=1.14, step=108008][A"
     ]
    },
    {
     "name": "stdout",
     "output_type": "stream",
     "text": [
      "Step 108000, best model saved. (accuracy=0.7014)\n"
     ]
    },
    {
     "name": "stderr",
     "output_type": "stream",
     "text": [
      "Train: 100% 2000/2000 [00:45<00:00, 43.75step/s, accuracy=0.84, loss=0.60, step=110000]\n",
      "Valid: 100% 4832/4836 [00:02<00:00, 1890.16 uttr/s, accuracy=0.70, loss=1.32]\n",
      "Train: 100% 2000/2000 [00:46<00:00, 43.40step/s, accuracy=0.69, loss=1.36, step=112000]\n",
      "Valid: 100% 4832/4836 [00:02<00:00, 1886.38 uttr/s, accuracy=0.69, loss=1.41]\n",
      "                                     \n",
      "Train:   0% 0/2000 [00:00<?, ?step/s]                                              \n",
      "Train:   0% 8/2000 [00:00<00:52, 38.23step/s, accuracy=0.75, loss=1.02, step=112008][A"
     ]
    },
    {
     "name": "stdout",
     "output_type": "stream",
     "text": [
      "Step 112000, best model saved. (accuracy=0.7018)\n"
     ]
    },
    {
     "name": "stderr",
     "output_type": "stream",
     "text": [
      "Train: 100% 2000/2000 [00:46<00:00, 43.16step/s, accuracy=0.81, loss=0.88, step=114000]\n",
      "Valid: 100% 4832/4836 [00:02<00:00, 1922.24 uttr/s, accuracy=0.71, loss=1.30]\n",
      "Train: 100% 2000/2000 [00:46<00:00, 43.21step/s, accuracy=0.81, loss=0.53, step=116000]\n",
      "Valid: 100% 4832/4836 [00:02<00:00, 1918.90 uttr/s, accuracy=0.70, loss=1.39]\n",
      "                                     \n",
      "Train:   0% 0/2000 [00:00<?, ?step/s]                                              \n",
      "Train:   0% 8/2000 [00:00<00:56, 35.19step/s, accuracy=0.75, loss=1.07, step=116008][A"
     ]
    },
    {
     "name": "stdout",
     "output_type": "stream",
     "text": [
      "Step 116000, best model saved. (accuracy=0.7061)\n"
     ]
    },
    {
     "name": "stderr",
     "output_type": "stream",
     "text": [
      "Train: 100% 2000/2000 [00:46<00:00, 43.34step/s, accuracy=0.66, loss=1.26, step=118000]\n",
      "Valid: 100% 4832/4836 [00:02<00:00, 1900.13 uttr/s, accuracy=0.71, loss=1.30]\n",
      "Train: 100% 2000/2000 [00:46<00:00, 43.29step/s, accuracy=0.78, loss=1.05, step=120000]\n",
      "Valid: 100% 4832/4836 [00:02<00:00, 1888.71 uttr/s, accuracy=0.71, loss=1.28]\n",
      "                                     \n",
      "Train:   0% 0/2000 [00:00<?, ?step/s]                                              \n",
      "Train:   0% 8/2000 [00:00<01:00, 32.86step/s, accuracy=0.72, loss=1.20, step=120008][A"
     ]
    },
    {
     "name": "stdout",
     "output_type": "stream",
     "text": [
      "Step 120000, best model saved. (accuracy=0.7134)\n"
     ]
    },
    {
     "name": "stderr",
     "output_type": "stream",
     "text": [
      "Train: 100% 2000/2000 [00:46<00:00, 42.90step/s, accuracy=0.84, loss=0.53, step=122000]\n",
      "Valid: 100% 4832/4836 [00:02<00:00, 1860.66 uttr/s, accuracy=0.72, loss=1.29]\n",
      "Train: 100% 2000/2000 [00:46<00:00, 42.85step/s, accuracy=0.84, loss=0.46, step=124000]\n",
      "Valid: 100% 4832/4836 [00:02<00:00, 1866.82 uttr/s, accuracy=0.70, loss=1.40]\n",
      "                                     \n",
      "Train:   0% 0/2000 [00:00<?, ?step/s]                                              \n",
      "Train:   0% 8/2000 [00:00<00:59, 33.34step/s, accuracy=0.78, loss=0.87, step=124008][A"
     ]
    },
    {
     "name": "stdout",
     "output_type": "stream",
     "text": [
      "Step 124000, best model saved. (accuracy=0.7159)\n"
     ]
    },
    {
     "name": "stderr",
     "output_type": "stream",
     "text": [
      "Train: 100% 2000/2000 [00:46<00:00, 43.11step/s, accuracy=0.81, loss=1.02, step=126000]\n",
      "Valid: 100% 4832/4836 [00:02<00:00, 1903.91 uttr/s, accuracy=0.73, loss=1.25]\n",
      "Train: 100% 2000/2000 [00:46<00:00, 43.10step/s, accuracy=0.69, loss=1.03, step=128000]\n",
      "Valid: 100% 4832/4836 [00:02<00:00, 1846.27 uttr/s, accuracy=0.71, loss=1.37]\n",
      "                                     \n",
      "Train:   0% 0/2000 [00:00<?, ?step/s]                                              \n",
      "Train:   0% 8/2000 [00:00<00:59, 33.20step/s, accuracy=0.88, loss=0.63, step=128008][A"
     ]
    },
    {
     "name": "stdout",
     "output_type": "stream",
     "text": [
      "Step 128000, best model saved. (accuracy=0.7264)\n"
     ]
    },
    {
     "name": "stderr",
     "output_type": "stream",
     "text": [
      "Train: 100% 2000/2000 [00:46<00:00, 43.18step/s, accuracy=0.62, loss=1.44, step=130000]\n",
      "Valid: 100% 4832/4836 [00:02<00:00, 1874.22 uttr/s, accuracy=0.72, loss=1.28]\n",
      "Train: 100% 2000/2000 [00:46<00:00, 42.76step/s, accuracy=0.69, loss=1.10, step=132000]\n",
      "Valid: 100% 4832/4836 [00:02<00:00, 1811.05 uttr/s, accuracy=0.72, loss=1.28]\n",
      "                                     \n",
      "Train:   0% 0/2000 [00:00<?, ?step/s]                                              \n",
      "Train:   0% 9/2000 [00:00<00:47, 41.96step/s, accuracy=0.81, loss=0.74, step=132009][A"
     ]
    },
    {
     "name": "stdout",
     "output_type": "stream",
     "text": [
      "Step 132000, best model saved. (accuracy=0.7264)\n"
     ]
    },
    {
     "name": "stderr",
     "output_type": "stream",
     "text": [
      "Train: 100% 2000/2000 [00:46<00:00, 42.87step/s, accuracy=0.88, loss=0.61, step=134000]\n",
      "Valid: 100% 4832/4836 [00:02<00:00, 1855.60 uttr/s, accuracy=0.70, loss=1.35]\n",
      "Train: 100% 2000/2000 [00:46<00:00, 42.71step/s, accuracy=0.81, loss=0.72, step=136000]\n",
      "Valid: 100% 4832/4836 [00:02<00:00, 1852.67 uttr/s, accuracy=0.72, loss=1.25]\n",
      "                                     \n",
      "Train:   0% 0/2000 [00:00<?, ?step/s]                                              \n",
      "Train:   0% 8/2000 [00:00<00:55, 35.83step/s, accuracy=0.84, loss=0.88, step=136008][A"
     ]
    },
    {
     "name": "stdout",
     "output_type": "stream",
     "text": [
      "Step 136000, best model saved. (accuracy=0.7264)\n"
     ]
    },
    {
     "name": "stderr",
     "output_type": "stream",
     "text": [
      "Train: 100% 2000/2000 [00:46<00:00, 42.67step/s, accuracy=0.66, loss=1.64, step=138000]\n",
      "Valid: 100% 4832/4836 [00:02<00:00, 1863.55 uttr/s, accuracy=0.72, loss=1.28]\n",
      "Train: 100% 2000/2000 [00:46<00:00, 42.74step/s, accuracy=0.75, loss=1.12, step=140000]\n",
      "Valid: 100% 4832/4836 [00:02<00:00, 1818.70 uttr/s, accuracy=0.73, loss=1.23]\n",
      "                                     \n",
      "Train:   0% 0/2000 [00:00<?, ?step/s]                                              \n",
      "Train:   0% 6/2000 [00:00<01:08, 28.98step/s, accuracy=0.84, loss=0.60, step=140006][A"
     ]
    },
    {
     "name": "stdout",
     "output_type": "stream",
     "text": [
      "Step 140000, best model saved. (accuracy=0.7320)\n"
     ]
    },
    {
     "name": "stderr",
     "output_type": "stream",
     "text": [
      "Train: 100% 2000/2000 [00:49<00:00, 40.43step/s, accuracy=0.72, loss=0.90, step=142000]\n",
      "Valid: 100% 4832/4836 [00:02<00:00, 1631.82 uttr/s, accuracy=0.73, loss=1.27]\n",
      "Train: 100% 2000/2000 [00:50<00:00, 39.80step/s, accuracy=0.75, loss=1.35, step=144000]\n",
      "Valid: 100% 4832/4836 [00:02<00:00, 1798.87 uttr/s, accuracy=0.74, loss=1.18]\n",
      "                                     \n",
      "Train:   0% 0/2000 [00:00<?, ?step/s]                                              \n",
      "Train:   0% 7/2000 [00:00<01:15, 26.34step/s, accuracy=0.78, loss=0.91, step=144007]]\u001b[A"
     ]
    },
    {
     "name": "stdout",
     "output_type": "stream",
     "text": [
      "Step 144000, best model saved. (accuracy=0.7363)\n"
     ]
    },
    {
     "name": "stderr",
     "output_type": "stream",
     "text": [
      "Train: 100% 2000/2000 [00:50<00:00, 39.79step/s, accuracy=0.78, loss=0.83, step=146000]\n",
      "Valid: 100% 4832/4836 [00:02<00:00, 1843.13 uttr/s, accuracy=0.72, loss=1.27]\n",
      "Train: 100% 2000/2000 [00:49<00:00, 40.76step/s, accuracy=0.78, loss=0.88, step=148000]\n",
      "Valid: 100% 4832/4836 [00:03<00:00, 1318.45 uttr/s, accuracy=0.74, loss=1.23]\n",
      "                                     \n",
      "Train:   0% 0/2000 [00:00<?, ?step/s]                                                \n",
      "Train:   0% 8/2000 [00:00<00:53, 37.45step/s, accuracy=0.75, loss=0.98, step=148008]]\u001b[A"
     ]
    },
    {
     "name": "stdout",
     "output_type": "stream",
     "text": [
      "Step 148000, best model saved. (accuracy=0.7363)\n"
     ]
    },
    {
     "name": "stderr",
     "output_type": "stream",
     "text": [
      "Train: 100% 2000/2000 [00:46<00:00, 43.00step/s, accuracy=0.84, loss=0.81, step=150000]\n",
      "Valid: 100% 4832/4836 [00:02<00:00, 1865.46 uttr/s, accuracy=0.74, loss=1.19]\n",
      "Train: 100% 2000/2000 [00:46<00:00, 43.23step/s, accuracy=0.78, loss=0.92, step=152000]\n",
      "Valid: 100% 4832/4836 [00:02<00:00, 1858.14 uttr/s, accuracy=0.75, loss=1.18]\n",
      "                                     \n",
      "Train:   0% 0/2000 [00:00<?, ?step/s]                                                \n",
      "Train:   0% 8/2000 [00:00<00:52, 38.27step/s, accuracy=0.84, loss=0.49, step=152008]]\u001b[A"
     ]
    },
    {
     "name": "stdout",
     "output_type": "stream",
     "text": [
      "Step 152000, best model saved. (accuracy=0.7450)\n"
     ]
    },
    {
     "name": "stderr",
     "output_type": "stream",
     "text": [
      "Train: 100% 2000/2000 [00:46<00:00, 43.23step/s, accuracy=0.72, loss=1.17, step=154000]\n",
      "Valid: 100% 4832/4836 [00:02<00:00, 1895.02 uttr/s, accuracy=0.74, loss=1.23]\n",
      "Train: 100% 2000/2000 [00:46<00:00, 42.99step/s, accuracy=0.72, loss=1.51, step=156000]\n",
      "Valid: 100% 4832/4836 [00:02<00:00, 1905.91 uttr/s, accuracy=0.75, loss=1.15]\n",
      "                                     \n",
      "Train:   0% 0/2000 [00:00<?, ?step/s]                                                \n",
      "Train:   0% 8/2000 [00:00<00:59, 33.47step/s, accuracy=0.75, loss=1.64, step=156008]]\u001b[A"
     ]
    },
    {
     "name": "stdout",
     "output_type": "stream",
     "text": [
      "Step 156000, best model saved. (accuracy=0.7473)\n"
     ]
    },
    {
     "name": "stderr",
     "output_type": "stream",
     "text": [
      "Train: 100% 2000/2000 [00:46<00:00, 42.94step/s, accuracy=0.88, loss=0.59, step=158000]\n",
      "Valid: 100% 4832/4836 [00:02<00:00, 1779.13 uttr/s, accuracy=0.74, loss=1.18]\n",
      "Train: 100% 2000/2000 [00:46<00:00, 42.96step/s, accuracy=0.94, loss=0.35, step=160000]\n",
      "Valid: 100% 4832/4836 [00:02<00:00, 1833.14 uttr/s, accuracy=0.74, loss=1.22]\n",
      "                                     \n",
      "Train:   0% 0/2000 [00:00<?, ?step/s]                                                \n",
      "Train:   0% 8/2000 [00:00<00:53, 37.52step/s, accuracy=0.75, loss=0.92, step=160008]]\u001b[A"
     ]
    },
    {
     "name": "stdout",
     "output_type": "stream",
     "text": [
      "Step 160000, best model saved. (accuracy=0.7473)\n"
     ]
    },
    {
     "name": "stderr",
     "output_type": "stream",
     "text": [
      "Train: 100% 2000/2000 [00:46<00:00, 43.19step/s, accuracy=0.81, loss=0.72, step=162000]\n",
      "Valid: 100% 4832/4836 [00:02<00:00, 1850.95 uttr/s, accuracy=0.75, loss=1.14]\n",
      "Train: 100% 2000/2000 [00:46<00:00, 42.97step/s, accuracy=0.88, loss=0.59, step=164000]\n",
      "Valid: 100% 4832/4836 [00:02<00:00, 1901.67 uttr/s, accuracy=0.74, loss=1.23]\n",
      "                                     \n",
      "Train:   0% 0/2000 [00:00<?, ?step/s]                                                \n",
      "Train:   0% 8/2000 [00:00<01:00, 33.01step/s, accuracy=0.84, loss=0.72, step=164008]]\u001b[A"
     ]
    },
    {
     "name": "stdout",
     "output_type": "stream",
     "text": [
      "Step 164000, best model saved. (accuracy=0.7523)\n"
     ]
    },
    {
     "name": "stderr",
     "output_type": "stream",
     "text": [
      "Train: 100% 2000/2000 [00:46<00:00, 43.17step/s, accuracy=0.91, loss=0.34, step=166000]\n",
      "Valid: 100% 4832/4836 [00:02<00:00, 1898.51 uttr/s, accuracy=0.76, loss=1.13]\n",
      "Train: 100% 2000/2000 [00:46<00:00, 43.01step/s, accuracy=0.84, loss=0.76, step=168000]\n",
      "Valid: 100% 4832/4836 [00:02<00:00, 1880.01 uttr/s, accuracy=0.76, loss=1.15]\n",
      "                                     \n",
      "Train:   0% 0/2000 [00:00<?, ?step/s]                                                \n",
      "Train:   0% 8/2000 [00:00<01:00, 33.16step/s, accuracy=0.88, loss=0.49, step=168008]]\u001b[A"
     ]
    },
    {
     "name": "stdout",
     "output_type": "stream",
     "text": [
      "Step 168000, best model saved. (accuracy=0.7566)\n"
     ]
    },
    {
     "name": "stderr",
     "output_type": "stream",
     "text": [
      "Train: 100% 2000/2000 [00:46<00:00, 43.21step/s, accuracy=0.72, loss=0.97, step=170000]\n",
      "Valid: 100% 4832/4836 [00:02<00:00, 1863.55 uttr/s, accuracy=0.75, loss=1.17]\n",
      "Train: 100% 2000/2000 [00:46<00:00, 42.99step/s, accuracy=0.78, loss=0.69, step=172000]\n",
      "Valid: 100% 4832/4836 [00:02<00:00, 1890.63 uttr/s, accuracy=0.75, loss=1.19]\n",
      "                                     \n",
      "Train:   0% 0/2000 [00:00<?, ?step/s]                                                \n",
      "Train:   0% 9/2000 [00:00<00:49, 40.59step/s, accuracy=0.78, loss=0.72, step=172009]]\u001b[A"
     ]
    },
    {
     "name": "stdout",
     "output_type": "stream",
     "text": [
      "Step 172000, best model saved. (accuracy=0.7566)\n"
     ]
    },
    {
     "name": "stderr",
     "output_type": "stream",
     "text": [
      "Train: 100% 2000/2000 [00:46<00:00, 43.47step/s, accuracy=0.72, loss=1.15, step=174000]\n",
      "Valid: 100% 4832/4836 [00:02<00:00, 1922.66 uttr/s, accuracy=0.76, loss=1.12]\n",
      "Train: 100% 2000/2000 [00:46<00:00, 43.18step/s, accuracy=0.78, loss=0.98, step=176000]\n",
      "Valid: 100% 4832/4836 [00:02<00:00, 1906.93 uttr/s, accuracy=0.74, loss=1.19]\n",
      "                                     \n",
      "Train:   0% 0/2000 [00:00<?, ?step/s]                                                \n",
      "Train:   0% 8/2000 [00:00<00:54, 36.23step/s, accuracy=0.75, loss=1.04, step=176008]]\u001b[A"
     ]
    },
    {
     "name": "stdout",
     "output_type": "stream",
     "text": [
      "Step 176000, best model saved. (accuracy=0.7645)\n"
     ]
    },
    {
     "name": "stderr",
     "output_type": "stream",
     "text": [
      "Train: 100% 2000/2000 [00:46<00:00, 42.65step/s, accuracy=0.75, loss=0.76, step=178000]\n",
      "Valid: 100% 4832/4836 [00:02<00:00, 1951.89 uttr/s, accuracy=0.76, loss=1.13]\n",
      "Train: 100% 2000/2000 [00:47<00:00, 42.25step/s, accuracy=0.84, loss=0.46, step=180000]\n",
      "Valid: 100% 4832/4836 [00:02<00:00, 1864.20 uttr/s, accuracy=0.76, loss=1.16]\n",
      "                                     \n",
      "Train:   0% 0/2000 [00:00<?, ?step/s]                                                \n",
      "Train:   0% 7/2000 [00:00<01:10, 28.42step/s, accuracy=0.94, loss=0.23, step=180007]]\u001b[A"
     ]
    },
    {
     "name": "stdout",
     "output_type": "stream",
     "text": [
      "Step 180000, best model saved. (accuracy=0.7645)\n"
     ]
    },
    {
     "name": "stderr",
     "output_type": "stream",
     "text": [
      "Train: 100% 2000/2000 [00:47<00:00, 42.53step/s, accuracy=0.66, loss=1.20, step=182000]\n",
      "Valid: 100% 4832/4836 [00:02<00:00, 1804.68 uttr/s, accuracy=0.76, loss=1.14]\n",
      "Train: 100% 2000/2000 [00:47<00:00, 42.45step/s, accuracy=0.88, loss=0.52, step=184000]\n",
      "Valid: 100% 4832/4836 [00:02<00:00, 1845.67 uttr/s, accuracy=0.76, loss=1.16]\n",
      "                                     \n",
      "Train:   0% 0/2000 [00:00<?, ?step/s]                                                \n",
      "Train:   0% 8/2000 [00:00<00:57, 34.72step/s, accuracy=0.72, loss=0.95, step=184008]]\u001b[A"
     ]
    },
    {
     "name": "stdout",
     "output_type": "stream",
     "text": [
      "Step 184000, best model saved. (accuracy=0.7645)\n"
     ]
    },
    {
     "name": "stderr",
     "output_type": "stream",
     "text": [
      "Train: 100% 2000/2000 [00:47<00:00, 42.40step/s, accuracy=0.88, loss=0.46, step=186000]\n",
      "Valid: 100% 4832/4836 [00:02<00:00, 1866.42 uttr/s, accuracy=0.76, loss=1.14]\n",
      "Train: 100% 2000/2000 [00:47<00:00, 42.03step/s, accuracy=0.81, loss=0.87, step=188000]\n",
      "Valid: 100% 4832/4836 [00:02<00:00, 1818.62 uttr/s, accuracy=0.76, loss=1.12]\n",
      "                                     \n",
      "Train:   0% 0/2000 [00:00<?, ?step/s]                                                \n",
      "Train:   0% 8/2000 [00:00<00:59, 33.38step/s, accuracy=0.78, loss=0.58, step=188008]]\u001b[A"
     ]
    },
    {
     "name": "stdout",
     "output_type": "stream",
     "text": [
      "Step 188000, best model saved. (accuracy=0.7645)\n"
     ]
    },
    {
     "name": "stderr",
     "output_type": "stream",
     "text": [
      "Train: 100% 2000/2000 [00:47<00:00, 42.31step/s, accuracy=0.88, loss=0.67, step=190000]\n",
      "Valid: 100% 4832/4836 [00:02<00:00, 1897.78 uttr/s, accuracy=0.77, loss=1.11]\n",
      "Train: 100% 2000/2000 [00:46<00:00, 42.61step/s, accuracy=0.88, loss=0.51, step=192000]\n",
      "Valid: 100% 4832/4836 [00:02<00:00, 1864.30 uttr/s, accuracy=0.77, loss=1.09]\n",
      "                                     \n",
      "Train:   0% 0/2000 [00:00<?, ?step/s]                                                \n",
      "Train:   0% 7/2000 [00:00<01:00, 32.85step/s, accuracy=0.84, loss=0.46, step=192007]]\u001b[A"
     ]
    },
    {
     "name": "stdout",
     "output_type": "stream",
     "text": [
      "Step 192000, best model saved. (accuracy=0.7695)\n"
     ]
    },
    {
     "name": "stderr",
     "output_type": "stream",
     "text": [
      "Train: 100% 2000/2000 [00:46<00:00, 42.77step/s, accuracy=0.91, loss=0.48, step=194000]\n",
      "Valid: 100% 4832/4836 [00:02<00:00, 1830.42 uttr/s, accuracy=0.77, loss=1.06]\n",
      "Train: 100% 2000/2000 [00:47<00:00, 42.30step/s, accuracy=0.72, loss=0.86, step=196000]\n",
      "Valid: 100% 4832/4836 [00:02<00:00, 1833.83 uttr/s, accuracy=0.76, loss=1.15]\n",
      "                                     \n",
      "Train:   0% 0/2000 [00:00<?, ?step/s]                                                \n",
      "Train:   0% 8/2000 [00:00<00:57, 34.52step/s, accuracy=0.88, loss=0.59, step=196008]]\u001b[A"
     ]
    },
    {
     "name": "stdout",
     "output_type": "stream",
     "text": [
      "Step 196000, best model saved. (accuracy=0.7724)\n"
     ]
    },
    {
     "name": "stderr",
     "output_type": "stream",
     "text": [
      "Train: 100% 2000/2000 [00:46<00:00, 42.63step/s, accuracy=0.84, loss=0.46, step=198000]\n",
      "Valid: 100% 4832/4836 [00:02<00:00, 1866.11 uttr/s, accuracy=0.78, loss=1.08]\n",
      "Train: 100% 2000/2000 [00:46<00:00, 42.83step/s, accuracy=0.94, loss=0.36, step=2e+5]  \n",
      "Valid: 100% 4832/4836 [00:02<00:00, 1880.63 uttr/s, accuracy=0.77, loss=1.08]\n",
      "                                     \n",
      "Train:   0% 0/2000 [00:00<?, ?step/s]                                                \n",
      "Train:   0% 9/2000 [00:00<00:49, 40.50step/s, accuracy=0.97, loss=0.28, step=2e+5]44]\u001b[A"
     ]
    },
    {
     "name": "stdout",
     "output_type": "stream",
     "text": [
      "Step 200000, best model saved. (accuracy=0.7752)\n"
     ]
    },
    {
     "name": "stderr",
     "output_type": "stream",
     "text": [
      "Train: 100% 2000/2000 [00:46<00:00, 42.97step/s, accuracy=0.78, loss=0.63, step=202000]\n",
      "Valid: 100% 4832/4836 [00:02<00:00, 1884.07 uttr/s, accuracy=0.76, loss=1.17]\n",
      "Train: 100% 2000/2000 [00:46<00:00, 42.88step/s, accuracy=0.72, loss=1.08, step=204000]\n",
      "Valid: 100% 4832/4836 [00:02<00:00, 1848.16 uttr/s, accuracy=0.77, loss=1.13]\n",
      "                                     \n",
      "Train:   0% 0/2000 [00:00<?, ?step/s]                                                \n",
      "Train:   0% 8/2000 [00:00<01:10, 28.21step/s, accuracy=0.81, loss=0.61, step=204008]]\u001b[A"
     ]
    },
    {
     "name": "stdout",
     "output_type": "stream",
     "text": [
      "Step 204000, best model saved. (accuracy=0.7752)\n"
     ]
    },
    {
     "name": "stderr",
     "output_type": "stream",
     "text": [
      "Train: 100% 2000/2000 [00:47<00:00, 42.52step/s, accuracy=0.75, loss=0.86, step=206000]\n",
      "Valid: 100% 4832/4836 [00:02<00:00, 1893.99 uttr/s, accuracy=0.77, loss=1.11]\n",
      "Train: 100% 2000/2000 [00:46<00:00, 42.99step/s, accuracy=0.88, loss=0.48, step=208000]\n",
      "Valid: 100% 4832/4836 [00:02<00:00, 1907.65 uttr/s, accuracy=0.79, loss=0.98]\n",
      "                                     \n",
      "Train:   0% 0/2000 [00:00<?, ?step/s]                                                \n",
      "Train:   0% 8/2000 [00:00<00:59, 33.43step/s, accuracy=0.88, loss=0.50, step=208008]]\u001b[A"
     ]
    },
    {
     "name": "stdout",
     "output_type": "stream",
     "text": [
      "Step 208000, best model saved. (accuracy=0.7870)\n"
     ]
    },
    {
     "name": "stderr",
     "output_type": "stream",
     "text": [
      "Train: 100% 2000/2000 [00:46<00:00, 43.15step/s, accuracy=0.88, loss=0.44, step=210000]\n",
      "Valid: 100% 4832/4836 [00:02<00:00, 1875.66 uttr/s, accuracy=0.78, loss=1.05]\n",
      "Train: 100% 2000/2000 [00:46<00:00, 43.13step/s, accuracy=0.78, loss=0.76, step=216000]\n",
      "Valid: 100% 4832/4836 [00:02<00:00, 1928.50 uttr/s, accuracy=0.79, loss=1.03]\n",
      "                                     \n",
      "Train:   0% 0/2000 [00:00<?, ?step/s]                                                \n",
      "Train:   0% 8/2000 [00:00<00:54, 36.60step/s, accuracy=0.81, loss=0.64, step=216008]]\u001b[A"
     ]
    },
    {
     "name": "stdout",
     "output_type": "stream",
     "text": [
      "Step 216000, best model saved. (accuracy=0.7899)\n"
     ]
    },
    {
     "name": "stderr",
     "output_type": "stream",
     "text": [
      "Train:  19% 383/2000 [00:08<00:36, 43.72step/s, accuracy=0.94, loss=0.50, step=216382]IOPub message rate exceeded.\n",
      "The notebook server will temporarily stop sending output\n",
      "to the client in order to avoid crashing it.\n",
      "To change this limit, set the config variable\n",
      "`--NotebookApp.iopub_msg_rate_limit`.\n",
      "\n",
      "Current values:\n",
      "NotebookApp.iopub_msg_rate_limit=1000.0 (msgs/sec)\n",
      "NotebookApp.rate_limit_window=3.0 (secs)\n",
      "\n",
      "Train: 100% 2000/2000 [00:45<00:00, 43.90step/s, accuracy=0.88, loss=0.57, step=230000]\n",
      "Valid: 100% 4832/4836 [00:02<00:00, 1952.84 uttr/s, accuracy=0.79, loss=1.04]\n",
      "Train:  21% 425/2000 [00:09<00:35, 44.93step/s, accuracy=0.91, loss=0.37, step=230425]IOPub message rate exceeded.\n",
      "The notebook server will temporarily stop sending output\n",
      "to the client in order to avoid crashing it.\n",
      "To change this limit, set the config variable\n",
      "`--NotebookApp.iopub_msg_rate_limit`.\n",
      "\n",
      "Current values:\n",
      "NotebookApp.iopub_msg_rate_limit=1000.0 (msgs/sec)\n",
      "NotebookApp.rate_limit_window=3.0 (secs)\n",
      "\n",
      "Train: 100% 2000/2000 [00:46<00:00, 43.19step/s, accuracy=0.94, loss=0.41, step=244000]\n",
      "Valid: 100% 4832/4836 [00:02<00:00, 1989.95 uttr/s, accuracy=0.80, loss=1.01]\n",
      "                                     \n",
      "Train:   0% 0/2000 [00:00<?, ?step/s]                                                \n",
      "Train:   0% 9/2000 [00:00<00:47, 42.23step/s, accuracy=0.78, loss=0.47, step=244008]]\u001b[A"
     ]
    },
    {
     "name": "stdout",
     "output_type": "stream",
     "text": [
      "Step 244000, best model saved. (accuracy=0.8036)\n"
     ]
    },
    {
     "name": "stderr",
     "output_type": "stream",
     "text": [
      "Train:  20% 394/2000 [00:09<00:37, 43.24step/s, accuracy=0.88, loss=0.50, step=244393]IOPub message rate exceeded.\n",
      "The notebook server will temporarily stop sending output\n",
      "to the client in order to avoid crashing it.\n",
      "To change this limit, set the config variable\n",
      "`--NotebookApp.iopub_msg_rate_limit`.\n",
      "\n",
      "Current values:\n",
      "NotebookApp.iopub_msg_rate_limit=1000.0 (msgs/sec)\n",
      "NotebookApp.rate_limit_window=3.0 (secs)\n",
      "\n",
      "Train: 100% 2000/2000 [00:46<00:00, 43.27step/s, accuracy=0.84, loss=0.49, step=256000]\n",
      "Valid: 100% 4832/4836 [00:02<00:00, 1878.57 uttr/s, accuracy=0.81, loss=1.00]\n",
      "                                     \n",
      "Train:   0% 0/2000 [00:00<?, ?step/s]                                                \n",
      "Train:   0% 8/2000 [00:00<00:54, 36.55step/s, accuracy=0.81, loss=0.53, step=256008]]\u001b[A"
     ]
    },
    {
     "name": "stdout",
     "output_type": "stream",
     "text": [
      "Step 256000, best model saved. (accuracy=0.8092)\n"
     ]
    },
    {
     "name": "stderr",
     "output_type": "stream",
     "text": [
      "Train:  15% 300/2000 [00:07<00:38, 44.15step/s, accuracy=0.88, loss=0.47, step=256300]IOPub message rate exceeded.\n",
      "The notebook server will temporarily stop sending output\n",
      "to the client in order to avoid crashing it.\n",
      "To change this limit, set the config variable\n",
      "`--NotebookApp.iopub_msg_rate_limit`.\n",
      "\n",
      "Current values:\n",
      "NotebookApp.iopub_msg_rate_limit=1000.0 (msgs/sec)\n",
      "NotebookApp.rate_limit_window=3.0 (secs)\n",
      "\n",
      "Train: 100% 2000/2000 [00:46<00:00, 43.36step/s, accuracy=0.94, loss=0.34, step=258000]\n",
      "Valid: 100% 4832/4836 [00:02<00:00, 1975.03 uttr/s, accuracy=0.81, loss=0.96]\n",
      "Train:  26% 512/2000 [00:11<00:34, 43.35step/s, accuracy=0.91, loss=0.22, step=258512]IOPub message rate exceeded.\n",
      "The notebook server will temporarily stop sending output\n",
      "to the client in order to avoid crashing it.\n",
      "To change this limit, set the config variable\n",
      "`--NotebookApp.iopub_msg_rate_limit`.\n",
      "\n",
      "Current values:\n",
      "NotebookApp.iopub_msg_rate_limit=1000.0 (msgs/sec)\n",
      "NotebookApp.rate_limit_window=3.0 (secs)\n",
      "\n",
      "Train: 100% 2000/2000 [00:45<00:00, 44.19step/s, accuracy=0.88, loss=0.49, step=270000]\n",
      "Valid: 100% 4832/4836 [00:02<00:00, 1991.40 uttr/s, accuracy=0.81, loss=0.97]\n",
      "Train:  78% 1557/2000 [00:34<00:09, 44.82step/s, accuracy=0.88, loss=0.42, step=271557]IOPub message rate exceeded.\n",
      "The notebook server will temporarily stop sending output\n",
      "to the client in order to avoid crashing it.\n",
      "To change this limit, set the config variable\n",
      "`--NotebookApp.iopub_msg_rate_limit`.\n",
      "\n",
      "Current values:\n",
      "NotebookApp.iopub_msg_rate_limit=1000.0 (msgs/sec)\n",
      "NotebookApp.rate_limit_window=3.0 (secs)\n",
      "\n",
      "Train: 100% 2000/2000 [00:45<00:00, 43.58step/s, accuracy=0.91, loss=0.40, step=284000]\n",
      "Valid: 100% 4832/4836 [00:02<00:00, 1960.10 uttr/s, accuracy=0.81, loss=0.97]\n",
      "                                     \n",
      "Train:   0% 0/2000 [00:00<?, ?step/s]                                                \n",
      "Train:   0% 8/2000 [00:00<00:57, 34.92step/s, accuracy=0.94, loss=0.16, step=284008]]\u001b[A"
     ]
    },
    {
     "name": "stdout",
     "output_type": "stream",
     "text": [
      "Step 284000, best model saved. (accuracy=0.8144)\n"
     ]
    },
    {
     "name": "stderr",
     "output_type": "stream",
     "text": [
      "Train:  58% 1162/2000 [00:26<00:19, 43.29step/s, accuracy=0.97, loss=0.16, step=285162]IOPub message rate exceeded.\n",
      "The notebook server will temporarily stop sending output\n",
      "to the client in order to avoid crashing it.\n",
      "To change this limit, set the config variable\n",
      "`--NotebookApp.iopub_msg_rate_limit`.\n",
      "\n",
      "Current values:\n",
      "NotebookApp.iopub_msg_rate_limit=1000.0 (msgs/sec)\n",
      "NotebookApp.rate_limit_window=3.0 (secs)\n",
      "\n",
      "Train: 100% 2000/2000 [00:45<00:00, 44.31step/s, accuracy=0.91, loss=0.32, step=296000]\n",
      "Valid: 100% 4832/4836 [00:02<00:00, 2078.46 uttr/s, accuracy=0.83, loss=0.94]\n",
      "                                     \n",
      "Train:   0% 0/2000 [00:00<?, ?step/s]                                                \n",
      "Train:   0% 8/2000 [00:00<00:50, 39.37step/s, accuracy=0.94, loss=0.15, step=296008]]\u001b[A"
     ]
    },
    {
     "name": "stdout",
     "output_type": "stream",
     "text": [
      "Step 296000, best model saved. (accuracy=0.8262)\n"
     ]
    },
    {
     "name": "stderr",
     "output_type": "stream",
     "text": [
      "Train:  83% 1657/2000 [00:37<00:08, 42.69step/s, accuracy=0.97, loss=0.10, step=297657]IOPub message rate exceeded.\n",
      "The notebook server will temporarily stop sending output\n",
      "to the client in order to avoid crashing it.\n",
      "To change this limit, set the config variable\n",
      "`--NotebookApp.iopub_msg_rate_limit`.\n",
      "\n",
      "Current values:\n",
      "NotebookApp.iopub_msg_rate_limit=1000.0 (msgs/sec)\n",
      "NotebookApp.rate_limit_window=3.0 (secs)\n",
      "\n",
      "Train: 100% 2000/2000 [00:44<00:00, 44.92step/s, accuracy=0.97, loss=0.11, step=310000]\n",
      "Valid: 100% 4832/4836 [00:02<00:00, 2065.81 uttr/s, accuracy=0.83, loss=0.92]\n",
      "Train:  68% 1355/2000 [00:30<00:13, 46.29step/s, accuracy=0.88, loss=0.33, step=311355]IOPub message rate exceeded.\n",
      "The notebook server will temporarily stop sending output\n",
      "to the client in order to avoid crashing it.\n",
      "To change this limit, set the config variable\n",
      "`--NotebookApp.iopub_msg_rate_limit`.\n",
      "\n",
      "Current values:\n",
      "NotebookApp.iopub_msg_rate_limit=1000.0 (msgs/sec)\n",
      "NotebookApp.rate_limit_window=3.0 (secs)\n",
      "\n",
      "Train: 100% 2000/2000 [00:44<00:00, 44.75step/s, accuracy=0.78, loss=0.64, step=324000]\n",
      "Valid: 100% 4832/4836 [00:02<00:00, 2026.54 uttr/s, accuracy=0.83, loss=0.94]\n",
      "                                     \n",
      "Train:   0% 0/2000 [00:00<?, ?step/s]                                                \n",
      "Train:   0% 8/2000 [00:00<00:58, 33.88step/s, accuracy=0.97, loss=0.21, step=324008]]\u001b[A"
     ]
    },
    {
     "name": "stdout",
     "output_type": "stream",
     "text": [
      "Step 324000, best model saved. (accuracy=0.8332)\n"
     ]
    },
    {
     "name": "stderr",
     "output_type": "stream",
     "text": [
      "Train:  55% 1106/2000 [00:25<00:19, 45.48step/s, accuracy=0.94, loss=0.14, step=325106]IOPub message rate exceeded.\n",
      "The notebook server will temporarily stop sending output\n",
      "to the client in order to avoid crashing it.\n",
      "To change this limit, set the config variable\n",
      "`--NotebookApp.iopub_msg_rate_limit`.\n",
      "\n",
      "Current values:\n",
      "NotebookApp.iopub_msg_rate_limit=1000.0 (msgs/sec)\n",
      "NotebookApp.rate_limit_window=3.0 (secs)\n",
      "\n",
      "Train: 100% 2000/2000 [00:44<00:00, 45.30step/s, accuracy=0.94, loss=0.32, step=338000]\n",
      "Valid: 100% 4832/4836 [00:02<00:00, 2074.55 uttr/s, accuracy=0.83, loss=0.90]\n",
      "Train:  36% 716/2000 [00:15<00:27, 46.75step/s, accuracy=0.91, loss=0.43, step=338716]IOPub message rate exceeded.\n",
      "The notebook server will temporarily stop sending output\n",
      "to the client in order to avoid crashing it.\n",
      "To change this limit, set the config variable\n",
      "`--NotebookApp.iopub_msg_rate_limit`.\n",
      "\n",
      "Current values:\n",
      "NotebookApp.iopub_msg_rate_limit=1000.0 (msgs/sec)\n",
      "NotebookApp.rate_limit_window=3.0 (secs)\n",
      "\n"
     ]
    }
   ],
   "source": [
    "import os\n",
    "import json\n",
    "import torch\n",
    "import random\n",
    "import math\n",
    "import re\n",
    "import torch.nn as nn\n",
    "import torch.distributed as dist\n",
    "from pathlib import Path\n",
    "from torch.utils.data import Dataset, DataLoader, random_split\n",
    "from torch.nn.utils.rnn import pad_sequence\n",
    "from torch.optim import Optimizer\n",
    "from torch.optim import AdamW\n",
    "from torch.optim.lr_scheduler import LambdaLR\n",
    "from torch.utils.data.distributed import DistributedSampler\n",
    "from pathlib import Path\n",
    "from tqdm import tqdm\n",
    " \n",
    "class myDataset(Dataset):\n",
    "  def __init__(self, data_dir, segment_len=128):\n",
    "    self.data_dir = data_dir\n",
    "    self.segment_len = segment_len\n",
    " \n",
    "    # Load the mapping from speaker neme to their corresponding id. \n",
    "    mapping_path = Path(data_dir) / \"mapping.json\"\n",
    "    mapping = json.load(mapping_path.open())\n",
    "    self.speaker2id = mapping[\"speaker2id\"]\n",
    " \n",
    "    # Load metadata of training data.\n",
    "    metadata_path = Path(data_dir) / \"metadata.json\"\n",
    "    metadata = json.load(open(metadata_path))[\"speakers\"]\n",
    " \n",
    "    # Get the total number of speaker.\n",
    "    self.speaker_num = len(metadata.keys())\n",
    "    self.data = []\n",
    "    for speaker in metadata.keys():\n",
    "      for utterances in metadata[speaker]:\n",
    "        self.data.append([utterances[\"feature_path\"], self.speaker2id[speaker]])\n",
    " \n",
    "  def __len__(self):\n",
    "    return len(self.data)\n",
    " \n",
    "  def __getitem__(self, index):\n",
    "    feat_path, speaker = self.data[index]\n",
    "    # Load preprocessed mel-spectrogram.\n",
    "    mel = torch.load(os.path.join(self.data_dir, feat_path))\n",
    " \n",
    "    # Segmemt mel-spectrogram into \"segment_len\" frames.\n",
    "    if len(mel) > self.segment_len:\n",
    "      # Randomly get the starting point of the segment.\n",
    "      start = random.randint(0, len(mel) - self.segment_len)\n",
    "      # Get a segment with \"segment_len\" frames.\n",
    "      mel = torch.FloatTensor(mel[start:start+self.segment_len])\n",
    "    else:\n",
    "      mel = torch.FloatTensor(mel)\n",
    "    # Turn the speaker id into long for computing loss later.\n",
    "    speaker = torch.FloatTensor([speaker]).long()\n",
    "    return mel, speaker\n",
    " \n",
    "  def get_speaker_number(self):\n",
    "    return self.speaker_num\n",
    "\n",
    "\n",
    "def collate_batch(batch):\n",
    "  # Process features within a batch.\n",
    "  \"\"\"Collate a batch of data.\"\"\"\n",
    "  mel, speaker = zip(*batch)\n",
    "  # Because we train the model batch by batch, we need to pad the features in the same batch to make their lengths the same.\n",
    "  mel = pad_sequence(mel, batch_first=True, padding_value=-20)    # pad log 10^(-20) which is very small value.\n",
    "  # mel: (batch size, length, 40)\n",
    "  return mel, torch.FloatTensor(speaker).long()\n",
    "\n",
    "def get_dataloader(data_dir, batch_size, n_workers):\n",
    "  \"\"\"Generate dataloader\"\"\"\n",
    "  dataset = myDataset(data_dir)\n",
    "  speaker_num = dataset.get_speaker_number()\n",
    "  # Split dataset into training dataset and validation dataset\n",
    "  trainlen = int(0.9 * len(dataset))\n",
    "  lengths = [trainlen, len(dataset) - trainlen]\n",
    "  trainset, validset = random_split(dataset, lengths)\n",
    "  train_loader = DataLoader(\n",
    "    trainset,\n",
    "    batch_size=batch_size,\n",
    "    shuffle=True,\n",
    "    drop_last=True,\n",
    "    num_workers=n_workers,\n",
    "    pin_memory=True,\n",
    "    collate_fn=collate_batch,\n",
    "  )\n",
    "  valid_loader = DataLoader(\n",
    "    validset,\n",
    "    batch_size=batch_size,\n",
    "    num_workers=n_workers,\n",
    "    drop_last=True,\n",
    "    pin_memory=True,\n",
    "    collate_fn=collate_batch,\n",
    "  )\n",
    "  return train_loader, valid_loader, speaker_num\n",
    "\n",
    "def model_fn(batch, model, criterion, device):\n",
    "  \"\"\"Forward a batch through the model.\"\"\"\n",
    "\n",
    "  mels, labels = batch\n",
    "  mels = mels.to(device)\n",
    "  labels = labels.to(device)\n",
    "\n",
    "  outs = model(mels)\n",
    "\n",
    "  loss = criterion(outs, labels)\n",
    "\n",
    "  # Get the speaker id with highest probability.\n",
    "  preds = outs.argmax(1)\n",
    "  # Compute accuracy.\n",
    "  accuracy = torch.mean((preds == labels).float())\n",
    "\n",
    "  return loss, accuracy\n",
    "\n",
    "class Classifier(nn.Module):\n",
    "  def __init__(self, d_model=80, n_spks=600, dropout=0.1):\n",
    "    super().__init__()\n",
    "\n",
    "    self.prenet = nn.Linear(40, d_model)\n",
    "    self.encoder_layer = nn.TransformerEncoderLayer(\n",
    "      d_model=d_model, dim_feedforward=512, nhead=2\n",
    "    )\n",
    "    self.encoder = nn.TransformerEncoder(self.encoder_layer, num_layers=4)  # Increased num_layers\n",
    "\n",
    "    self.pred_layer = nn.Sequential(\n",
    "      nn.Linear(d_model, 2 * d_model),  # Added more complexity to the prediction layers\n",
    "      nn.ReLU(),\n",
    "      nn.Dropout(dropout),\n",
    "      nn.Linear(2 * d_model, d_model),  # Second linear layer\n",
    "      nn.ReLU(),\n",
    "      nn.Dropout(dropout),\n",
    "      nn.Linear(d_model, n_spks),\n",
    "    )\n",
    "\n",
    "  def forward(self, mels):\n",
    "    out = self.prenet(mels)\n",
    "    out = out.permute(1, 0, 2)\n",
    "    out = self.encoder(out)\n",
    "    out = out.transpose(0, 1)\n",
    "    stats = out.mean(dim=1)\n",
    "\n",
    "    out = self.pred_layer(stats)\n",
    "    return out\n",
    "  \n",
    "\n",
    "def get_cosine_schedule_with_warmup(\n",
    "  optimizer: Optimizer,\n",
    "  num_warmup_steps: int,\n",
    "  num_training_steps: int,\n",
    "  num_cycles: float = 0.5,\n",
    "  last_epoch: int = -1,\n",
    "):\n",
    "  def lr_lambda(current_step):\n",
    "    # Warmup\n",
    "    if current_step < num_warmup_steps:\n",
    "      return float(current_step) / float(max(1, num_warmup_steps))\n",
    "    # decadence\n",
    "    progress = float(current_step - num_warmup_steps) / float(\n",
    "      max(1, num_training_steps - num_warmup_steps)\n",
    "    )\n",
    "    return max(\n",
    "      0.0, 0.5 * (1.0 + math.cos(math.pi * float(num_cycles) * 2.0 * progress))\n",
    "    )\n",
    "\n",
    "  return LambdaLR(optimizer, lr_lambda, last_epoch)\n",
    "\n",
    "def valid(dataloader, model, criterion, device): \n",
    "  \"\"\"Validate on validation set.\"\"\"\n",
    "\n",
    "  model.eval()\n",
    "  running_loss = 0.0\n",
    "  running_accuracy = 0.0\n",
    "  pbar = tqdm(total=len(dataloader.dataset), ncols=0, desc=\"Valid\", unit=\" uttr\")\n",
    "\n",
    "  for i, batch in enumerate(dataloader):\n",
    "    with torch.no_grad():\n",
    "      loss, accuracy = model_fn(batch, model, criterion, device)\n",
    "      running_loss += loss.item()\n",
    "      running_accuracy += accuracy.item()\n",
    "\n",
    "    pbar.update(dataloader.batch_size)\n",
    "    pbar.set_postfix(\n",
    "      loss=f\"{running_loss / (i+1):.2f}\",\n",
    "      accuracy=f\"{running_accuracy / (i+1):.2f}\",\n",
    "    )\n",
    "\n",
    "  pbar.close()\n",
    "  model.train()\n",
    "\n",
    "  return running_accuracy / len(dataloader)\n",
    "\n",
    "def parse_args():\n",
    "  \"\"\"arguments\"\"\"\n",
    "  config = {\n",
    "    \"data_dir\": \"../Dataset\",\n",
    "    \"save_path\": \"model.ckpt\",\n",
    "    \"batch_size\": 32,\n",
    "    \"n_workers\": 0,\n",
    "    \"valid_steps\": 2000,\n",
    "    \"warmup_steps\": 1000,\n",
    "    \"save_steps\": 4000,\n",
    "    \"total_steps\": 350000,\n",
    "  }\n",
    "\n",
    "  return config\n",
    "\n",
    "def find_highest_iter_file(directory):\n",
    "    ckpt_files = os.listdir(directory)\n",
    "    max_iter = 0\n",
    "    max_file = \"\"\n",
    "\n",
    "    for file in ckpt_files:\n",
    "        if file.endswith(\".ckpt\"):\n",
    "            iter_no = int(re.findall(\"\\d+\", file)[0])\n",
    "            if iter_no > max_iter:\n",
    "                max_iter = iter_no\n",
    "                max_file = file\n",
    "    return max_file, max_iter\n",
    "\n",
    "def main(data_dir, save_path, batch_size, n_workers, valid_steps, warmup_steps, total_steps, save_steps):\n",
    "  device = torch.device(\"cuda\" if torch.cuda.is_available() else \"cpu\")\n",
    "  print(f\"[Info]: Use {device} now!\")\n",
    "\n",
    "  train_loader, valid_loader, speaker_num = get_dataloader(data_dir, batch_size, n_workers)\n",
    "  train_iterator = iter(train_loader)\n",
    "  highest_model_name, start_step = find_highest_iter_file(\".\")\n",
    "  model = Classifier(n_spks=speaker_num).to(device)\n",
    "  \n",
    "  if highest_model_name:\n",
    "    model.load_state_dict(torch.load(highest_model_name))\n",
    "    print(f\"[Info]: Loaded pre-trained model: {highest_model_name}\")\n",
    "  \n",
    "  criterion = nn.CrossEntropyLoss()\n",
    "  optimizer = AdamW(model.parameters(), lr=1e-3)\n",
    "  scheduler = get_cosine_schedule_with_warmup(optimizer, warmup_steps, total_steps)\n",
    "\n",
    "  best_accuracy = -1.0\n",
    "  best_state_dict = None\n",
    "\n",
    "  pbar = tqdm(total=valid_steps, ncols=0, desc=\"Train\", unit=\"step\")\n",
    "\n",
    "  for step in range(start_step, total_steps):\n",
    "    try:\n",
    "      batch = next(train_iterator)\n",
    "    except StopIteration:\n",
    "      train_iterator = iter(train_loader)\n",
    "      batch = next(train_iterator)\n",
    "      \n",
    "    loss, accuracy = model_fn(batch, model, criterion, device)\n",
    "    batch_loss = loss.item()\n",
    "    batch_accuracy = accuracy.item()\n",
    "\n",
    "    loss.backward()\n",
    "    optimizer.step()\n",
    "    scheduler.step()\n",
    "    optimizer.zero_grad()\n",
    "\n",
    "    adj_step = step + 1\n",
    "\n",
    "    pbar.update()\n",
    "    pbar.set_postfix(\n",
    "      loss=f\"{batch_loss:.2f}\",\n",
    "      accuracy=f\"{batch_accuracy:.2f}\",\n",
    "      step=adj_step,\n",
    "    )\n",
    "\n",
    "    if (adj_step) % valid_steps == 0:\n",
    "      pbar.close()\n",
    "\n",
    "      valid_accuracy = valid(valid_loader, model, criterion, device)\n",
    "      if valid_accuracy > best_accuracy:\n",
    "        best_accuracy = valid_accuracy\n",
    "        best_state_dict = model.state_dict()\n",
    "\n",
    "      pbar = tqdm(total=valid_steps, ncols=0, desc=\"Train\", unit=\"step\")\n",
    "\n",
    "    if (adj_step) % save_steps == 0 and best_state_dict is not None:\n",
    "      checkpoint_path = f\"model_{adj_step}_{best_accuracy:.4f}.ckpt\"\n",
    "      torch.save(best_state_dict, checkpoint_path)\n",
    "      pbar.write(f\"Step {adj_step}, best model saved. (accuracy={best_accuracy:.4f})\")\n",
    "\n",
    "  pbar.close()\n",
    "\n",
    "if __name__ == \"__main__\":\n",
    "  main(**parse_args())"
   ]
  },
  {
   "cell_type": "markdown",
   "metadata": {
    "id": "pSuI3WY9Fz78"
   },
   "source": [
    "## Dataset of inference"
   ]
  },
  {
   "cell_type": "code",
   "execution_count": 10,
   "metadata": {
    "id": "4evns0055Dsx"
   },
   "outputs": [],
   "source": [
    "import os\n",
    "import json\n",
    "import torch\n",
    "from pathlib import Path\n",
    "from torch.utils.data import Dataset\n",
    "\n",
    "\n",
    "class InferenceDataset(Dataset):\n",
    "  def __init__(self, data_dir):\n",
    "    testdata_path = Path(data_dir) / \"testdata.json\"\n",
    "    metadata = json.load(testdata_path.open())\n",
    "    self.data_dir = data_dir\n",
    "    self.data = metadata[\"utterances\"]\n",
    "\n",
    "  def __len__(self):\n",
    "    return len(self.data)\n",
    "\n",
    "  def __getitem__(self, index):\n",
    "    utterance = self.data[index]\n",
    "    feat_path = utterance[\"feature_path\"]\n",
    "    mel = torch.load(os.path.join(self.data_dir, feat_path))\n",
    "\n",
    "    return feat_path, mel\n",
    "\n",
    "\n",
    "def inference_collate_batch(batch):\n",
    "  \"\"\"Collate a batch of data.\"\"\"\n",
    "  feat_paths, mels = zip(*batch)\n",
    "\n",
    "  return feat_paths, torch.stack(mels)\n"
   ]
  },
  {
   "cell_type": "markdown",
   "metadata": {
    "id": "oAinHBG1GIWv"
   },
   "source": [
    "## Main funcrion of Inference"
   ]
  },
  {
   "cell_type": "code",
   "execution_count": 18,
   "metadata": {
    "id": "yQaTt7VDHoRI"
   },
   "outputs": [
    {
     "name": "stdout",
     "output_type": "stream",
     "text": [
      "[Info]: Use cuda now!\n",
      "[Info]: Finish loading data!\n",
      "['./model_52000_0.7163.ckpt', './model_36000_0.5676.ckpt', './model_16000_0.5178.ckpt', './model_48000_0.7061.ckpt', './model_8000_0.4392.ckpt', './model_4000_0.3148.ckpt', './model_60000_0.7305.ckpt', './model_20000_0.5799.ckpt', './model_40000_0.6861.ckpt', './model_56000_0.7305.ckpt', './model_24000_0.6010.ckpt', './model_12000_0.4998.ckpt', './model_68000_0.7417.ckpt', './model_28000_0.6231.ckpt', './model_44000_0.6968.ckpt', './model_32000_0.6527.ckpt', './model_64000_0.7394.ckpt', './model_36000_0.6571.ckpt']\n",
      "Loading from file ./model_68000_0.7417.ckpt\n",
      "[Info]: Finish creating model!\n"
     ]
    },
    {
     "name": "stderr",
     "output_type": "stream",
     "text": [
      "\n",
      "  0%|                                                                                               | 0/6657 [00:00<?, ?it/s]\u001b[A\n",
      "  0%|▍                                                                                    | 33/6657 [00:00<00:20, 326.52it/s]\u001b[A\n",
      "  1%|▊                                                                                    | 66/6657 [00:00<00:20, 325.16it/s]\u001b[A\n",
      "  1%|█▎                                                                                   | 99/6657 [00:00<00:20, 327.25it/s]\u001b[A\n",
      "  2%|█▋                                                                                  | 134/6657 [00:00<00:19, 331.58it/s]\u001b[A\n",
      "  3%|██                                                                                  | 168/6657 [00:00<00:19, 330.63it/s]\u001b[A\n",
      "  3%|██▌                                                                                 | 202/6657 [00:00<00:19, 331.04it/s]\u001b[A\n",
      "  4%|██▉                                                                                 | 236/6657 [00:00<00:19, 329.75it/s]\u001b[A\n",
      "  4%|███▍                                                                                | 270/6657 [00:00<00:19, 331.72it/s]\u001b[A\n",
      "  5%|███▊                                                                                | 304/6657 [00:00<00:19, 331.68it/s]\u001b[A\n",
      "  5%|████▎                                                                               | 338/6657 [00:01<00:19, 330.75it/s]\u001b[A\n",
      "  6%|████▋                                                                               | 372/6657 [00:01<00:20, 301.71it/s]\u001b[A\n",
      "  6%|█████                                                                               | 403/6657 [00:01<00:21, 291.56it/s]\u001b[A\n",
      "  7%|█████▍                                                                              | 433/6657 [00:01<00:21, 286.28it/s]\u001b[A\n",
      "  7%|█████▊                                                                              | 462/6657 [00:01<00:21, 281.93it/s]\u001b[A\n",
      "  7%|██████▏                                                                             | 491/6657 [00:01<00:21, 282.59it/s]\u001b[A\n",
      "  8%|██████▌                                                                             | 520/6657 [00:01<00:22, 275.92it/s]\u001b[A\n",
      "  8%|██████▉                                                                             | 548/6657 [00:01<00:22, 276.80it/s]\u001b[A\n",
      "  9%|███████▎                                                                            | 577/6657 [00:01<00:21, 278.54it/s]\u001b[A\n",
      "  9%|███████▋                                                                            | 606/6657 [00:02<00:21, 279.11it/s]\u001b[A\n",
      " 10%|████████                                                                            | 634/6657 [00:02<00:21, 276.06it/s]\u001b[A\n",
      " 10%|████████▎                                                                           | 663/6657 [00:02<00:21, 278.44it/s]\u001b[A\n",
      " 10%|████████▊                                                                           | 695/6657 [00:02<00:20, 289.92it/s]\u001b[A\n",
      " 11%|█████████▏                                                                          | 725/6657 [00:02<00:20, 284.88it/s]\u001b[A\n",
      " 11%|█████████▌                                                                          | 754/6657 [00:02<00:21, 272.22it/s]\u001b[A\n",
      " 12%|█████████▊                                                                          | 782/6657 [00:02<00:21, 273.96it/s]\u001b[A\n",
      " 12%|██████████▏                                                                         | 810/6657 [00:02<00:21, 271.22it/s]\u001b[A\n",
      " 13%|██████████▌                                                                         | 839/6657 [00:02<00:21, 275.44it/s]\u001b[A\n",
      " 13%|██████████▉                                                                         | 868/6657 [00:02<00:20, 276.79it/s]\u001b[A\n",
      " 13%|███████████▎                                                                        | 896/6657 [00:03<00:21, 273.36it/s]\u001b[A\n",
      " 14%|███████████▋                                                                        | 924/6657 [00:03<00:20, 274.44it/s]\u001b[A\n",
      " 14%|████████████                                                                        | 952/6657 [00:03<00:20, 273.15it/s]\u001b[A\n",
      " 15%|████████████▎                                                                       | 980/6657 [00:03<00:20, 273.45it/s]\u001b[A\n",
      " 15%|████████████▌                                                                      | 1008/6657 [00:03<00:20, 274.25it/s]\u001b[A\n",
      " 16%|████████████▉                                                                      | 1036/6657 [00:03<00:20, 272.97it/s]\u001b[A\n",
      " 16%|█████████████▎                                                                     | 1064/6657 [00:03<00:20, 266.45it/s]\u001b[A\n",
      " 16%|█████████████▌                                                                     | 1092/6657 [00:03<00:20, 269.91it/s]\u001b[A\n",
      " 17%|█████████████▉                                                                     | 1120/6657 [00:03<00:20, 272.34it/s]\u001b[A\n",
      " 17%|██████████████▎                                                                    | 1149/6657 [00:03<00:19, 275.70it/s]\u001b[A\n",
      " 18%|██████████████▋                                                                    | 1177/6657 [00:04<00:19, 275.83it/s]\u001b[A\n",
      " 18%|███████████████                                                                    | 1206/6657 [00:04<00:19, 278.17it/s]\u001b[A\n",
      " 19%|███████████████▍                                                                   | 1234/6657 [00:04<00:19, 273.49it/s]\u001b[A\n",
      " 19%|███████████████▋                                                                   | 1262/6657 [00:04<00:19, 271.63it/s]\u001b[A\n",
      " 19%|████████████████                                                                   | 1290/6657 [00:04<00:19, 273.72it/s]\u001b[A\n",
      " 20%|████████████████▍                                                                  | 1318/6657 [00:04<00:19, 275.24it/s]\u001b[A\n",
      " 20%|████████████████▊                                                                  | 1346/6657 [00:04<00:19, 274.11it/s]\u001b[A\n",
      " 21%|█████████████████▏                                                                 | 1374/6657 [00:04<00:19, 271.36it/s]\u001b[A\n",
      " 21%|█████████████████▍                                                                 | 1402/6657 [00:04<00:19, 273.58it/s]\u001b[A\n",
      " 21%|█████████████████▊                                                                 | 1430/6657 [00:05<00:19, 273.23it/s]\u001b[A\n",
      " 22%|██████████████████▏                                                                | 1458/6657 [00:05<00:19, 272.02it/s]\u001b[A\n",
      " 22%|██████████████████▌                                                                | 1486/6657 [00:05<00:19, 271.17it/s]\u001b[A\n",
      " 23%|██████████████████▉                                                                | 1514/6657 [00:05<00:18, 272.43it/s]\u001b[A\n",
      " 23%|███████████████████▏                                                               | 1542/6657 [00:05<00:18, 274.45it/s]\u001b[A\n",
      " 24%|███████████████████▌                                                               | 1570/6657 [00:05<00:18, 272.30it/s]\u001b[A\n",
      " 24%|███████████████████▉                                                               | 1599/6657 [00:05<00:18, 275.54it/s]\u001b[A\n",
      " 24%|████████████████████▎                                                              | 1627/6657 [00:05<00:18, 273.26it/s]\u001b[A\n",
      " 25%|████████████████████▋                                                              | 1655/6657 [00:05<00:18, 272.62it/s]\u001b[A\n",
      " 25%|████████████████████▉                                                              | 1683/6657 [00:05<00:18, 271.34it/s]\u001b[A\n",
      " 26%|█████████████████████▎                                                             | 1711/6657 [00:06<00:18, 271.04it/s]\u001b[A\n",
      " 26%|█████████████████████▋                                                             | 1739/6657 [00:06<00:18, 266.87it/s]\u001b[A\n",
      " 27%|██████████████████████                                                             | 1767/6657 [00:06<00:18, 270.03it/s]\u001b[A\n",
      " 27%|██████████████████████▍                                                            | 1795/6657 [00:06<00:17, 271.52it/s]\u001b[A\n",
      " 27%|██████████████████████▋                                                            | 1823/6657 [00:06<00:17, 273.17it/s]\u001b[A\n",
      " 28%|███████████████████████                                                            | 1852/6657 [00:06<00:17, 275.70it/s]\u001b[A\n",
      " 28%|███████████████████████▍                                                           | 1880/6657 [00:06<00:17, 274.25it/s]\u001b[A\n",
      " 29%|███████████████████████▊                                                           | 1908/6657 [00:06<00:17, 271.18it/s]\u001b[A\n",
      " 29%|████████████████████████▏                                                          | 1938/6657 [00:06<00:17, 277.13it/s]\u001b[A\n",
      " 30%|████████████████████████▌                                                          | 1967/6657 [00:06<00:16, 278.95it/s]\u001b[A\n",
      " 30%|████████████████████████▊                                                          | 1995/6657 [00:07<00:17, 270.87it/s]\u001b[A\n",
      " 30%|█████████████████████████▏                                                         | 2023/6657 [00:07<00:17, 262.26it/s]\u001b[A\n",
      " 31%|█████████████████████████▌                                                         | 2051/6657 [00:07<00:17, 265.84it/s]\u001b[A\n",
      " 31%|█████████████████████████▉                                                         | 2080/6657 [00:07<00:16, 270.55it/s]\u001b[A\n",
      " 32%|██████████████████████████▎                                                        | 2108/6657 [00:07<00:16, 272.50it/s]\u001b[A\n",
      " 32%|██████████████████████████▋                                                        | 2137/6657 [00:07<00:16, 275.53it/s]\u001b[A\n",
      " 33%|██████████████████████████▉                                                        | 2165/6657 [00:07<00:16, 272.64it/s]\u001b[A\n",
      " 33%|███████████████████████████▎                                                       | 2193/6657 [00:07<00:16, 269.91it/s]\u001b[A\n",
      " 33%|███████████████████████████▋                                                       | 2221/6657 [00:07<00:16, 271.82it/s]\u001b[A\n",
      " 34%|████████████████████████████                                                       | 2249/6657 [00:08<00:16, 274.06it/s]\u001b[A\n",
      " 34%|████████████████████████████▍                                                      | 2277/6657 [00:08<00:16, 271.03it/s]\u001b[A\n",
      " 35%|████████████████████████████▋                                                      | 2305/6657 [00:08<00:16, 268.10it/s]\u001b[A\n",
      " 35%|█████████████████████████████                                                      | 2332/6657 [00:08<00:16, 267.79it/s]\u001b[A\n",
      " 35%|█████████████████████████████▍                                                     | 2360/6657 [00:08<00:15, 270.06it/s]\u001b[A\n",
      " 36%|█████████████████████████████▊                                                     | 2388/6657 [00:08<00:15, 272.28it/s]\u001b[A\n",
      " 36%|██████████████████████████████▏                                                    | 2417/6657 [00:08<00:15, 276.66it/s]\u001b[A\n",
      " 37%|██████████████████████████████▍                                                    | 2446/6657 [00:08<00:15, 277.97it/s]\u001b[A\n",
      " 37%|██████████████████████████████▊                                                    | 2474/6657 [00:08<00:15, 276.15it/s]\u001b[A\n",
      " 38%|███████████████████████████████▏                                                   | 2503/6657 [00:08<00:14, 278.94it/s]\u001b[A\n",
      " 38%|███████████████████████████████▌                                                   | 2533/6657 [00:09<00:14, 282.82it/s]\u001b[A\n",
      " 38%|███████████████████████████████▉                                                   | 2562/6657 [00:09<00:14, 280.24it/s]\u001b[A\n",
      " 39%|████████████████████████████████▎                                                  | 2591/6657 [00:09<00:14, 277.38it/s]\u001b[A\n",
      " 39%|████████████████████████████████▋                                                  | 2619/6657 [00:09<00:14, 276.81it/s]\u001b[A\n",
      " 40%|█████████████████████████████████                                                  | 2648/6657 [00:09<00:14, 278.80it/s]\u001b[A\n",
      " 40%|█████████████████████████████████▎                                                 | 2676/6657 [00:09<00:14, 276.84it/s]\u001b[A\n",
      " 41%|█████████████████████████████████▋                                                 | 2704/6657 [00:09<00:14, 274.25it/s]\u001b[A\n",
      " 41%|██████████████████████████████████                                                 | 2732/6657 [00:09<00:14, 272.83it/s]\u001b[A\n",
      " 41%|██████████████████████████████████▍                                                | 2760/6657 [00:09<00:14, 271.89it/s]\u001b[A\n",
      " 42%|██████████████████████████████████▊                                                | 2789/6657 [00:09<00:14, 275.08it/s]\u001b[A\n",
      " 42%|███████████████████████████████████                                                | 2817/6657 [00:10<00:13, 274.96it/s]\u001b[A\n",
      " 43%|███████████████████████████████████▍                                               | 2846/6657 [00:10<00:13, 277.17it/s]\u001b[A\n",
      " 43%|███████████████████████████████████▊                                               | 2877/6657 [00:10<00:13, 285.33it/s]\u001b[A\n",
      " 44%|████████████████████████████████████▎                                              | 2911/6657 [00:10<00:12, 298.42it/s]\u001b[A\n",
      " 44%|████████████████████████████████████▋                                              | 2944/6657 [00:10<00:12, 305.99it/s]\u001b[A\n",
      " 45%|█████████████████████████████████████▏                                             | 2978/6657 [00:10<00:11, 314.89it/s]\u001b[A\n",
      " 45%|█████████████████████████████████████▌                                             | 3011/6657 [00:10<00:11, 317.86it/s]\u001b[A\n",
      " 46%|█████████████████████████████████████▉                                             | 3043/6657 [00:10<00:11, 314.36it/s]\u001b[A\n",
      " 46%|██████████████████████████████████████▎                                            | 3076/6657 [00:10<00:11, 317.83it/s]\u001b[A\n",
      " 47%|██████████████████████████████████████▊                                            | 3108/6657 [00:11<00:11, 307.59it/s]\u001b[A\n",
      " 47%|███████████████████████████████████████▏                                           | 3140/6657 [00:11<00:11, 309.37it/s]\u001b[A\n",
      " 48%|███████████████████████████████████████▌                                           | 3173/6657 [00:11<00:11, 314.09it/s]\u001b[A\n",
      " 48%|███████████████████████████████████████▉                                           | 3206/6657 [00:11<00:10, 318.68it/s]\u001b[A\n",
      " 49%|████████████████████████████████████████▍                                          | 3239/6657 [00:11<00:10, 320.12it/s]\u001b[A\n",
      " 49%|████████████████████████████████████████▊                                          | 3272/6657 [00:11<00:10, 322.47it/s]\u001b[A\n",
      " 50%|█████████████████████████████████████████▏                                         | 3306/6657 [00:11<00:10, 324.93it/s]\u001b[A\n",
      " 50%|█████████████████████████████████████████▋                                         | 3339/6657 [00:11<00:10, 326.29it/s]\u001b[A\n",
      " 51%|██████████████████████████████████████████                                         | 3372/6657 [00:11<00:10, 327.16it/s]\u001b[A\n",
      " 51%|██████████████████████████████████████████▍                                        | 3405/6657 [00:11<00:09, 327.19it/s]\u001b[A\n",
      " 52%|██████████████████████████████████████████▉                                        | 3439/6657 [00:12<00:09, 329.30it/s]\u001b[A\n",
      " 52%|███████████████████████████████████████████▎                                       | 3472/6657 [00:12<00:09, 322.81it/s]\u001b[A\n",
      " 53%|███████████████████████████████████████████▋                                       | 3505/6657 [00:12<00:09, 323.42it/s]\u001b[A\n",
      " 53%|████████████████████████████████████████████▏                                      | 3540/6657 [00:12<00:09, 329.56it/s]\u001b[A\n",
      " 54%|████████████████████████████████████████████▌                                      | 3573/6657 [00:12<00:09, 328.64it/s]\u001b[A\n",
      " 54%|████████████████████████████████████████████▉                                      | 3607/6657 [00:12<00:09, 331.03it/s]\u001b[A\n",
      " 55%|█████████████████████████████████████████████▍                                     | 3641/6657 [00:12<00:09, 330.94it/s]\u001b[A\n",
      " 55%|█████████████████████████████████████████████▊                                     | 3676/6657 [00:12<00:08, 334.10it/s]\u001b[A\n",
      " 56%|██████████████████████████████████████████████▎                                    | 3710/6657 [00:12<00:08, 334.99it/s]\u001b[A\n",
      " 56%|██████████████████████████████████████████████▋                                    | 3744/6657 [00:12<00:08, 333.94it/s]\u001b[A\n"
     ]
    },
    {
     "name": "stderr",
     "output_type": "stream",
     "text": [
      " 57%|███████████████████████████████████████████████                                    | 3778/6657 [00:13<00:09, 314.90it/s]\u001b[A\n",
      " 57%|███████████████████████████████████████████████▌                                   | 3810/6657 [00:13<00:09, 295.18it/s]\u001b[A\n",
      " 58%|███████████████████████████████████████████████▉                                   | 3840/6657 [00:13<00:09, 287.32it/s]\u001b[A\n",
      " 58%|████████████████████████████████████████████████▎                                  | 3874/6657 [00:13<00:09, 301.65it/s]\u001b[A\n",
      " 59%|████████████████████████████████████████████████▋                                  | 3907/6657 [00:13<00:08, 308.35it/s]\u001b[A\n",
      " 59%|█████████████████████████████████████████████████                                  | 3940/6657 [00:13<00:08, 312.14it/s]\u001b[A\n",
      " 60%|█████████████████████████████████████████████████▌                                 | 3974/6657 [00:13<00:08, 318.68it/s]\u001b[A\n",
      " 60%|█████████████████████████████████████████████████▉                                 | 4007/6657 [00:13<00:08, 318.91it/s]\u001b[A\n",
      " 61%|██████████████████████████████████████████████████▍                                | 4042/6657 [00:13<00:07, 327.70it/s]\u001b[A\n",
      " 61%|██████████████████████████████████████████████████▊                                | 4077/6657 [00:14<00:07, 332.52it/s]\u001b[A\n",
      " 62%|███████████████████████████████████████████████████▎                               | 4111/6657 [00:14<00:07, 331.32it/s]\u001b[A\n",
      " 62%|███████████████████████████████████████████████████▋                               | 4146/6657 [00:14<00:07, 334.83it/s]\u001b[A\n",
      " 63%|████████████████████████████████████████████████████▏                              | 4181/6657 [00:14<00:07, 337.59it/s]\u001b[A\n",
      " 63%|████████████████████████████████████████████████████▌                              | 4215/6657 [00:14<00:07, 336.97it/s]\u001b[A\n",
      " 64%|████████████████████████████████████████████████████▉                              | 4250/6657 [00:14<00:07, 339.81it/s]\u001b[A\n",
      " 64%|█████████████████████████████████████████████████████▍                             | 4284/6657 [00:14<00:06, 339.51it/s]\u001b[A\n",
      " 65%|█████████████████████████████████████████████████████▊                             | 4318/6657 [00:14<00:06, 339.31it/s]\u001b[A\n",
      " 65%|██████████████████████████████████████████████████████▎                            | 4353/6657 [00:14<00:06, 341.21it/s]\u001b[A\n",
      " 66%|██████████████████████████████████████████████████████▋                            | 4388/6657 [00:14<00:06, 336.21it/s]\u001b[A\n",
      " 66%|███████████████████████████████████████████████████████▏                           | 4422/6657 [00:15<00:06, 334.21it/s]\u001b[A\n",
      " 67%|███████████████████████████████████████████████████████▌                           | 4456/6657 [00:15<00:06, 333.49it/s]\u001b[A\n",
      " 67%|███████████████████████████████████████████████████████▉                           | 4491/6657 [00:15<00:06, 337.05it/s]\u001b[A\n",
      " 68%|████████████████████████████████████████████████████████▍                          | 4526/6657 [00:15<00:06, 339.55it/s]\u001b[A\n",
      " 69%|████████████████████████████████████████████████████████▊                          | 4561/6657 [00:15<00:06, 340.65it/s]\u001b[A\n",
      " 69%|█████████████████████████████████████████████████████████▎                         | 4596/6657 [00:15<00:06, 333.43it/s]\u001b[A\n",
      " 70%|█████████████████████████████████████████████████████████▋                         | 4630/6657 [00:15<00:06, 330.23it/s]\u001b[A\n",
      " 70%|██████████████████████████████████████████████████████████▏                        | 4664/6657 [00:15<00:06, 328.00it/s]\u001b[A\n",
      " 71%|██████████████████████████████████████████████████████████▌                        | 4697/6657 [00:15<00:05, 327.94it/s]\u001b[A\n",
      " 71%|██████████████████████████████████████████████████████████▉                        | 4730/6657 [00:15<00:05, 325.20it/s]\u001b[A\n",
      " 72%|███████████████████████████████████████████████████████████▍                       | 4763/6657 [00:16<00:05, 321.89it/s]\u001b[A\n",
      " 72%|███████████████████████████████████████████████████████████▊                       | 4796/6657 [00:16<00:05, 320.65it/s]\u001b[A\n",
      " 73%|████████████████████████████████████████████████████████████▏                      | 4829/6657 [00:16<00:05, 322.76it/s]\u001b[A\n",
      " 73%|████████████████████████████████████████████████████████████▋                      | 4864/6657 [00:16<00:05, 330.76it/s]\u001b[A\n",
      " 74%|█████████████████████████████████████████████████████████████                      | 4898/6657 [00:16<00:05, 331.83it/s]\u001b[A\n",
      " 74%|█████████████████████████████████████████████████████████████▍                     | 4932/6657 [00:16<00:05, 334.07it/s]\u001b[A\n",
      " 75%|█████████████████████████████████████████████████████████████▉                     | 4966/6657 [00:16<00:05, 333.14it/s]\u001b[A\n",
      " 75%|██████████████████████████████████████████████████████████████▎                    | 5000/6657 [00:16<00:04, 333.98it/s]\u001b[A\n",
      " 76%|██████████████████████████████████████████████████████████████▊                    | 5034/6657 [00:16<00:04, 333.43it/s]\u001b[A\n",
      " 76%|███████████████████████████████████████████████████████████████▏                   | 5068/6657 [00:17<00:04, 330.90it/s]\u001b[A\n",
      " 77%|███████████████████████████████████████████████████████████████▌                   | 5102/6657 [00:17<00:04, 322.47it/s]\u001b[A\n",
      " 77%|████████████████████████████████████████████████████████████████                   | 5136/6657 [00:17<00:04, 326.26it/s]\u001b[A\n",
      " 78%|████████████████████████████████████████████████████████████████▍                  | 5169/6657 [00:17<00:04, 327.15it/s]\u001b[A\n",
      " 78%|████████████████████████████████████████████████████████████████▉                  | 5204/6657 [00:17<00:04, 331.83it/s]\u001b[A\n",
      " 79%|█████████████████████████████████████████████████████████████████▎                 | 5238/6657 [00:17<00:04, 330.74it/s]\u001b[A\n",
      " 79%|█████████████████████████████████████████████████████████████████▋                 | 5272/6657 [00:17<00:04, 330.91it/s]\u001b[A\n",
      " 80%|██████████████████████████████████████████████████████████████████▏                | 5306/6657 [00:17<00:04, 330.21it/s]\u001b[A\n",
      " 80%|██████████████████████████████████████████████████████████████████▌                | 5340/6657 [00:17<00:04, 323.60it/s]\u001b[A\n",
      " 81%|███████████████████████████████████████████████████████████████████                | 5374/6657 [00:17<00:03, 327.91it/s]\u001b[A\n",
      " 81%|███████████████████████████████████████████████████████████████████▍               | 5407/6657 [00:18<00:03, 326.28it/s]\u001b[A\n",
      " 82%|███████████████████████████████████████████████████████████████████▊               | 5441/6657 [00:18<00:03, 327.71it/s]\u001b[A\n",
      " 82%|████████████████████████████████████████████████████████████████████▎              | 5474/6657 [00:18<00:03, 326.54it/s]\u001b[A\n",
      " 83%|████████████████████████████████████████████████████████████████████▋              | 5508/6657 [00:18<00:03, 328.72it/s]\u001b[A\n",
      " 83%|█████████████████████████████████████████████████████████████████████              | 5541/6657 [00:18<00:03, 329.06it/s]\u001b[A\n",
      " 84%|█████████████████████████████████████████████████████████████████████▌             | 5575/6657 [00:18<00:03, 329.86it/s]\u001b[A\n",
      " 84%|█████████████████████████████████████████████████████████████████████▉             | 5608/6657 [00:18<00:03, 324.59it/s]\u001b[A\n",
      " 85%|██████████████████████████████████████████████████████████████████████▎            | 5641/6657 [00:18<00:03, 325.20it/s]\u001b[A\n",
      " 85%|██████████████████████████████████████████████████████████████████████▋            | 5674/6657 [00:18<00:03, 321.89it/s]\u001b[A\n",
      " 86%|███████████████████████████████████████████████████████████████████████▏           | 5707/6657 [00:18<00:02, 320.57it/s]\u001b[A\n",
      " 86%|███████████████████████████████████████████████████████████████████████▌           | 5740/6657 [00:19<00:03, 285.71it/s]\u001b[A\n",
      " 87%|███████████████████████████████████████████████████████████████████████▉           | 5773/6657 [00:19<00:02, 297.63it/s]\u001b[A\n",
      " 87%|████████████████████████████████████████████████████████████████████████▍          | 5808/6657 [00:19<00:02, 310.91it/s]\u001b[A\n",
      " 88%|████████████████████████████████████████████████████████████████████████▊          | 5842/6657 [00:19<00:02, 318.52it/s]\u001b[A\n",
      " 88%|█████████████████████████████████████████████████████████████████████████▎         | 5876/6657 [00:19<00:02, 322.36it/s]\u001b[A\n",
      " 89%|█████████████████████████████████████████████████████████████████████████▋         | 5909/6657 [00:19<00:02, 321.92it/s]\u001b[A\n",
      " 89%|██████████████████████████████████████████████████████████████████████████         | 5943/6657 [00:19<00:02, 324.72it/s]\u001b[A\n",
      " 90%|██████████████████████████████████████████████████████████████████████████▌        | 5976/6657 [00:19<00:02, 321.05it/s]\u001b[A\n",
      " 90%|██████████████████████████████████████████████████████████████████████████▉        | 6010/6657 [00:19<00:02, 323.41it/s]\u001b[A\n",
      " 91%|███████████████████████████████████████████████████████████████████████████▎       | 6044/6657 [00:20<00:01, 326.96it/s]\u001b[A\n",
      " 91%|███████████████████████████████████████████████████████████████████████████▊       | 6077/6657 [00:20<00:01, 326.39it/s]\u001b[A\n",
      " 92%|████████████████████████████████████████████████████████████████████████████▏      | 6110/6657 [00:20<00:01, 326.63it/s]\u001b[A\n",
      " 92%|████████████████████████████████████████████████████████████████████████████▌      | 6144/6657 [00:20<00:01, 328.68it/s]\u001b[A\n",
      " 93%|█████████████████████████████████████████████████████████████████████████████      | 6180/6657 [00:20<00:01, 335.21it/s]\u001b[A\n",
      " 93%|█████████████████████████████████████████████████████████████████████████████▍     | 6214/6657 [00:20<00:01, 335.37it/s]\u001b[A\n",
      " 94%|█████████████████████████████████████████████████████████████████████████████▉     | 6248/6657 [00:20<00:01, 333.28it/s]\u001b[A\n",
      " 94%|██████████████████████████████████████████████████████████████████████████████▎    | 6282/6657 [00:20<00:01, 330.68it/s]\u001b[A\n",
      " 95%|██████████████████████████████████████████████████████████████████████████████▋    | 6316/6657 [00:20<00:01, 330.48it/s]\u001b[A\n",
      " 95%|███████████████████████████████████████████████████████████████████████████████▏   | 6350/6657 [00:20<00:00, 327.99it/s]\u001b[A\n",
      " 96%|███████████████████████████████████████████████████████████████████████████████▌   | 6383/6657 [00:21<00:00, 328.24it/s]\u001b[A\n",
      " 96%|███████████████████████████████████████████████████████████████████████████████▉   | 6416/6657 [00:21<00:00, 328.16it/s]\u001b[A\n",
      " 97%|████████████████████████████████████████████████████████████████████████████████▍  | 6450/6657 [00:21<00:00, 331.54it/s]\u001b[A\n",
      " 97%|████████████████████████████████████████████████████████████████████████████████▊  | 6484/6657 [00:21<00:00, 326.11it/s]\u001b[A\n",
      " 98%|█████████████████████████████████████████████████████████████████████████████████▎ | 6519/6657 [00:21<00:00, 331.75it/s]\u001b[A\n",
      " 98%|█████████████████████████████████████████████████████████████████████████████████▋ | 6554/6657 [00:21<00:00, 335.60it/s]\u001b[A\n",
      " 99%|██████████████████████████████████████████████████████████████████████████████████▏| 6588/6657 [00:21<00:00, 330.18it/s]\u001b[A\n",
      " 99%|██████████████████████████████████████████████████████████████████████████████████▌| 6622/6657 [00:21<00:00, 326.36it/s]\u001b[A\n",
      "100%|███████████████████████████████████████████████████████████████████████████████████| 6657/6657 [00:21<00:00, 304.11it/s]\u001b[A\n"
     ]
    }
   ],
   "source": [
    "import json\n",
    "import csv\n",
    "import glob\n",
    "from pathlib import Path\n",
    "from tqdm import tqdm\n",
    "\n",
    "import torch\n",
    "from torch.utils.data import DataLoader\n",
    "\n",
    "def parse_args():\n",
    "  \"\"\"arguments\"\"\"\n",
    "  config = {\n",
    "    \"data_dir\": \"../Dataset\",\n",
    "    \"model_path\": \"./model.ckpt\",\n",
    "    \"output_path\": \"./output.csv\",\n",
    "  }\n",
    "\n",
    "  return config\n",
    "\n",
    "\n",
    "def main(\n",
    "  data_dir,\n",
    "  model_path,\n",
    "  output_path,\n",
    "):\n",
    "  \"\"\"Main function.\"\"\"\n",
    "  device = torch.device(\"cuda\" if torch.cuda.is_available() else \"cpu\")\n",
    "  print(f\"[Info]: Use {device} now!\")\n",
    "\n",
    "  mapping_path = Path(data_dir) / \"mapping.json\"\n",
    "  mapping = json.load(mapping_path.open())\n",
    "\n",
    "  dataset = InferenceDataset(data_dir)\n",
    "  dataloader = DataLoader(\n",
    "    dataset,\n",
    "    batch_size=1,\n",
    "    shuffle=False,\n",
    "    drop_last=False,\n",
    "    num_workers=0,\n",
    "    collate_fn=inference_collate_batch,\n",
    "  )\n",
    "  print(f\"[Info]: Finish loading data!\",flush = True)\n",
    "\n",
    "  speaker_num = len(mapping[\"id2speaker\"])\n",
    "  model = Classifier(n_spks=speaker_num).to(device)\n",
    "  # new code to automatically find and load the best model\n",
    "  list_of_files = glob.glob(f\"./*.ckpt\")  # get list of all model files\n",
    "  print(list_of_files)\n",
    "  latest_file = max(list_of_files, key=lambda x: float(x.split('_')[2].split('.')[1]))  # get the best model file\n",
    "  print(f\"Loading from file {latest_file}\")\n",
    "  model.load_state_dict(torch.load(latest_file))\n",
    "  model.eval()\n",
    "  print(f\"[Info]: Finish creating model!\",flush = True)\n",
    "\n",
    "  results = [[\"Id\", \"Category\"]]\n",
    "  for feat_paths, mels in tqdm(dataloader):\n",
    "    with torch.no_grad():\n",
    "      mels = mels.to(device)\n",
    "      outs = model(mels)\n",
    "      preds = outs.argmax(1).cpu().numpy()\n",
    "      for feat_path, pred in zip(feat_paths, preds):\n",
    "        results.append([feat_path, mapping[\"id2speaker\"][str(pred)]])\n",
    "  \n",
    "  with open(output_path, 'w', newline='') as csvfile:\n",
    "    writer = csv.writer(csvfile)\n",
    "    writer.writerows(results)\n",
    "\n",
    "\n",
    "if __name__ == \"__main__\":\n",
    "  main(**parse_args())"
   ]
  }
 ],
 "metadata": {
  "accelerator": "GPU",
  "colab": {
   "collapsed_sections": [],
   "name": "HW04 (1).ipynb",
   "provenance": [],
   "toc_visible": true
  },
  "kernelspec": {
   "display_name": "Python 3 (ipykernel)",
   "language": "python",
   "name": "python3"
  },
  "language_info": {
   "codemirror_mode": {
    "name": "ipython",
    "version": 3
   },
   "file_extension": ".py",
   "mimetype": "text/x-python",
   "name": "python",
   "nbconvert_exporter": "python",
   "pygments_lexer": "ipython3",
   "version": "3.10.6"
  }
 },
 "nbformat": 4,
 "nbformat_minor": 4
}
